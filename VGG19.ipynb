{
 "cells": [
  {
   "cell_type": "markdown",
   "metadata": {
    "id": "999Xuus_hUFv"
   },
   "source": [
    "#VGG16"
   ]
  },
  {
   "cell_type": "code",
   "execution_count": 1,
   "metadata": {
    "executionInfo": {
     "elapsed": 5539,
     "status": "ok",
     "timestamp": 1703176872954,
     "user": {
      "displayName": "Sudipta Kr. Sarkar",
      "userId": "17750906442645932337"
     },
     "user_tz": -330
    },
    "id": "k-iG3B9nhTGk"
   },
   "outputs": [],
   "source": [
    "# Setting seeds to try and ensure we have the same results - this is not guaranteed across PyTorch releases.\n",
    "import torch\n",
    "torch.manual_seed(0)\n",
    "torch.backends.cudnn.deterministic = True\n",
    "torch.backends.cudnn.benchmark = False"
   ]
  },
  {
   "cell_type": "code",
   "execution_count": 2,
   "metadata": {
    "executionInfo": {
     "elapsed": 11,
     "status": "ok",
     "timestamp": 1703176872955,
     "user": {
      "displayName": "Sudipta Kr. Sarkar",
      "userId": "17750906442645932337"
     },
     "user_tz": -330
    },
    "id": "GxDchYyEo5Fe"
   },
   "outputs": [],
   "source": [
    "import torch.nn as nn\n",
    "import torch.nn.functional as F\n",
    "from torchvision import datasets, transforms, models\n",
    "from torch.utils.data import DataLoader"
   ]
  },
  {
   "cell_type": "code",
   "execution_count": 3,
   "metadata": {
    "colab": {
     "base_uri": "https://localhost:8080/"
    },
    "executionInfo": {
     "elapsed": 10,
     "status": "ok",
     "timestamp": 1703176872955,
     "user": {
      "displayName": "Sudipta Kr. Sarkar",
      "userId": "17750906442645932337"
     },
     "user_tz": -330
    },
    "id": "CYMYVmxMpX2z",
    "outputId": "a7007218-a551-496b-9197-6749adb4fd91"
   },
   "outputs": [
    {
     "data": {
      "text/plain": [
       "device(type='cuda')"
      ]
     },
     "execution_count": 3,
     "metadata": {},
     "output_type": "execute_result"
    }
   ],
   "source": [
    "device = torch.device('cuda' if torch.cuda.is_available() else 'cpu')\n",
    "device"
   ]
  },
  {
   "cell_type": "code",
   "execution_count": 4,
   "metadata": {
    "colab": {
     "base_uri": "https://localhost:8080/"
    },
    "executionInfo": {
     "elapsed": 8401,
     "status": "ok",
     "timestamp": 1703176881346,
     "user": {
      "displayName": "Sudipta Kr. Sarkar",
      "userId": "17750906442645932337"
     },
     "user_tz": -330
    },
    "id": "fJEw9S-Up23y",
    "outputId": "3244f1d6-7f4a-4f45-9ec6-117c4c024b82"
   },
   "outputs": [
    {
     "name": "stdout",
     "output_type": "stream",
     "text": [
      "Downloading https://www.cs.toronto.edu/~kriz/cifar-10-python.tar.gz to /root/.pytorch/CIFAR10/cifar-10-python.tar.gz\n"
     ]
    },
    {
     "name": "stderr",
     "output_type": "stream",
     "text": [
      "100%|██████████| 170498071/170498071 [00:03<00:00, 47366486.56it/s]\n"
     ]
    },
    {
     "name": "stdout",
     "output_type": "stream",
     "text": [
      "Extracting /root/.pytorch/CIFAR10/cifar-10-python.tar.gz to /root/.pytorch/CIFAR10\n"
     ]
    }
   ],
   "source": [
    "mean = [0.485, 0.456, 0.406]\n",
    "std = [0.229, 0.224, 0.225]\n",
    "\n",
    "transform = transforms.Compose([\n",
    "    transforms.Resize((224, 224)),\n",
    "    transforms.ToTensor(),\n",
    "    transforms.Normalize(mean=mean, std=std)\n",
    "    ])\n",
    "\n",
    "trainset = datasets.CIFAR10(root='~/.pytorch/CIFAR10',train=True, download=True,transform=transform)\n",
    "testset = datasets.CIFAR10(root='~/.pytorch/CIFAR10',train=False, transform=transform)\n",
    "\n",
    "trainloader = DataLoader(trainset, batch_size=64, shuffle=True)\n",
    "testloader = DataLoader(testset, batch_size=64, shuffle=False)"
   ]
  },
  {
   "cell_type": "code",
   "execution_count": 5,
   "metadata": {
    "colab": {
     "base_uri": "https://localhost:8080/"
    },
    "executionInfo": {
     "elapsed": 6,
     "status": "ok",
     "timestamp": 1703176881346,
     "user": {
      "displayName": "Sudipta Kr. Sarkar",
      "userId": "17750906442645932337"
     },
     "user_tz": -330
    },
    "id": "R1CRA2mdqZ8R",
    "outputId": "928f2660-437f-4cb4-aa7c-830f18ffa403"
   },
   "outputs": [
    {
     "name": "stdout",
     "output_type": "stream",
     "text": [
      "torch.Size([64, 3, 224, 224]) torch.Size([64])\n"
     ]
    }
   ],
   "source": [
    "for images, labels in trainloader:\n",
    "  print(images.size(), labels.size())\n",
    "  break"
   ]
  },
  {
   "cell_type": "code",
   "execution_count": 6,
   "metadata": {
    "colab": {
     "base_uri": "https://localhost:8080/"
    },
    "executionInfo": {
     "elapsed": 6779,
     "status": "ok",
     "timestamp": 1703176888121,
     "user": {
      "displayName": "Sudipta Kr. Sarkar",
      "userId": "17750906442645932337"
     },
     "user_tz": -330
    },
    "id": "wnjvoyksslmX",
    "outputId": "e789f758-22d2-4148-9706-e5fc5c96a99f"
   },
   "outputs": [
    {
     "name": "stderr",
     "output_type": "stream",
     "text": [
      "/usr/local/lib/python3.10/dist-packages/torchvision/models/_utils.py:208: UserWarning: The parameter 'pretrained' is deprecated since 0.13 and may be removed in the future, please use 'weights' instead.\n",
      "  warnings.warn(\n",
      "/usr/local/lib/python3.10/dist-packages/torchvision/models/_utils.py:223: UserWarning: Arguments other than a weight enum or `None` for 'weights' are deprecated since 0.13 and may be removed in the future. The current behavior is equivalent to passing `weights=VGG16_Weights.IMAGENET1K_V1`. You can also use `weights=VGG16_Weights.DEFAULT` to get the most up-to-date weights.\n",
      "  warnings.warn(msg)\n",
      "Downloading: \"https://download.pytorch.org/models/vgg16-397923af.pth\" to /root/.cache/torch/hub/checkpoints/vgg16-397923af.pth\n",
      "100%|██████████| 528M/528M [00:06<00:00, 86.8MB/s]\n"
     ]
    },
    {
     "data": {
      "text/plain": [
       "VGG(\n",
       "  (features): Sequential(\n",
       "    (0): Conv2d(3, 64, kernel_size=(3, 3), stride=(1, 1), padding=(1, 1))\n",
       "    (1): ReLU(inplace=True)\n",
       "    (2): Conv2d(64, 64, kernel_size=(3, 3), stride=(1, 1), padding=(1, 1))\n",
       "    (3): ReLU(inplace=True)\n",
       "    (4): MaxPool2d(kernel_size=2, stride=2, padding=0, dilation=1, ceil_mode=False)\n",
       "    (5): Conv2d(64, 128, kernel_size=(3, 3), stride=(1, 1), padding=(1, 1))\n",
       "    (6): ReLU(inplace=True)\n",
       "    (7): Conv2d(128, 128, kernel_size=(3, 3), stride=(1, 1), padding=(1, 1))\n",
       "    (8): ReLU(inplace=True)\n",
       "    (9): MaxPool2d(kernel_size=2, stride=2, padding=0, dilation=1, ceil_mode=False)\n",
       "    (10): Conv2d(128, 256, kernel_size=(3, 3), stride=(1, 1), padding=(1, 1))\n",
       "    (11): ReLU(inplace=True)\n",
       "    (12): Conv2d(256, 256, kernel_size=(3, 3), stride=(1, 1), padding=(1, 1))\n",
       "    (13): ReLU(inplace=True)\n",
       "    (14): Conv2d(256, 256, kernel_size=(3, 3), stride=(1, 1), padding=(1, 1))\n",
       "    (15): ReLU(inplace=True)\n",
       "    (16): MaxPool2d(kernel_size=2, stride=2, padding=0, dilation=1, ceil_mode=False)\n",
       "    (17): Conv2d(256, 512, kernel_size=(3, 3), stride=(1, 1), padding=(1, 1))\n",
       "    (18): ReLU(inplace=True)\n",
       "    (19): Conv2d(512, 512, kernel_size=(3, 3), stride=(1, 1), padding=(1, 1))\n",
       "    (20): ReLU(inplace=True)\n",
       "    (21): Conv2d(512, 512, kernel_size=(3, 3), stride=(1, 1), padding=(1, 1))\n",
       "    (22): ReLU(inplace=True)\n",
       "    (23): MaxPool2d(kernel_size=2, stride=2, padding=0, dilation=1, ceil_mode=False)\n",
       "    (24): Conv2d(512, 512, kernel_size=(3, 3), stride=(1, 1), padding=(1, 1))\n",
       "    (25): ReLU(inplace=True)\n",
       "    (26): Conv2d(512, 512, kernel_size=(3, 3), stride=(1, 1), padding=(1, 1))\n",
       "    (27): ReLU(inplace=True)\n",
       "    (28): Conv2d(512, 512, kernel_size=(3, 3), stride=(1, 1), padding=(1, 1))\n",
       "    (29): ReLU(inplace=True)\n",
       "    (30): MaxPool2d(kernel_size=2, stride=2, padding=0, dilation=1, ceil_mode=False)\n",
       "  )\n",
       "  (avgpool): AdaptiveAvgPool2d(output_size=(7, 7))\n",
       "  (classifier): Sequential(\n",
       "    (0): Linear(in_features=25088, out_features=4096, bias=True)\n",
       "    (1): ReLU(inplace=True)\n",
       "    (2): Dropout(p=0.5, inplace=False)\n",
       "    (3): Linear(in_features=4096, out_features=4096, bias=True)\n",
       "    (4): ReLU(inplace=True)\n",
       "    (5): Dropout(p=0.5, inplace=False)\n",
       "    (6): Linear(in_features=4096, out_features=1000, bias=True)\n",
       "  )\n",
       ")"
      ]
     },
     "execution_count": 6,
     "metadata": {},
     "output_type": "execute_result"
    }
   ],
   "source": [
    "model = models.vgg16(pretrained=True)\n",
    "model"
   ]
  },
  {
   "cell_type": "code",
   "execution_count": 7,
   "metadata": {
    "colab": {
     "base_uri": "https://localhost:8080/"
    },
    "executionInfo": {
     "elapsed": 23,
     "status": "ok",
     "timestamp": 1703176888122,
     "user": {
      "displayName": "Sudipta Kr. Sarkar",
      "userId": "17750906442645932337"
     },
     "user_tz": -330
    },
    "id": "5kuGHWRnslkH",
    "outputId": "26e4ff15-a53a-4dfb-bf9a-20c78773e540"
   },
   "outputs": [
    {
     "data": {
      "text/plain": [
       "Sequential(\n",
       "  (0): Conv2d(3, 64, kernel_size=(3, 3), stride=(1, 1), padding=(1, 1))\n",
       "  (1): ReLU(inplace=True)\n",
       "  (2): Conv2d(64, 64, kernel_size=(3, 3), stride=(1, 1), padding=(1, 1))\n",
       "  (3): ReLU(inplace=True)\n",
       "  (4): MaxPool2d(kernel_size=2, stride=2, padding=0, dilation=1, ceil_mode=False)\n",
       "  (5): Conv2d(64, 128, kernel_size=(3, 3), stride=(1, 1), padding=(1, 1))\n",
       "  (6): ReLU(inplace=True)\n",
       "  (7): Conv2d(128, 128, kernel_size=(3, 3), stride=(1, 1), padding=(1, 1))\n",
       "  (8): ReLU(inplace=True)\n",
       "  (9): MaxPool2d(kernel_size=2, stride=2, padding=0, dilation=1, ceil_mode=False)\n",
       "  (10): Conv2d(128, 256, kernel_size=(3, 3), stride=(1, 1), padding=(1, 1))\n",
       "  (11): ReLU(inplace=True)\n",
       "  (12): Conv2d(256, 256, kernel_size=(3, 3), stride=(1, 1), padding=(1, 1))\n",
       "  (13): ReLU(inplace=True)\n",
       "  (14): Conv2d(256, 256, kernel_size=(3, 3), stride=(1, 1), padding=(1, 1))\n",
       "  (15): ReLU(inplace=True)\n",
       "  (16): MaxPool2d(kernel_size=2, stride=2, padding=0, dilation=1, ceil_mode=False)\n",
       "  (17): Conv2d(256, 512, kernel_size=(3, 3), stride=(1, 1), padding=(1, 1))\n",
       "  (18): ReLU(inplace=True)\n",
       "  (19): Conv2d(512, 512, kernel_size=(3, 3), stride=(1, 1), padding=(1, 1))\n",
       "  (20): ReLU(inplace=True)\n",
       "  (21): Conv2d(512, 512, kernel_size=(3, 3), stride=(1, 1), padding=(1, 1))\n",
       "  (22): ReLU(inplace=True)\n",
       "  (23): MaxPool2d(kernel_size=2, stride=2, padding=0, dilation=1, ceil_mode=False)\n",
       "  (24): Conv2d(512, 512, kernel_size=(3, 3), stride=(1, 1), padding=(1, 1))\n",
       "  (25): ReLU(inplace=True)\n",
       "  (26): Conv2d(512, 512, kernel_size=(3, 3), stride=(1, 1), padding=(1, 1))\n",
       "  (27): ReLU(inplace=True)\n",
       "  (28): Conv2d(512, 512, kernel_size=(3, 3), stride=(1, 1), padding=(1, 1))\n",
       "  (29): ReLU(inplace=True)\n",
       "  (30): MaxPool2d(kernel_size=2, stride=2, padding=0, dilation=1, ceil_mode=False)\n",
       ")"
      ]
     },
     "execution_count": 7,
     "metadata": {},
     "output_type": "execute_result"
    }
   ],
   "source": [
    "# For Checking Feature Section\n",
    "model.features"
   ]
  },
  {
   "cell_type": "code",
   "execution_count": 8,
   "metadata": {
    "colab": {
     "base_uri": "https://localhost:8080/"
    },
    "executionInfo": {
     "elapsed": 20,
     "status": "ok",
     "timestamp": 1703176888122,
     "user": {
      "displayName": "Sudipta Kr. Sarkar",
      "userId": "17750906442645932337"
     },
     "user_tz": -330
    },
    "id": "mFsCiOFGslh3",
    "outputId": "da070868-fe98-48fc-99a2-9b181be9b987"
   },
   "outputs": [
    {
     "data": {
      "text/plain": [
       "Sequential(\n",
       "  (0): Linear(in_features=25088, out_features=4096, bias=True)\n",
       "  (1): ReLU(inplace=True)\n",
       "  (2): Dropout(p=0.5, inplace=False)\n",
       "  (3): Linear(in_features=4096, out_features=4096, bias=True)\n",
       "  (4): ReLU(inplace=True)\n",
       "  (5): Dropout(p=0.5, inplace=False)\n",
       "  (6): Linear(in_features=4096, out_features=1000, bias=True)\n",
       ")"
      ]
     },
     "execution_count": 8,
     "metadata": {},
     "output_type": "execute_result"
    }
   ],
   "source": [
    "model.classifier"
   ]
  },
  {
   "cell_type": "code",
   "execution_count": 9,
   "metadata": {
    "executionInfo": {
     "elapsed": 18,
     "status": "ok",
     "timestamp": 1703176888122,
     "user": {
      "displayName": "Sudipta Kr. Sarkar",
      "userId": "17750906442645932337"
     },
     "user_tz": -330
    },
    "id": "fm0FcYeRslfP"
   },
   "outputs": [],
   "source": [
    "for param in model.parameters():\n",
    "    param.requires_grad = False"
   ]
  },
  {
   "cell_type": "code",
   "execution_count": 10,
   "metadata": {
    "executionInfo": {
     "elapsed": 18,
     "status": "ok",
     "timestamp": 1703176888122,
     "user": {
      "displayName": "Sudipta Kr. Sarkar",
      "userId": "17750906442645932337"
     },
     "user_tz": -330
    },
    "id": "iwKmDi09slc3"
   },
   "outputs": [],
   "source": [
    "model.classifier[-1] = nn.Sequential(\n",
    "              nn.Linear(in_features=4096, out_features=10),\n",
    "              nn.LogSoftmax(dim=1)\n",
    "              )"
   ]
  },
  {
   "cell_type": "code",
   "execution_count": 11,
   "metadata": {
    "colab": {
     "base_uri": "https://localhost:8080/"
    },
    "executionInfo": {
     "elapsed": 18,
     "status": "ok",
     "timestamp": 1703176888122,
     "user": {
      "displayName": "Sudipta Kr. Sarkar",
      "userId": "17750906442645932337"
     },
     "user_tz": -330
    },
    "id": "q-amS1IfsKif",
    "outputId": "b3007b9d-e4c0-4f87-a633-1e02571a113f"
   },
   "outputs": [
    {
     "data": {
      "text/plain": [
       "Sequential(\n",
       "  (0): Linear(in_features=25088, out_features=4096, bias=True)\n",
       "  (1): ReLU(inplace=True)\n",
       "  (2): Dropout(p=0.5, inplace=False)\n",
       "  (3): Linear(in_features=4096, out_features=4096, bias=True)\n",
       "  (4): ReLU(inplace=True)\n",
       "  (5): Dropout(p=0.5, inplace=False)\n",
       "  (6): Sequential(\n",
       "    (0): Linear(in_features=4096, out_features=10, bias=True)\n",
       "    (1): LogSoftmax(dim=1)\n",
       "  )\n",
       ")"
      ]
     },
     "execution_count": 11,
     "metadata": {},
     "output_type": "execute_result"
    }
   ],
   "source": [
    "# For Checking the modified Classifier\n",
    "model.classifier"
   ]
  },
  {
   "cell_type": "code",
   "execution_count": 12,
   "metadata": {
    "executionInfo": {
     "elapsed": 17,
     "status": "ok",
     "timestamp": 1703176888122,
     "user": {
      "displayName": "Sudipta Kr. Sarkar",
      "userId": "17750906442645932337"
     },
     "user_tz": -330
    },
    "id": "u3ljFhUusKgb"
   },
   "outputs": [],
   "source": [
    "criterion = nn.NLLLoss()"
   ]
  },
  {
   "cell_type": "code",
   "execution_count": 13,
   "metadata": {
    "colab": {
     "base_uri": "https://localhost:8080/"
    },
    "executionInfo": {
     "elapsed": 17,
     "status": "ok",
     "timestamp": 1703176888122,
     "user": {
      "displayName": "Sudipta Kr. Sarkar",
      "userId": "17750906442645932337"
     },
     "user_tz": -330
    },
    "id": "VM-J10IksKd3",
    "outputId": "3a6a9999-460d-4123-fa49-bcc8a304fa89"
   },
   "outputs": [
    {
     "data": {
      "text/plain": [
       "tensor([[ 0.2912,  1.6909, -1.1488],\n",
       "        [-1.3980, -0.4260, -0.1896],\n",
       "        [-1.3463,  1.0735, -0.0482],\n",
       "        [ 1.6063,  0.7751, -0.5726]], requires_grad=True)"
      ]
     },
     "execution_count": 13,
     "metadata": {},
     "output_type": "execute_result"
    }
   ],
   "source": [
    "w = torch.randn(4,3,requires_grad=True)\n",
    "w"
   ]
  },
  {
   "cell_type": "code",
   "execution_count": 14,
   "metadata": {
    "colab": {
     "base_uri": "https://localhost:8080/"
    },
    "executionInfo": {
     "elapsed": 16,
     "status": "ok",
     "timestamp": 1703176888122,
     "user": {
      "displayName": "Sudipta Kr. Sarkar",
      "userId": "17750906442645932337"
     },
     "user_tz": -330
    },
    "id": "nd-kpr-NsKbf",
    "outputId": "1c494622-a046-4cd6-c13f-64add523b736"
   },
   "outputs": [
    {
     "data": {
      "text/plain": [
       "tensor([[ 0.2912,  1.6909, -1.1488],\n",
       "        [-1.3980, -0.4260, -0.1896],\n",
       "        [-1.3463,  1.0735, -0.0482],\n",
       "        [ 1.6063,  0.7751, -0.5726]])"
      ]
     },
     "execution_count": 14,
     "metadata": {},
     "output_type": "execute_result"
    }
   ],
   "source": [
    "w.requires_grad_(False)"
   ]
  },
  {
   "cell_type": "code",
   "execution_count": 15,
   "metadata": {
    "colab": {
     "base_uri": "https://localhost:8080/"
    },
    "executionInfo": {
     "elapsed": 17,
     "status": "ok",
     "timestamp": 1703176888123,
     "user": {
      "displayName": "Sudipta Kr. Sarkar",
      "userId": "17750906442645932337"
     },
     "user_tz": -330
    },
    "id": "PcGMOfvnnylN",
    "outputId": "01940702-9dd1-4448-bf88-6dce212b2a87"
   },
   "outputs": [
    {
     "data": {
      "text/plain": [
       "tensor([[ 0.2912,  1.6909, -1.1488],\n",
       "        [-1.3980, -0.4260, -0.1896],\n",
       "        [-1.3463,  1.0735, -0.0482],\n",
       "        [ 1.6063,  0.7751, -0.5726]], requires_grad=True)"
      ]
     },
     "execution_count": 15,
     "metadata": {},
     "output_type": "execute_result"
    }
   ],
   "source": [
    "w.requires_grad_(True)"
   ]
  },
  {
   "cell_type": "code",
   "execution_count": 16,
   "metadata": {
    "colab": {
     "base_uri": "https://localhost:8080/"
    },
    "executionInfo": {
     "elapsed": 16,
     "status": "ok",
     "timestamp": 1703176888123,
     "user": {
      "displayName": "Sudipta Kr. Sarkar",
      "userId": "17750906442645932337"
     },
     "user_tz": -330
    },
    "id": "-roflG7fn476",
    "outputId": "ebb46132-b104-471d-c41d-9e745596bbc8"
   },
   "outputs": [
    {
     "name": "stdout",
     "output_type": "stream",
     "text": [
      "tensor([[1.3381, 5.4243, 0.3170],\n",
      "        [0.2471, 0.6531, 0.8273],\n",
      "        [0.2602, 2.9257, 0.9529],\n",
      "        [4.9841, 2.1707, 0.5641]], grad_fn=<ExpBackward0>)\n"
     ]
    }
   ],
   "source": [
    "y = torch.exp(w)\n",
    "print(y)"
   ]
  },
  {
   "cell_type": "code",
   "execution_count": 17,
   "metadata": {
    "colab": {
     "base_uri": "https://localhost:8080/"
    },
    "executionInfo": {
     "elapsed": 15,
     "status": "ok",
     "timestamp": 1703176888123,
     "user": {
      "displayName": "Sudipta Kr. Sarkar",
      "userId": "17750906442645932337"
     },
     "user_tz": -330
    },
    "id": "471_Y-ICoC92",
    "outputId": "10eb4188-5a82-4ae2-d07e-311cdbfd48aa"
   },
   "outputs": [
    {
     "name": "stdout",
     "output_type": "stream",
     "text": [
      "<ExpBackward0 object at 0x7d879eeb4ac0>\n"
     ]
    }
   ],
   "source": [
    "print(y.grad_fn) # Auto Calculation of gradient by Autograd"
   ]
  },
  {
   "cell_type": "code",
   "execution_count": 18,
   "metadata": {
    "colab": {
     "base_uri": "https://localhost:8080/"
    },
    "executionInfo": {
     "elapsed": 15,
     "status": "ok",
     "timestamp": 1703176888123,
     "user": {
      "displayName": "Sudipta Kr. Sarkar",
      "userId": "17750906442645932337"
     },
     "user_tz": -330
    },
    "id": "6Cm0-wHGoQRC",
    "outputId": "3689d293-0c7b-4bc8-a6b6-3de5bb43061d"
   },
   "outputs": [
    {
     "name": "stdout",
     "output_type": "stream",
     "text": [
      "tensor(1.7221, grad_fn=<MeanBackward0>)\n"
     ]
    }
   ],
   "source": [
    "output = y.mean()\n",
    "print(output)"
   ]
  },
  {
   "cell_type": "code",
   "execution_count": 19,
   "metadata": {
    "colab": {
     "base_uri": "https://localhost:8080/"
    },
    "executionInfo": {
     "elapsed": 14,
     "status": "ok",
     "timestamp": 1703176888123,
     "user": {
      "displayName": "Sudipta Kr. Sarkar",
      "userId": "17750906442645932337"
     },
     "user_tz": -330
    },
    "id": "fu9E2XnToca5",
    "outputId": "1d24a90e-e9ab-46e5-e47b-fcbce4bf566d"
   },
   "outputs": [
    {
     "name": "stdout",
     "output_type": "stream",
     "text": [
      "None\n"
     ]
    }
   ],
   "source": [
    "# The Grad is None Because Backward Function on output function\n",
    "print(w.grad)"
   ]
  },
  {
   "cell_type": "code",
   "execution_count": 20,
   "metadata": {
    "colab": {
     "base_uri": "https://localhost:8080/"
    },
    "executionInfo": {
     "elapsed": 13,
     "status": "ok",
     "timestamp": 1703176888123,
     "user": {
      "displayName": "Sudipta Kr. Sarkar",
      "userId": "17750906442645932337"
     },
     "user_tz": -330
    },
    "id": "bx-kAJ-ZojhE",
    "outputId": "ebe79c03-9a06-4c0f-ce47-a0636c35f873"
   },
   "outputs": [
    {
     "name": "stdout",
     "output_type": "stream",
     "text": [
      "tensor([[0.1115, 0.4520, 0.0264],\n",
      "        [0.0206, 0.0544, 0.0689],\n",
      "        [0.0217, 0.2438, 0.0794],\n",
      "        [0.4153, 0.1809, 0.0470]])\n"
     ]
    }
   ],
   "source": [
    "output.backward()\n",
    "print(w.grad)"
   ]
  },
  {
   "cell_type": "code",
   "execution_count": 21,
   "metadata": {
    "colab": {
     "base_uri": "https://localhost:8080/"
    },
    "executionInfo": {
     "elapsed": 13,
     "status": "ok",
     "timestamp": 1703176888123,
     "user": {
      "displayName": "Sudipta Kr. Sarkar",
      "userId": "17750906442645932337"
     },
     "user_tz": -330
    },
    "id": "3dYLy36Uo-m1",
    "outputId": "141d1edf-ebc8-4786-e2cd-d455b2c29d26"
   },
   "outputs": [
    {
     "name": "stdout",
     "output_type": "stream",
     "text": [
      "True\n"
     ]
    }
   ],
   "source": [
    "print(output.requires_grad)"
   ]
  },
  {
   "cell_type": "code",
   "execution_count": 22,
   "metadata": {
    "colab": {
     "base_uri": "https://localhost:8080/"
    },
    "executionInfo": {
     "elapsed": 12,
     "status": "ok",
     "timestamp": 1703176888123,
     "user": {
      "displayName": "Sudipta Kr. Sarkar",
      "userId": "17750906442645932337"
     },
     "user_tz": -330
    },
    "id": "-tkMrXCwpKY4",
    "outputId": "116254f1-740e-4784-e74f-681c0ab0c28c"
   },
   "outputs": [
    {
     "name": "stdout",
     "output_type": "stream",
     "text": [
      "False\n"
     ]
    }
   ],
   "source": [
    "with torch.no_grad():\n",
    "  output = (w+y).mean()\n",
    "  print(output.requires_grad)"
   ]
  },
  {
   "cell_type": "markdown",
   "metadata": {},
   "source": [
    "**You Can Ignore All the Above as it is a part of custom back prop algo**"
   ]
  },
  {
   "cell_type": "code",
   "execution_count": 2,
   "metadata": {
    "executionInfo": {
     "elapsed": 788,
     "status": "ok",
     "timestamp": 1703179778340,
     "user": {
      "displayName": "Sudipta Kr. Sarkar",
      "userId": "17750906442645932337"
     },
     "user_tz": -330
    },
    "id": "xlP7Na2mpVaK"
   },
   "outputs": [
    {
     "name": "stdout",
     "output_type": "stream",
     "text": [
      "Collecting tensorflow\n",
      "  Using cached tensorflow-2.16.1-cp311-cp311-win_amd64.whl.metadata (3.5 kB)\n",
      "Collecting tensorflow-intel==2.16.1 (from tensorflow)\n",
      "  Using cached tensorflow_intel-2.16.1-cp311-cp311-win_amd64.whl.metadata (5.0 kB)\n",
      "Collecting absl-py>=1.0.0 (from tensorflow-intel==2.16.1->tensorflow)\n",
      "  Using cached absl_py-2.1.0-py3-none-any.whl.metadata (2.3 kB)\n",
      "Collecting astunparse>=1.6.0 (from tensorflow-intel==2.16.1->tensorflow)\n",
      "  Using cached astunparse-1.6.3-py2.py3-none-any.whl.metadata (4.4 kB)\n",
      "Collecting flatbuffers>=23.5.26 (from tensorflow-intel==2.16.1->tensorflow)\n",
      "  Using cached flatbuffers-24.3.25-py2.py3-none-any.whl.metadata (850 bytes)\n",
      "Collecting gast!=0.5.0,!=0.5.1,!=0.5.2,>=0.2.1 (from tensorflow-intel==2.16.1->tensorflow)\n",
      "  Using cached gast-0.5.4-py3-none-any.whl.metadata (1.3 kB)\n",
      "Collecting google-pasta>=0.1.1 (from tensorflow-intel==2.16.1->tensorflow)\n",
      "  Using cached google_pasta-0.2.0-py3-none-any.whl.metadata (814 bytes)\n",
      "Collecting h5py>=3.10.0 (from tensorflow-intel==2.16.1->tensorflow)\n",
      "  Using cached h5py-3.11.0-cp311-cp311-win_amd64.whl.metadata (2.5 kB)\n",
      "Collecting libclang>=13.0.0 (from tensorflow-intel==2.16.1->tensorflow)\n",
      "  Using cached libclang-18.1.1-py2.py3-none-win_amd64.whl.metadata (5.3 kB)\n",
      "Collecting ml-dtypes~=0.3.1 (from tensorflow-intel==2.16.1->tensorflow)\n",
      "  Using cached ml_dtypes-0.3.2-cp311-cp311-win_amd64.whl.metadata (20 kB)\n",
      "Collecting opt-einsum>=2.3.2 (from tensorflow-intel==2.16.1->tensorflow)\n",
      "  Using cached opt_einsum-3.3.0-py3-none-any.whl.metadata (6.5 kB)\n",
      "Requirement already satisfied: packaging in c:\\users\\sudee\\anaconda3\\lib\\site-packages (from tensorflow-intel==2.16.1->tensorflow) (23.1)\n",
      "Requirement already satisfied: protobuf!=4.21.0,!=4.21.1,!=4.21.2,!=4.21.3,!=4.21.4,!=4.21.5,<5.0.0dev,>=3.20.3 in c:\\users\\sudee\\anaconda3\\lib\\site-packages (from tensorflow-intel==2.16.1->tensorflow) (3.20.3)\n",
      "Requirement already satisfied: requests<3,>=2.21.0 in c:\\users\\sudee\\anaconda3\\lib\\site-packages (from tensorflow-intel==2.16.1->tensorflow) (2.31.0)\n",
      "Requirement already satisfied: setuptools in c:\\users\\sudee\\anaconda3\\lib\\site-packages (from tensorflow-intel==2.16.1->tensorflow) (68.2.2)\n",
      "Requirement already satisfied: six>=1.12.0 in c:\\users\\sudee\\anaconda3\\lib\\site-packages (from tensorflow-intel==2.16.1->tensorflow) (1.16.0)\n",
      "Collecting termcolor>=1.1.0 (from tensorflow-intel==2.16.1->tensorflow)\n",
      "  Using cached termcolor-2.4.0-py3-none-any.whl.metadata (6.1 kB)\n",
      "Requirement already satisfied: typing-extensions>=3.6.6 in c:\\users\\sudee\\anaconda3\\lib\\site-packages (from tensorflow-intel==2.16.1->tensorflow) (4.9.0)\n",
      "Requirement already satisfied: wrapt>=1.11.0 in c:\\users\\sudee\\anaconda3\\lib\\site-packages (from tensorflow-intel==2.16.1->tensorflow) (1.14.1)\n",
      "Collecting grpcio<2.0,>=1.24.3 (from tensorflow-intel==2.16.1->tensorflow)\n",
      "  Using cached grpcio-1.62.2-cp311-cp311-win_amd64.whl.metadata (4.2 kB)\n",
      "Collecting tensorboard<2.17,>=2.16 (from tensorflow-intel==2.16.1->tensorflow)\n",
      "  Using cached tensorboard-2.16.2-py3-none-any.whl.metadata (1.6 kB)\n",
      "Collecting keras>=3.0.0 (from tensorflow-intel==2.16.1->tensorflow)\n",
      "  Using cached keras-3.3.2-py3-none-any.whl.metadata (5.7 kB)\n",
      "Collecting tensorflow-io-gcs-filesystem>=0.23.1 (from tensorflow-intel==2.16.1->tensorflow)\n",
      "  Using cached tensorflow_io_gcs_filesystem-0.31.0-cp311-cp311-win_amd64.whl.metadata (14 kB)\n",
      "Requirement already satisfied: numpy<2.0.0,>=1.23.5 in c:\\users\\sudee\\anaconda3\\lib\\site-packages (from tensorflow-intel==2.16.1->tensorflow) (1.26.4)\n",
      "Requirement already satisfied: wheel<1.0,>=0.23.0 in c:\\users\\sudee\\anaconda3\\lib\\site-packages (from astunparse>=1.6.0->tensorflow-intel==2.16.1->tensorflow) (0.41.2)\n",
      "Requirement already satisfied: rich in c:\\users\\sudee\\anaconda3\\lib\\site-packages (from keras>=3.0.0->tensorflow-intel==2.16.1->tensorflow) (13.3.5)\n",
      "Collecting namex (from keras>=3.0.0->tensorflow-intel==2.16.1->tensorflow)\n",
      "  Using cached namex-0.0.8-py3-none-any.whl.metadata (246 bytes)\n",
      "Collecting optree (from keras>=3.0.0->tensorflow-intel==2.16.1->tensorflow)\n",
      "  Using cached optree-0.11.0-cp311-cp311-win_amd64.whl.metadata (46 kB)\n",
      "Requirement already satisfied: charset-normalizer<4,>=2 in c:\\users\\sudee\\anaconda3\\lib\\site-packages (from requests<3,>=2.21.0->tensorflow-intel==2.16.1->tensorflow) (2.0.4)\n",
      "Requirement already satisfied: idna<4,>=2.5 in c:\\users\\sudee\\anaconda3\\lib\\site-packages (from requests<3,>=2.21.0->tensorflow-intel==2.16.1->tensorflow) (3.4)\n",
      "Requirement already satisfied: urllib3<3,>=1.21.1 in c:\\users\\sudee\\anaconda3\\lib\\site-packages (from requests<3,>=2.21.0->tensorflow-intel==2.16.1->tensorflow) (2.0.7)\n",
      "Requirement already satisfied: certifi>=2017.4.17 in c:\\users\\sudee\\anaconda3\\lib\\site-packages (from requests<3,>=2.21.0->tensorflow-intel==2.16.1->tensorflow) (2024.2.2)\n",
      "Requirement already satisfied: markdown>=2.6.8 in c:\\users\\sudee\\anaconda3\\lib\\site-packages (from tensorboard<2.17,>=2.16->tensorflow-intel==2.16.1->tensorflow) (3.4.1)\n",
      "Collecting tensorboard-data-server<0.8.0,>=0.7.0 (from tensorboard<2.17,>=2.16->tensorflow-intel==2.16.1->tensorflow)\n",
      "  Using cached tensorboard_data_server-0.7.2-py3-none-any.whl.metadata (1.1 kB)\n",
      "Requirement already satisfied: werkzeug>=1.0.1 in c:\\users\\sudee\\anaconda3\\lib\\site-packages (from tensorboard<2.17,>=2.16->tensorflow-intel==2.16.1->tensorflow) (2.2.3)\n",
      "Requirement already satisfied: MarkupSafe>=2.1.1 in c:\\users\\sudee\\anaconda3\\lib\\site-packages (from werkzeug>=1.0.1->tensorboard<2.17,>=2.16->tensorflow-intel==2.16.1->tensorflow) (2.1.3)\n",
      "Requirement already satisfied: markdown-it-py<3.0.0,>=2.2.0 in c:\\users\\sudee\\anaconda3\\lib\\site-packages (from rich->keras>=3.0.0->tensorflow-intel==2.16.1->tensorflow) (2.2.0)\n",
      "Requirement already satisfied: pygments<3.0.0,>=2.13.0 in c:\\users\\sudee\\anaconda3\\lib\\site-packages (from rich->keras>=3.0.0->tensorflow-intel==2.16.1->tensorflow) (2.15.1)\n",
      "Requirement already satisfied: mdurl~=0.1 in c:\\users\\sudee\\anaconda3\\lib\\site-packages (from markdown-it-py<3.0.0,>=2.2.0->rich->keras>=3.0.0->tensorflow-intel==2.16.1->tensorflow) (0.1.0)\n",
      "Using cached tensorflow-2.16.1-cp311-cp311-win_amd64.whl (2.1 kB)\n",
      "Downloading tensorflow_intel-2.16.1-cp311-cp311-win_amd64.whl (377.0 MB)\n",
      "   ---------------------------------------- 0.0/377.0 MB ? eta -:--:--\n",
      "   ---------------------------------------- 0.1/377.0 MB ? eta -:--:--\n",
      "   ---------------------------------------- 0.1/377.0 MB 1.4 MB/s eta 0:04:24\n",
      "   ---------------------------------------- 0.2/377.0 MB 1.2 MB/s eta 0:05:22\n",
      "   ---------------------------------------- 0.2/377.0 MB 1.1 MB/s eta 0:05:32\n",
      "   ---------------------------------------- 0.2/377.0 MB 919.0 kB/s eta 0:06:50\n",
      "   ---------------------------------------- 0.2/377.0 MB 850.1 kB/s eta 0:07:24\n",
      "   ---------------------------------------- 0.3/377.0 MB 886.2 kB/s eta 0:07:06\n",
      "   ---------------------------------------- 0.3/377.0 MB 827.2 kB/s eta 0:07:36\n",
      "   ---------------------------------------- 0.3/377.0 MB 778.3 kB/s eta 0:08:04\n",
      "   ---------------------------------------- 0.4/377.0 MB 765.8 kB/s eta 0:08:12\n",
      "   ---------------------------------------- 0.4/377.0 MB 795.3 kB/s eta 0:07:54\n",
      "   ---------------------------------------- 0.5/377.0 MB 783.5 kB/s eta 0:08:01\n",
      "   ---------------------------------------- 0.5/377.0 MB 773.5 kB/s eta 0:08:07\n",
      "   ---------------------------------------- 0.5/377.0 MB 800.0 kB/s eta 0:07:51\n",
      "   ---------------------------------------- 0.6/377.0 MB 834.7 kB/s eta 0:07:31\n",
      "   ---------------------------------------- 0.7/377.0 MB 896.8 kB/s eta 0:07:00\n",
      "   ---------------------------------------- 0.8/377.0 MB 945.8 kB/s eta 0:06:38\n",
      "   ---------------------------------------- 0.9/377.0 MB 1.0 MB/s eta 0:06:07\n",
      "   ---------------------------------------- 1.0/377.0 MB 1.1 MB/s eta 0:05:40\n",
      "   ---------------------------------------- 1.1/377.0 MB 1.2 MB/s eta 0:05:21\n",
      "   ---------------------------------------- 1.3/377.0 MB 1.2 MB/s eta 0:05:01\n",
      "   ---------------------------------------- 1.4/377.0 MB 1.3 MB/s eta 0:04:53\n",
      "   ---------------------------------------- 1.5/377.0 MB 1.3 MB/s eta 0:04:39\n",
      "   ---------------------------------------- 1.6/377.0 MB 1.4 MB/s eta 0:04:32\n",
      "   ---------------------------------------- 1.7/377.0 MB 1.4 MB/s eta 0:04:24\n",
      "   ---------------------------------------- 1.8/377.0 MB 1.5 MB/s eta 0:04:14\n",
      "   ---------------------------------------- 1.9/377.0 MB 1.5 MB/s eta 0:04:09\n",
      "   ---------------------------------------- 2.1/377.0 MB 1.5 MB/s eta 0:04:04\n",
      "   ---------------------------------------- 2.2/377.0 MB 1.6 MB/s eta 0:03:58\n",
      "   ---------------------------------------- 2.3/377.0 MB 1.6 MB/s eta 0:03:55\n",
      "   ---------------------------------------- 2.4/377.0 MB 1.6 MB/s eta 0:03:49\n",
      "   ---------------------------------------- 2.5/377.0 MB 1.6 MB/s eta 0:03:48\n",
      "   ---------------------------------------- 2.7/377.0 MB 1.7 MB/s eta 0:03:43\n",
      "   ---------------------------------------- 2.7/377.0 MB 1.7 MB/s eta 0:03:41\n",
      "   ---------------------------------------- 2.9/377.0 MB 1.8 MB/s eta 0:03:34\n",
      "   ---------------------------------------- 3.1/377.0 MB 1.8 MB/s eta 0:03:28\n",
      "   ---------------------------------------- 3.2/377.0 MB 1.8 MB/s eta 0:03:25\n",
      "   ---------------------------------------- 3.4/377.0 MB 1.9 MB/s eta 0:03:19\n",
      "   ---------------------------------------- 3.6/377.0 MB 1.9 MB/s eta 0:03:15\n",
      "   ---------------------------------------- 3.8/377.0 MB 2.0 MB/s eta 0:03:09\n",
      "   ---------------------------------------- 3.9/377.0 MB 2.0 MB/s eta 0:03:08\n",
      "   ---------------------------------------- 4.0/377.0 MB 2.0 MB/s eta 0:03:08\n",
      "   ---------------------------------------- 4.2/377.0 MB 2.0 MB/s eta 0:03:04\n",
      "   ---------------------------------------- 4.3/377.0 MB 2.1 MB/s eta 0:03:01\n",
      "   ---------------------------------------- 4.6/377.0 MB 2.1 MB/s eta 0:02:55\n",
      "    --------------------------------------- 4.8/377.0 MB 2.2 MB/s eta 0:02:50\n",
      "    --------------------------------------- 5.0/377.0 MB 2.2 MB/s eta 0:02:47\n",
      "    --------------------------------------- 5.2/377.0 MB 2.3 MB/s eta 0:02:43\n",
      "    --------------------------------------- 5.5/377.0 MB 2.4 MB/s eta 0:02:38\n",
      "    --------------------------------------- 5.6/377.0 MB 2.4 MB/s eta 0:02:38\n",
      "    --------------------------------------- 5.7/377.0 MB 2.4 MB/s eta 0:02:37\n",
      "    --------------------------------------- 5.8/377.0 MB 2.4 MB/s eta 0:02:34\n",
      "    --------------------------------------- 6.0/377.0 MB 2.4 MB/s eta 0:02:33\n",
      "    --------------------------------------- 6.3/377.0 MB 2.5 MB/s eta 0:02:29\n",
      "    --------------------------------------- 6.6/377.0 MB 2.6 MB/s eta 0:02:26\n",
      "    --------------------------------------- 6.8/377.0 MB 2.6 MB/s eta 0:02:23\n",
      "    --------------------------------------- 7.0/377.0 MB 2.6 MB/s eta 0:02:21\n",
      "    --------------------------------------- 7.1/377.0 MB 2.6 MB/s eta 0:02:21\n",
      "    --------------------------------------- 7.4/377.0 MB 2.7 MB/s eta 0:02:17\n",
      "    --------------------------------------- 7.6/377.0 MB 2.7 MB/s eta 0:02:15\n",
      "    --------------------------------------- 7.9/377.0 MB 2.8 MB/s eta 0:02:12\n",
      "    --------------------------------------- 8.0/377.0 MB 2.8 MB/s eta 0:02:12\n",
      "    --------------------------------------- 8.2/377.0 MB 2.8 MB/s eta 0:02:12\n",
      "    --------------------------------------- 8.3/377.0 MB 2.8 MB/s eta 0:02:11\n",
      "    --------------------------------------- 8.5/377.0 MB 2.8 MB/s eta 0:02:11\n",
      "    --------------------------------------- 8.7/377.0 MB 2.9 MB/s eta 0:02:10\n",
      "    --------------------------------------- 8.8/377.0 MB 2.8 MB/s eta 0:02:10\n",
      "    --------------------------------------- 9.0/377.0 MB 2.9 MB/s eta 0:02:09\n",
      "    --------------------------------------- 9.1/377.0 MB 2.9 MB/s eta 0:02:09\n",
      "    --------------------------------------- 9.3/377.0 MB 2.9 MB/s eta 0:02:08\n",
      "   - -------------------------------------- 9.5/377.0 MB 2.9 MB/s eta 0:02:08\n",
      "   - -------------------------------------- 9.7/377.0 MB 2.9 MB/s eta 0:02:07\n",
      "   - -------------------------------------- 9.9/377.0 MB 2.9 MB/s eta 0:02:06\n",
      "   - -------------------------------------- 10.0/377.0 MB 2.9 MB/s eta 0:02:07\n",
      "   - -------------------------------------- 10.0/377.0 MB 2.9 MB/s eta 0:02:07\n",
      "   - -------------------------------------- 10.2/377.0 MB 2.9 MB/s eta 0:02:07\n",
      "   - -------------------------------------- 10.3/377.0 MB 2.9 MB/s eta 0:02:08\n",
      "   - -------------------------------------- 10.6/377.0 MB 3.2 MB/s eta 0:01:54\n",
      "   - -------------------------------------- 10.8/377.0 MB 3.4 MB/s eta 0:01:49\n",
      "   - -------------------------------------- 10.8/377.0 MB 3.4 MB/s eta 0:01:48\n",
      "   - -------------------------------------- 10.8/377.0 MB 3.3 MB/s eta 0:01:50\n",
      "   - -------------------------------------- 10.9/377.0 MB 3.3 MB/s eta 0:01:51\n",
      "   - -------------------------------------- 11.0/377.0 MB 3.3 MB/s eta 0:01:51\n",
      "   - -------------------------------------- 11.2/377.0 MB 3.4 MB/s eta 0:01:49\n",
      "   - -------------------------------------- 11.2/377.0 MB 3.3 MB/s eta 0:01:50\n",
      "   - -------------------------------------- 11.2/377.0 MB 3.3 MB/s eta 0:01:51\n",
      "   - -------------------------------------- 11.5/377.0 MB 3.4 MB/s eta 0:01:49\n",
      "   - -------------------------------------- 11.5/377.0 MB 3.3 MB/s eta 0:01:50\n",
      "   - -------------------------------------- 11.5/377.0 MB 3.3 MB/s eta 0:01:51\n",
      "   - -------------------------------------- 11.5/377.0 MB 3.3 MB/s eta 0:01:52\n",
      "   - -------------------------------------- 11.6/377.0 MB 3.3 MB/s eta 0:01:52\n",
      "   - -------------------------------------- 11.7/377.0 MB 3.2 MB/s eta 0:01:55\n",
      "   - -------------------------------------- 11.7/377.0 MB 3.2 MB/s eta 0:01:55\n",
      "   - -------------------------------------- 11.7/377.0 MB 3.1 MB/s eta 0:01:57\n",
      "   - -------------------------------------- 11.9/377.0 MB 3.1 MB/s eta 0:01:56\n",
      "   - -------------------------------------- 12.1/377.0 MB 3.2 MB/s eta 0:01:55\n",
      "   - -------------------------------------- 12.3/377.0 MB 3.2 MB/s eta 0:01:54\n",
      "   - -------------------------------------- 12.5/377.0 MB 3.2 MB/s eta 0:01:53\n",
      "   - -------------------------------------- 12.6/377.0 MB 3.3 MB/s eta 0:01:52\n",
      "   - -------------------------------------- 12.9/377.0 MB 3.3 MB/s eta 0:01:51\n",
      "   - -------------------------------------- 13.0/377.0 MB 3.3 MB/s eta 0:01:50\n",
      "   - -------------------------------------- 13.1/377.0 MB 3.3 MB/s eta 0:01:50\n",
      "   - -------------------------------------- 13.2/377.0 MB 3.3 MB/s eta 0:01:51\n",
      "   - -------------------------------------- 13.5/377.0 MB 3.3 MB/s eta 0:01:50\n",
      "   - -------------------------------------- 13.7/377.0 MB 3.4 MB/s eta 0:01:49\n",
      "   - -------------------------------------- 13.9/377.0 MB 3.4 MB/s eta 0:01:49\n",
      "   - -------------------------------------- 14.1/377.0 MB 3.3 MB/s eta 0:01:49\n",
      "   - -------------------------------------- 14.3/377.0 MB 3.4 MB/s eta 0:01:47\n",
      "   - -------------------------------------- 14.4/377.0 MB 3.4 MB/s eta 0:01:47\n",
      "   - -------------------------------------- 14.6/377.0 MB 3.4 MB/s eta 0:01:48\n",
      "   - -------------------------------------- 14.8/377.0 MB 3.4 MB/s eta 0:01:48\n",
      "   - -------------------------------------- 15.0/377.0 MB 3.4 MB/s eta 0:01:48\n",
      "   - -------------------------------------- 15.2/377.0 MB 3.4 MB/s eta 0:01:48\n",
      "   - -------------------------------------- 15.4/377.0 MB 3.4 MB/s eta 0:01:48\n",
      "   - -------------------------------------- 15.7/377.0 MB 3.4 MB/s eta 0:01:48\n",
      "   - -------------------------------------- 15.9/377.0 MB 3.4 MB/s eta 0:01:46\n",
      "   - -------------------------------------- 16.2/377.0 MB 3.4 MB/s eta 0:01:45\n",
      "   - -------------------------------------- 16.4/377.0 MB 3.4 MB/s eta 0:01:47\n",
      "   - -------------------------------------- 16.6/377.0 MB 3.4 MB/s eta 0:01:46\n",
      "   - -------------------------------------- 16.8/377.0 MB 3.4 MB/s eta 0:01:47\n",
      "   - -------------------------------------- 17.0/377.0 MB 3.4 MB/s eta 0:01:47\n",
      "   - -------------------------------------- 17.2/377.0 MB 3.3 MB/s eta 0:01:48\n",
      "   - -------------------------------------- 17.3/377.0 MB 3.4 MB/s eta 0:01:48\n",
      "   - -------------------------------------- 17.4/377.0 MB 3.3 MB/s eta 0:01:49\n",
      "   - -------------------------------------- 17.6/377.0 MB 3.3 MB/s eta 0:01:50\n",
      "   - -------------------------------------- 17.8/377.0 MB 3.3 MB/s eta 0:01:50\n",
      "   - -------------------------------------- 17.9/377.0 MB 3.3 MB/s eta 0:01:50\n",
      "   - -------------------------------------- 18.0/377.0 MB 3.2 MB/s eta 0:01:52\n",
      "   - -------------------------------------- 18.2/377.0 MB 3.2 MB/s eta 0:01:52\n",
      "   - -------------------------------------- 18.4/377.0 MB 3.2 MB/s eta 0:01:51\n",
      "   - -------------------------------------- 18.7/377.0 MB 3.3 MB/s eta 0:01:51\n",
      "   -- ------------------------------------- 18.9/377.0 MB 3.3 MB/s eta 0:01:50\n",
      "   -- ------------------------------------- 19.1/377.0 MB 3.3 MB/s eta 0:01:49\n",
      "   -- ------------------------------------- 19.3/377.0 MB 3.3 MB/s eta 0:01:49\n",
      "   -- ------------------------------------- 19.5/377.0 MB 3.3 MB/s eta 0:01:49\n",
      "   -- ------------------------------------- 19.6/377.0 MB 3.3 MB/s eta 0:01:49\n",
      "   -- ------------------------------------- 19.8/377.0 MB 3.3 MB/s eta 0:01:49\n",
      "   -- ------------------------------------- 19.9/377.0 MB 3.3 MB/s eta 0:01:49\n",
      "   -- ------------------------------------- 20.0/377.0 MB 3.3 MB/s eta 0:01:49\n",
      "   -- ------------------------------------- 20.2/377.0 MB 3.3 MB/s eta 0:01:48\n",
      "   -- ------------------------------------- 20.4/377.0 MB 3.3 MB/s eta 0:01:47\n",
      "   -- ------------------------------------- 20.6/377.0 MB 3.4 MB/s eta 0:01:46\n",
      "   -- ------------------------------------- 20.8/377.0 MB 3.4 MB/s eta 0:01:46\n",
      "   -- ------------------------------------- 21.0/377.0 MB 3.4 MB/s eta 0:01:45\n",
      "   -- ------------------------------------- 21.2/377.0 MB 3.6 MB/s eta 0:01:39\n",
      "   -- ------------------------------------- 21.4/377.0 MB 3.6 MB/s eta 0:01:39\n",
      "   -- ------------------------------------- 21.7/377.0 MB 3.7 MB/s eta 0:01:37\n",
      "   -- ------------------------------------- 21.8/377.0 MB 3.8 MB/s eta 0:01:33\n",
      "   -- ------------------------------------- 22.0/377.0 MB 4.1 MB/s eta 0:01:27\n",
      "   -- ------------------------------------- 22.1/377.0 MB 4.1 MB/s eta 0:01:27\n",
      "   -- ------------------------------------- 22.2/377.0 MB 4.1 MB/s eta 0:01:28\n",
      "   -- ------------------------------------- 22.3/377.0 MB 4.0 MB/s eta 0:01:29\n",
      "   -- ------------------------------------- 22.4/377.0 MB 4.0 MB/s eta 0:01:29\n",
      "   -- ------------------------------------- 22.5/377.0 MB 4.0 MB/s eta 0:01:29\n",
      "   -- ------------------------------------- 22.7/377.0 MB 4.0 MB/s eta 0:01:30\n",
      "   -- ------------------------------------- 22.8/377.0 MB 4.0 MB/s eta 0:01:30\n",
      "   -- ------------------------------------- 22.9/377.0 MB 3.9 MB/s eta 0:01:31\n",
      "   -- ------------------------------------- 23.1/377.0 MB 3.9 MB/s eta 0:01:31\n",
      "   -- ------------------------------------- 23.3/377.0 MB 3.9 MB/s eta 0:01:31\n",
      "   -- ------------------------------------- 23.4/377.0 MB 3.9 MB/s eta 0:01:31\n",
      "   -- ------------------------------------- 23.7/377.0 MB 4.0 MB/s eta 0:01:30\n",
      "   -- ------------------------------------- 23.9/377.0 MB 3.9 MB/s eta 0:01:31\n",
      "   -- ------------------------------------- 24.1/377.0 MB 3.9 MB/s eta 0:01:30\n",
      "   -- ------------------------------------- 24.3/377.0 MB 4.0 MB/s eta 0:01:29\n",
      "   -- ------------------------------------- 24.5/377.0 MB 4.0 MB/s eta 0:01:29\n",
      "   -- ------------------------------------- 24.7/377.0 MB 4.0 MB/s eta 0:01:28\n",
      "   -- ------------------------------------- 25.0/377.0 MB 4.0 MB/s eta 0:01:29\n",
      "   -- ------------------------------------- 25.2/377.0 MB 4.0 MB/s eta 0:01:28\n",
      "   -- ------------------------------------- 25.4/377.0 MB 4.0 MB/s eta 0:01:29\n",
      "   -- ------------------------------------- 25.5/377.0 MB 4.0 MB/s eta 0:01:29\n",
      "   -- ------------------------------------- 25.7/377.0 MB 4.0 MB/s eta 0:01:29\n",
      "   -- ------------------------------------- 25.9/377.0 MB 4.0 MB/s eta 0:01:29\n",
      "   -- ------------------------------------- 26.1/377.0 MB 3.9 MB/s eta 0:01:29\n",
      "   -- ------------------------------------- 26.3/377.0 MB 3.9 MB/s eta 0:01:29\n",
      "   -- ------------------------------------- 26.5/377.0 MB 3.9 MB/s eta 0:01:30\n",
      "   -- ------------------------------------- 26.8/377.0 MB 3.9 MB/s eta 0:01:30\n",
      "   -- ------------------------------------- 27.0/377.0 MB 3.9 MB/s eta 0:01:29\n",
      "   -- ------------------------------------- 27.2/377.0 MB 3.9 MB/s eta 0:01:29\n",
      "   -- ------------------------------------- 27.4/377.0 MB 4.0 MB/s eta 0:01:29\n",
      "   -- ------------------------------------- 27.6/377.0 MB 4.0 MB/s eta 0:01:27\n",
      "   -- ------------------------------------- 27.8/377.0 MB 4.1 MB/s eta 0:01:26\n",
      "   -- ------------------------------------- 28.0/377.0 MB 4.1 MB/s eta 0:01:26\n",
      "   -- ------------------------------------- 28.2/377.0 MB 4.2 MB/s eta 0:01:24\n",
      "   --- ------------------------------------ 28.4/377.0 MB 4.1 MB/s eta 0:01:25\n",
      "   --- ------------------------------------ 28.6/377.0 MB 4.2 MB/s eta 0:01:23\n",
      "   --- ------------------------------------ 28.9/377.0 MB 4.2 MB/s eta 0:01:24\n",
      "   --- ------------------------------------ 29.1/377.0 MB 4.2 MB/s eta 0:01:24\n",
      "   --- ------------------------------------ 29.3/377.0 MB 4.1 MB/s eta 0:01:24\n",
      "   --- ------------------------------------ 29.4/377.0 MB 4.2 MB/s eta 0:01:23\n",
      "   --- ------------------------------------ 29.6/377.0 MB 4.2 MB/s eta 0:01:23\n",
      "   --- ------------------------------------ 29.8/377.0 MB 4.3 MB/s eta 0:01:22\n",
      "   --- ------------------------------------ 30.1/377.0 MB 4.3 MB/s eta 0:01:22\n",
      "   --- ------------------------------------ 30.4/377.0 MB 4.3 MB/s eta 0:01:20\n",
      "   --- ------------------------------------ 30.5/377.0 MB 4.3 MB/s eta 0:01:21\n",
      "   --- ------------------------------------ 30.6/377.0 MB 4.3 MB/s eta 0:01:22\n",
      "   --- ------------------------------------ 30.8/377.0 MB 4.3 MB/s eta 0:01:22\n",
      "   --- ------------------------------------ 31.1/377.0 MB 4.3 MB/s eta 0:01:22\n",
      "   --- ------------------------------------ 31.1/377.0 MB 4.2 MB/s eta 0:01:22\n",
      "   --- ------------------------------------ 31.1/377.0 MB 4.1 MB/s eta 0:01:25\n",
      "   --- ------------------------------------ 31.1/377.0 MB 4.0 MB/s eta 0:01:27\n",
      "   --- ------------------------------------ 31.1/377.0 MB 4.0 MB/s eta 0:01:28\n",
      "   --- ------------------------------------ 31.2/377.0 MB 3.9 MB/s eta 0:01:30\n",
      "   --- ------------------------------------ 31.2/377.0 MB 3.9 MB/s eta 0:01:30\n",
      "   --- ------------------------------------ 31.2/377.0 MB 3.8 MB/s eta 0:01:32\n",
      "   --- ------------------------------------ 31.3/377.0 MB 3.7 MB/s eta 0:01:33\n",
      "   --- ------------------------------------ 31.4/377.0 MB 3.7 MB/s eta 0:01:34\n",
      "   --- ------------------------------------ 31.6/377.0 MB 3.7 MB/s eta 0:01:34\n",
      "   --- ------------------------------------ 31.8/377.0 MB 3.7 MB/s eta 0:01:34\n",
      "   --- ------------------------------------ 31.9/377.0 MB 3.7 MB/s eta 0:01:35\n",
      "   --- ------------------------------------ 32.1/377.0 MB 3.7 MB/s eta 0:01:35\n",
      "   --- ------------------------------------ 32.3/377.0 MB 3.6 MB/s eta 0:01:35\n",
      "   --- ------------------------------------ 32.4/377.0 MB 3.7 MB/s eta 0:01:35\n",
      "   --- ------------------------------------ 32.6/377.0 MB 3.7 MB/s eta 0:01:34\n",
      "   --- ------------------------------------ 32.9/377.0 MB 3.7 MB/s eta 0:01:32\n",
      "   --- ------------------------------------ 33.1/377.0 MB 3.8 MB/s eta 0:01:30\n",
      "   --- ------------------------------------ 33.3/377.0 MB 3.8 MB/s eta 0:01:30\n",
      "   --- ------------------------------------ 33.5/377.0 MB 3.9 MB/s eta 0:01:29\n",
      "   --- ------------------------------------ 33.7/377.0 MB 3.9 MB/s eta 0:01:29\n",
      "   --- ------------------------------------ 34.0/377.0 MB 3.9 MB/s eta 0:01:30\n",
      "   --- ------------------------------------ 34.2/377.0 MB 3.9 MB/s eta 0:01:29\n",
      "   --- ------------------------------------ 34.4/377.0 MB 3.9 MB/s eta 0:01:29\n",
      "   --- ------------------------------------ 34.6/377.0 MB 3.9 MB/s eta 0:01:29\n",
      "   --- ------------------------------------ 34.7/377.0 MB 3.8 MB/s eta 0:01:30\n",
      "   --- ------------------------------------ 34.9/377.0 MB 3.8 MB/s eta 0:01:30\n",
      "   --- ------------------------------------ 35.2/377.0 MB 3.9 MB/s eta 0:01:29\n",
      "   --- ------------------------------------ 35.4/377.0 MB 3.9 MB/s eta 0:01:29\n",
      "   --- ------------------------------------ 35.6/377.0 MB 3.9 MB/s eta 0:01:29\n",
      "   --- ------------------------------------ 35.8/377.0 MB 3.8 MB/s eta 0:01:30\n",
      "   --- ------------------------------------ 35.9/377.0 MB 3.9 MB/s eta 0:01:29\n",
      "   --- ------------------------------------ 36.2/377.0 MB 3.9 MB/s eta 0:01:29\n",
      "   --- ------------------------------------ 36.4/377.0 MB 3.9 MB/s eta 0:01:29\n",
      "   --- ------------------------------------ 36.6/377.0 MB 3.9 MB/s eta 0:01:29\n",
      "   --- ------------------------------------ 36.7/377.0 MB 3.8 MB/s eta 0:01:30\n",
      "   --- ------------------------------------ 36.7/377.0 MB 3.8 MB/s eta 0:01:30\n",
      "   --- ------------------------------------ 36.7/377.0 MB 3.8 MB/s eta 0:01:30\n",
      "   --- ------------------------------------ 36.9/377.0 MB 3.7 MB/s eta 0:01:32\n",
      "   --- ------------------------------------ 36.9/377.0 MB 3.7 MB/s eta 0:01:33\n",
      "   --- ------------------------------------ 36.9/377.0 MB 3.6 MB/s eta 0:01:35\n",
      "   --- ------------------------------------ 37.0/377.0 MB 3.5 MB/s eta 0:01:37\n",
      "   --- ------------------------------------ 37.2/377.0 MB 3.5 MB/s eta 0:01:37\n",
      "   --- ------------------------------------ 37.3/377.0 MB 3.5 MB/s eta 0:01:38\n",
      "   --- ------------------------------------ 37.4/377.0 MB 3.5 MB/s eta 0:01:38\n",
      "   --- ------------------------------------ 37.6/377.0 MB 3.5 MB/s eta 0:01:38\n",
      "   --- ------------------------------------ 37.7/377.0 MB 3.4 MB/s eta 0:01:39\n",
      "   ---- ----------------------------------- 37.9/377.0 MB 3.4 MB/s eta 0:01:40\n",
      "   ---- ----------------------------------- 38.1/377.0 MB 3.4 MB/s eta 0:01:40\n",
      "   ---- ----------------------------------- 38.3/377.0 MB 3.4 MB/s eta 0:01:40\n",
      "   ---- ----------------------------------- 38.5/377.0 MB 3.4 MB/s eta 0:01:40\n",
      "   ---- ----------------------------------- 38.7/377.0 MB 3.4 MB/s eta 0:01:41\n",
      "   ---- ----------------------------------- 38.9/377.0 MB 3.4 MB/s eta 0:01:41\n",
      "   ---- ----------------------------------- 39.1/377.0 MB 3.4 MB/s eta 0:01:41\n",
      "   ---- ----------------------------------- 39.2/377.0 MB 3.4 MB/s eta 0:01:41\n",
      "   ---- ----------------------------------- 39.4/377.0 MB 3.3 MB/s eta 0:01:42\n",
      "   ---- ----------------------------------- 39.6/377.0 MB 3.3 MB/s eta 0:01:42\n",
      "   ---- ----------------------------------- 39.8/377.0 MB 3.3 MB/s eta 0:01:41\n",
      "   ---- ----------------------------------- 39.8/377.0 MB 3.3 MB/s eta 0:01:42\n",
      "   ---- ----------------------------------- 40.0/377.0 MB 3.3 MB/s eta 0:01:43\n",
      "   ---- ----------------------------------- 40.3/377.0 MB 3.3 MB/s eta 0:01:43\n",
      "   ---- ----------------------------------- 40.5/377.0 MB 3.3 MB/s eta 0:01:43\n",
      "   ---- ----------------------------------- 40.6/377.0 MB 3.3 MB/s eta 0:01:44\n",
      "   ---- ----------------------------------- 40.7/377.0 MB 3.3 MB/s eta 0:01:44\n",
      "   ---- ----------------------------------- 41.0/377.0 MB 3.3 MB/s eta 0:01:43\n",
      "   ---- ----------------------------------- 41.1/377.0 MB 3.3 MB/s eta 0:01:44\n",
      "   ---- ----------------------------------- 41.3/377.0 MB 3.2 MB/s eta 0:01:44\n",
      "   ---- ----------------------------------- 41.4/377.0 MB 3.5 MB/s eta 0:01:36\n",
      "   ---- ----------------------------------- 41.6/377.0 MB 3.6 MB/s eta 0:01:33\n",
      "   ---- ----------------------------------- 41.7/377.0 MB 3.6 MB/s eta 0:01:34\n",
      "   ---- ----------------------------------- 41.9/377.0 MB 3.6 MB/s eta 0:01:34\n",
      "   ---- ----------------------------------- 42.0/377.0 MB 3.6 MB/s eta 0:01:34\n",
      "   ---- ----------------------------------- 42.2/377.0 MB 3.6 MB/s eta 0:01:35\n",
      "   ---- ----------------------------------- 42.4/377.0 MB 3.6 MB/s eta 0:01:34\n",
      "   ---- ----------------------------------- 42.6/377.0 MB 3.6 MB/s eta 0:01:33\n",
      "   ---- ----------------------------------- 42.7/377.0 MB 3.6 MB/s eta 0:01:34\n",
      "   ---- ----------------------------------- 42.9/377.0 MB 3.6 MB/s eta 0:01:34\n",
      "   ---- ----------------------------------- 43.0/377.0 MB 3.5 MB/s eta 0:01:35\n",
      "   ---- ----------------------------------- 43.2/377.0 MB 3.5 MB/s eta 0:01:35\n",
      "   ---- ----------------------------------- 43.4/377.0 MB 3.5 MB/s eta 0:01:35\n",
      "   ---- ----------------------------------- 43.6/377.0 MB 3.5 MB/s eta 0:01:35\n",
      "   ---- ----------------------------------- 43.8/377.0 MB 3.5 MB/s eta 0:01:35\n",
      "   ---- ----------------------------------- 43.9/377.0 MB 3.5 MB/s eta 0:01:36\n",
      "   ---- ----------------------------------- 44.1/377.0 MB 3.5 MB/s eta 0:01:36\n",
      "   ---- ----------------------------------- 44.1/377.0 MB 3.4 MB/s eta 0:01:37\n",
      "   ---- ----------------------------------- 44.2/377.0 MB 3.4 MB/s eta 0:01:38\n",
      "   ---- ----------------------------------- 44.5/377.0 MB 3.4 MB/s eta 0:01:38\n",
      "   ---- ----------------------------------- 44.6/377.0 MB 3.4 MB/s eta 0:01:38\n",
      "   ---- ----------------------------------- 44.8/377.0 MB 3.4 MB/s eta 0:01:38\n",
      "   ---- ----------------------------------- 45.1/377.0 MB 3.4 MB/s eta 0:01:37\n",
      "   ---- ----------------------------------- 45.3/377.0 MB 3.4 MB/s eta 0:01:37\n",
      "   ---- ----------------------------------- 45.5/377.0 MB 3.4 MB/s eta 0:01:38\n",
      "   ---- ----------------------------------- 45.6/377.0 MB 3.4 MB/s eta 0:01:38\n",
      "   ---- ----------------------------------- 45.8/377.0 MB 3.4 MB/s eta 0:01:39\n",
      "   ---- ----------------------------------- 45.9/377.0 MB 3.4 MB/s eta 0:01:37\n",
      "   ---- ----------------------------------- 46.2/377.0 MB 3.4 MB/s eta 0:01:38\n",
      "   ---- ----------------------------------- 46.4/377.0 MB 3.4 MB/s eta 0:01:38\n",
      "   ---- ----------------------------------- 46.6/377.0 MB 3.4 MB/s eta 0:01:38\n",
      "   ---- ----------------------------------- 46.8/377.0 MB 3.4 MB/s eta 0:01:37\n",
      "   ---- ----------------------------------- 47.1/377.0 MB 3.6 MB/s eta 0:01:33\n",
      "   ----- ---------------------------------- 47.3/377.0 MB 3.7 MB/s eta 0:01:29\n",
      "   ----- ---------------------------------- 47.6/377.0 MB 3.8 MB/s eta 0:01:28\n",
      "   ----- ---------------------------------- 47.8/377.0 MB 3.8 MB/s eta 0:01:27\n",
      "   ----- ---------------------------------- 47.9/377.0 MB 3.8 MB/s eta 0:01:26\n",
      "   ----- ---------------------------------- 48.1/377.0 MB 3.8 MB/s eta 0:01:26\n",
      "   ----- ---------------------------------- 48.4/377.0 MB 3.9 MB/s eta 0:01:26\n",
      "   ----- ---------------------------------- 48.6/377.0 MB 3.9 MB/s eta 0:01:26\n",
      "   ----- ---------------------------------- 48.7/377.0 MB 3.8 MB/s eta 0:01:26\n",
      "   ----- ---------------------------------- 48.8/377.0 MB 3.8 MB/s eta 0:01:27\n",
      "   ----- ---------------------------------- 49.0/377.0 MB 3.8 MB/s eta 0:01:27\n",
      "   ----- ---------------------------------- 49.2/377.0 MB 3.8 MB/s eta 0:01:27\n",
      "   ----- ---------------------------------- 49.5/377.0 MB 3.8 MB/s eta 0:01:26\n",
      "   ----- ---------------------------------- 49.7/377.0 MB 3.9 MB/s eta 0:01:26\n",
      "   ----- ---------------------------------- 49.9/377.0 MB 3.9 MB/s eta 0:01:25\n",
      "   ----- ---------------------------------- 50.2/377.0 MB 3.9 MB/s eta 0:01:23\n",
      "   ----- ---------------------------------- 50.4/377.0 MB 3.9 MB/s eta 0:01:24\n",
      "   ----- ---------------------------------- 50.6/377.0 MB 3.9 MB/s eta 0:01:23\n",
      "   ----- ---------------------------------- 50.9/377.0 MB 3.9 MB/s eta 0:01:23\n",
      "   ----- ---------------------------------- 51.1/377.0 MB 4.0 MB/s eta 0:01:22\n",
      "   ----- ---------------------------------- 51.3/377.0 MB 4.0 MB/s eta 0:01:22\n",
      "   ----- ---------------------------------- 51.4/377.0 MB 4.0 MB/s eta 0:01:22\n",
      "   ----- ---------------------------------- 51.7/377.0 MB 4.0 MB/s eta 0:01:21\n",
      "   ----- ---------------------------------- 52.0/377.0 MB 4.1 MB/s eta 0:01:19\n",
      "   ----- ---------------------------------- 52.2/377.0 MB 4.1 MB/s eta 0:01:19\n",
      "   ----- ---------------------------------- 52.4/377.0 MB 4.2 MB/s eta 0:01:18\n",
      "   ----- ---------------------------------- 52.6/377.0 MB 4.2 MB/s eta 0:01:18\n",
      "   ----- ---------------------------------- 52.7/377.0 MB 4.1 MB/s eta 0:01:19\n",
      "   ----- ---------------------------------- 52.9/377.0 MB 4.2 MB/s eta 0:01:18\n",
      "   ----- ---------------------------------- 53.1/377.0 MB 4.2 MB/s eta 0:01:18\n",
      "   ----- ---------------------------------- 53.3/377.0 MB 4.3 MB/s eta 0:01:17\n",
      "   ----- ---------------------------------- 53.6/377.0 MB 4.3 MB/s eta 0:01:17\n",
      "   ----- ---------------------------------- 53.8/377.0 MB 4.3 MB/s eta 0:01:17\n",
      "   ----- ---------------------------------- 54.1/377.0 MB 4.3 MB/s eta 0:01:15\n",
      "   ----- ---------------------------------- 54.3/377.0 MB 4.4 MB/s eta 0:01:14\n",
      "   ----- ---------------------------------- 54.6/377.0 MB 4.5 MB/s eta 0:01:12\n",
      "   ----- ---------------------------------- 54.8/377.0 MB 4.5 MB/s eta 0:01:12\n",
      "   ----- ---------------------------------- 55.1/377.0 MB 4.6 MB/s eta 0:01:11\n",
      "   ----- ---------------------------------- 55.4/377.0 MB 4.6 MB/s eta 0:01:10\n",
      "   ----- ---------------------------------- 55.6/377.0 MB 4.6 MB/s eta 0:01:11\n",
      "   ----- ---------------------------------- 55.9/377.0 MB 4.7 MB/s eta 0:01:09\n",
      "   ----- ---------------------------------- 56.1/377.0 MB 4.7 MB/s eta 0:01:09\n",
      "   ----- ---------------------------------- 56.4/377.0 MB 4.7 MB/s eta 0:01:09\n",
      "   ------ --------------------------------- 56.6/377.0 MB 4.7 MB/s eta 0:01:08\n",
      "   ------ --------------------------------- 56.9/377.0 MB 4.7 MB/s eta 0:01:08\n",
      "   ------ --------------------------------- 57.1/377.0 MB 4.7 MB/s eta 0:01:08\n",
      "   ------ --------------------------------- 57.4/377.0 MB 4.8 MB/s eta 0:01:07\n",
      "   ------ --------------------------------- 57.8/377.0 MB 4.8 MB/s eta 0:01:07\n",
      "   ------ --------------------------------- 57.9/377.0 MB 4.8 MB/s eta 0:01:07\n",
      "   ------ --------------------------------- 58.0/377.0 MB 4.7 MB/s eta 0:01:08\n",
      "   ------ --------------------------------- 58.1/377.0 MB 4.7 MB/s eta 0:01:09\n",
      "   ------ --------------------------------- 58.3/377.0 MB 4.6 MB/s eta 0:01:09\n",
      "   ------ --------------------------------- 58.6/377.0 MB 4.7 MB/s eta 0:01:08\n",
      "   ------ --------------------------------- 58.8/377.0 MB 4.8 MB/s eta 0:01:07\n",
      "   ------ --------------------------------- 59.1/377.0 MB 4.9 MB/s eta 0:01:06\n",
      "   ------ --------------------------------- 59.3/377.0 MB 4.9 MB/s eta 0:01:06\n",
      "   ------ --------------------------------- 59.6/377.0 MB 4.9 MB/s eta 0:01:05\n",
      "   ------ --------------------------------- 59.8/377.0 MB 4.9 MB/s eta 0:01:05\n",
      "   ------ --------------------------------- 60.1/377.0 MB 4.9 MB/s eta 0:01:05\n",
      "   ------ --------------------------------- 60.3/377.0 MB 4.9 MB/s eta 0:01:05\n",
      "   ------ --------------------------------- 60.6/377.0 MB 4.9 MB/s eta 0:01:05\n",
      "   ------ --------------------------------- 60.8/377.0 MB 4.9 MB/s eta 0:01:05\n",
      "   ------ --------------------------------- 61.1/377.0 MB 4.9 MB/s eta 0:01:05\n",
      "   ------ --------------------------------- 61.4/377.0 MB 5.0 MB/s eta 0:01:04\n",
      "   ------ --------------------------------- 61.7/377.0 MB 5.0 MB/s eta 0:01:03\n",
      "   ------ --------------------------------- 61.9/377.0 MB 5.0 MB/s eta 0:01:03\n",
      "   ------ --------------------------------- 62.3/377.0 MB 5.1 MB/s eta 0:01:02\n",
      "   ------ --------------------------------- 62.6/377.0 MB 5.1 MB/s eta 0:01:02\n",
      "   ------ --------------------------------- 62.9/377.0 MB 5.2 MB/s eta 0:01:00\n",
      "   ------ --------------------------------- 63.1/377.0 MB 5.3 MB/s eta 0:01:00\n",
      "   ------ --------------------------------- 63.4/377.0 MB 5.3 MB/s eta 0:00:59\n",
      "   ------ --------------------------------- 63.8/377.0 MB 5.4 MB/s eta 0:00:59\n",
      "   ------ --------------------------------- 64.0/377.0 MB 5.4 MB/s eta 0:00:59\n",
      "   ------ --------------------------------- 64.4/377.0 MB 5.4 MB/s eta 0:00:58\n",
      "   ------ --------------------------------- 64.5/377.0 MB 5.4 MB/s eta 0:00:58\n",
      "   ------ --------------------------------- 64.8/377.0 MB 5.4 MB/s eta 0:00:58\n",
      "   ------ --------------------------------- 65.2/377.0 MB 5.5 MB/s eta 0:00:58\n",
      "   ------ --------------------------------- 65.4/377.0 MB 5.5 MB/s eta 0:00:58\n",
      "   ------ --------------------------------- 65.7/377.0 MB 5.5 MB/s eta 0:00:57\n",
      "   ------- -------------------------------- 66.0/377.0 MB 5.5 MB/s eta 0:00:57\n",
      "   ------- -------------------------------- 66.4/377.0 MB 5.6 MB/s eta 0:00:56\n",
      "   ------- -------------------------------- 66.7/377.0 MB 5.6 MB/s eta 0:00:56\n",
      "   ------- -------------------------------- 67.1/377.0 MB 5.7 MB/s eta 0:00:55\n",
      "   ------- -------------------------------- 67.4/377.0 MB 5.7 MB/s eta 0:00:54\n",
      "   ------- -------------------------------- 67.6/377.0 MB 5.7 MB/s eta 0:00:55\n",
      "   ------- -------------------------------- 67.8/377.0 MB 5.7 MB/s eta 0:00:55\n",
      "   ------- -------------------------------- 68.1/377.0 MB 5.7 MB/s eta 0:00:54\n",
      "   ------- -------------------------------- 68.4/377.0 MB 6.0 MB/s eta 0:00:52\n",
      "   ------- -------------------------------- 68.7/377.0 MB 6.1 MB/s eta 0:00:51\n",
      "   ------- -------------------------------- 69.0/377.0 MB 6.1 MB/s eta 0:00:51\n",
      "   ------- -------------------------------- 69.4/377.0 MB 6.1 MB/s eta 0:00:51\n",
      "   ------- -------------------------------- 69.7/377.0 MB 6.2 MB/s eta 0:00:50\n",
      "   ------- -------------------------------- 70.1/377.0 MB 6.3 MB/s eta 0:00:49\n",
      "   ------- -------------------------------- 70.3/377.0 MB 6.3 MB/s eta 0:00:49\n",
      "   ------- -------------------------------- 70.6/377.0 MB 6.4 MB/s eta 0:00:49\n",
      "   ------- -------------------------------- 70.9/377.0 MB 6.4 MB/s eta 0:00:49\n",
      "   ------- -------------------------------- 71.3/377.0 MB 6.4 MB/s eta 0:00:48\n",
      "   ------- -------------------------------- 71.6/377.0 MB 6.4 MB/s eta 0:00:48\n",
      "   ------- -------------------------------- 71.9/377.0 MB 6.4 MB/s eta 0:00:48\n",
      "   ------- -------------------------------- 72.2/377.0 MB 6.4 MB/s eta 0:00:48\n",
      "   ------- -------------------------------- 72.5/377.0 MB 6.5 MB/s eta 0:00:47\n",
      "   ------- -------------------------------- 72.9/377.0 MB 6.5 MB/s eta 0:00:47\n",
      "   ------- -------------------------------- 73.2/377.0 MB 6.5 MB/s eta 0:00:47\n",
      "   ------- -------------------------------- 73.6/377.0 MB 6.5 MB/s eta 0:00:47\n",
      "   ------- -------------------------------- 73.9/377.0 MB 6.5 MB/s eta 0:00:47\n",
      "   ------- -------------------------------- 74.2/377.0 MB 6.7 MB/s eta 0:00:46\n",
      "   ------- -------------------------------- 74.5/377.0 MB 6.5 MB/s eta 0:00:47\n",
      "   ------- -------------------------------- 74.8/377.0 MB 6.6 MB/s eta 0:00:46\n",
      "   ------- -------------------------------- 75.1/377.0 MB 6.7 MB/s eta 0:00:46\n",
      "   -------- ------------------------------- 75.5/377.0 MB 6.7 MB/s eta 0:00:46\n",
      "   -------- ------------------------------- 75.7/377.0 MB 6.7 MB/s eta 0:00:46\n",
      "   -------- ------------------------------- 76.2/377.0 MB 6.7 MB/s eta 0:00:45\n",
      "   -------- ------------------------------- 76.5/377.0 MB 6.8 MB/s eta 0:00:45\n",
      "   -------- ------------------------------- 76.8/377.0 MB 6.8 MB/s eta 0:00:45\n",
      "   -------- ------------------------------- 76.9/377.0 MB 6.6 MB/s eta 0:00:46\n",
      "   -------- ------------------------------- 77.0/377.0 MB 6.4 MB/s eta 0:00:47\n",
      "   -------- ------------------------------- 77.0/377.0 MB 6.4 MB/s eta 0:00:48\n",
      "   -------- ------------------------------- 77.1/377.0 MB 6.1 MB/s eta 0:00:50\n",
      "   -------- ------------------------------- 77.4/377.0 MB 6.1 MB/s eta 0:00:50\n",
      "   -------- ------------------------------- 77.6/377.0 MB 6.1 MB/s eta 0:00:49\n",
      "   -------- ------------------------------- 78.0/377.0 MB 6.1 MB/s eta 0:00:49\n",
      "   -------- ------------------------------- 78.4/377.0 MB 6.2 MB/s eta 0:00:48\n",
      "   -------- ------------------------------- 78.6/377.0 MB 6.2 MB/s eta 0:00:49\n",
      "   -------- ------------------------------- 78.9/377.0 MB 6.1 MB/s eta 0:00:49\n",
      "   -------- ------------------------------- 79.2/377.0 MB 6.2 MB/s eta 0:00:49\n",
      "   -------- ------------------------------- 79.5/377.0 MB 6.1 MB/s eta 0:00:50\n",
      "   -------- ------------------------------- 79.9/377.0 MB 6.1 MB/s eta 0:00:49\n",
      "   -------- ------------------------------- 80.2/377.0 MB 6.1 MB/s eta 0:00:49\n",
      "   -------- ------------------------------- 80.5/377.0 MB 6.1 MB/s eta 0:00:49\n",
      "   -------- ------------------------------- 80.8/377.0 MB 6.1 MB/s eta 0:00:49\n",
      "   -------- ------------------------------- 81.1/377.0 MB 6.1 MB/s eta 0:00:49\n",
      "   -------- ------------------------------- 81.5/377.0 MB 6.1 MB/s eta 0:00:49\n",
      "   -------- ------------------------------- 81.8/377.0 MB 6.1 MB/s eta 0:00:49\n",
      "   -------- ------------------------------- 82.1/377.0 MB 6.1 MB/s eta 0:00:49\n",
      "   -------- ------------------------------- 82.5/377.0 MB 6.1 MB/s eta 0:00:49\n",
      "   -------- ------------------------------- 82.8/377.0 MB 6.2 MB/s eta 0:00:48\n",
      "   -------- ------------------------------- 83.1/377.0 MB 6.2 MB/s eta 0:00:48\n",
      "   -------- ------------------------------- 83.4/377.0 MB 6.1 MB/s eta 0:00:49\n",
      "   -------- ------------------------------- 83.8/377.0 MB 6.2 MB/s eta 0:00:48\n",
      "   -------- ------------------------------- 84.1/377.0 MB 6.1 MB/s eta 0:00:48\n",
      "   -------- ------------------------------- 84.4/377.0 MB 6.1 MB/s eta 0:00:48\n",
      "   -------- ------------------------------- 84.7/377.0 MB 6.2 MB/s eta 0:00:48\n",
      "   --------- ------------------------------ 85.0/377.0 MB 6.1 MB/s eta 0:00:48\n",
      "   --------- ------------------------------ 85.4/377.0 MB 6.1 MB/s eta 0:00:48\n",
      "   --------- ------------------------------ 85.8/377.0 MB 6.2 MB/s eta 0:00:48\n",
      "   --------- ------------------------------ 86.1/377.0 MB 6.2 MB/s eta 0:00:48\n",
      "   --------- ------------------------------ 86.4/377.0 MB 6.2 MB/s eta 0:00:48\n",
      "   --------- ------------------------------ 86.8/377.0 MB 6.2 MB/s eta 0:00:47\n",
      "   --------- ------------------------------ 87.1/377.0 MB 6.2 MB/s eta 0:00:47\n",
      "   --------- ------------------------------ 87.4/377.0 MB 6.8 MB/s eta 0:00:43\n",
      "   --------- ------------------------------ 87.7/377.0 MB 6.8 MB/s eta 0:00:43\n",
      "   --------- ------------------------------ 88.0/377.0 MB 6.8 MB/s eta 0:00:43\n",
      "   --------- ------------------------------ 88.3/377.0 MB 6.7 MB/s eta 0:00:43\n",
      "   --------- ------------------------------ 88.6/377.0 MB 6.7 MB/s eta 0:00:43\n",
      "   --------- ------------------------------ 88.9/377.0 MB 6.8 MB/s eta 0:00:43\n",
      "   --------- ------------------------------ 89.3/377.0 MB 6.8 MB/s eta 0:00:43\n",
      "   --------- ------------------------------ 89.6/377.0 MB 6.8 MB/s eta 0:00:43\n",
      "   --------- ------------------------------ 89.8/377.0 MB 6.8 MB/s eta 0:00:43\n",
      "   --------- ------------------------------ 90.0/377.0 MB 6.7 MB/s eta 0:00:43\n",
      "   --------- ------------------------------ 90.4/377.0 MB 6.7 MB/s eta 0:00:43\n",
      "   --------- ------------------------------ 90.8/377.0 MB 6.8 MB/s eta 0:00:43\n",
      "   --------- ------------------------------ 91.1/377.0 MB 6.9 MB/s eta 0:00:42\n",
      "   --------- ------------------------------ 91.4/377.0 MB 6.8 MB/s eta 0:00:42\n",
      "   --------- ------------------------------ 91.7/377.0 MB 6.7 MB/s eta 0:00:43\n",
      "   --------- ------------------------------ 92.0/377.0 MB 6.7 MB/s eta 0:00:43\n",
      "   --------- ------------------------------ 92.4/377.0 MB 6.7 MB/s eta 0:00:43\n",
      "   --------- ------------------------------ 92.7/377.0 MB 6.7 MB/s eta 0:00:43\n",
      "   --------- ------------------------------ 93.0/377.0 MB 6.7 MB/s eta 0:00:43\n",
      "   --------- ------------------------------ 93.3/377.0 MB 6.7 MB/s eta 0:00:43\n",
      "   --------- ------------------------------ 93.6/377.0 MB 6.7 MB/s eta 0:00:43\n",
      "   --------- ------------------------------ 93.8/377.0 MB 6.7 MB/s eta 0:00:43\n",
      "   --------- ------------------------------ 94.2/377.0 MB 6.7 MB/s eta 0:00:43\n",
      "   ---------- ----------------------------- 94.5/377.0 MB 6.7 MB/s eta 0:00:43\n",
      "   ---------- ----------------------------- 94.9/377.0 MB 6.6 MB/s eta 0:00:43\n",
      "   ---------- ----------------------------- 95.2/377.0 MB 6.7 MB/s eta 0:00:42\n",
      "   ---------- ----------------------------- 95.5/377.0 MB 6.6 MB/s eta 0:00:43\n",
      "   ---------- ----------------------------- 95.8/377.0 MB 6.6 MB/s eta 0:00:43\n",
      "   ---------- ----------------------------- 96.1/377.0 MB 6.6 MB/s eta 0:00:43\n",
      "   ---------- ----------------------------- 96.5/377.0 MB 6.6 MB/s eta 0:00:43\n",
      "   ---------- ----------------------------- 96.8/377.0 MB 6.6 MB/s eta 0:00:43\n",
      "   ---------- ----------------------------- 97.1/377.0 MB 6.6 MB/s eta 0:00:43\n",
      "   ---------- ----------------------------- 97.4/377.0 MB 6.5 MB/s eta 0:00:43\n",
      "   ---------- ----------------------------- 97.8/377.0 MB 6.6 MB/s eta 0:00:43\n",
      "   ---------- ----------------------------- 98.1/377.0 MB 6.6 MB/s eta 0:00:43\n",
      "   ---------- ----------------------------- 98.5/377.0 MB 6.6 MB/s eta 0:00:43\n",
      "   ---------- ----------------------------- 98.8/377.0 MB 6.7 MB/s eta 0:00:42\n",
      "   ---------- ----------------------------- 99.0/377.0 MB 6.6 MB/s eta 0:00:43\n",
      "   ---------- ----------------------------- 99.3/377.0 MB 6.6 MB/s eta 0:00:42\n",
      "   ---------- ----------------------------- 99.7/377.0 MB 6.7 MB/s eta 0:00:42\n",
      "   ---------- ----------------------------- 100.0/377.0 MB 6.7 MB/s eta 0:00:42\n",
      "   ---------- ----------------------------- 100.3/377.0 MB 6.8 MB/s eta 0:00:41\n",
      "   ---------- ----------------------------- 100.6/377.0 MB 6.7 MB/s eta 0:00:42\n",
      "   ---------- ----------------------------- 101.0/377.0 MB 6.7 MB/s eta 0:00:42\n",
      "   ---------- ----------------------------- 101.4/377.0 MB 6.7 MB/s eta 0:00:41\n",
      "   ---------- ----------------------------- 101.7/377.0 MB 6.7 MB/s eta 0:00:41\n",
      "   ---------- ----------------------------- 102.0/377.0 MB 6.7 MB/s eta 0:00:41\n",
      "   ---------- ----------------------------- 102.2/377.0 MB 6.7 MB/s eta 0:00:42\n",
      "   ---------- ----------------------------- 102.6/377.0 MB 6.8 MB/s eta 0:00:41\n",
      "   ---------- ----------------------------- 102.9/377.0 MB 6.8 MB/s eta 0:00:41\n",
      "   ---------- ----------------------------- 103.1/377.0 MB 6.7 MB/s eta 0:00:41\n",
      "   ---------- ----------------------------- 103.4/377.0 MB 6.7 MB/s eta 0:00:41\n",
      "   ----------- ---------------------------- 103.7/377.0 MB 6.7 MB/s eta 0:00:41\n",
      "   ----------- ---------------------------- 103.9/377.0 MB 6.5 MB/s eta 0:00:43\n",
      "   ----------- ---------------------------- 104.2/377.0 MB 6.6 MB/s eta 0:00:42\n",
      "   ----------- ---------------------------- 104.4/377.0 MB 6.5 MB/s eta 0:00:43\n",
      "   ----------- ---------------------------- 104.7/377.0 MB 6.4 MB/s eta 0:00:43\n",
      "   ----------- ---------------------------- 105.0/377.0 MB 6.5 MB/s eta 0:00:42\n",
      "   ----------- ---------------------------- 105.3/377.0 MB 6.5 MB/s eta 0:00:42\n",
      "   ----------- ---------------------------- 105.7/377.0 MB 6.5 MB/s eta 0:00:42\n",
      "   ----------- ---------------------------- 106.0/377.0 MB 6.5 MB/s eta 0:00:42\n",
      "   ----------- ---------------------------- 106.3/377.0 MB 6.5 MB/s eta 0:00:42\n",
      "   ----------- ---------------------------- 106.6/377.0 MB 6.5 MB/s eta 0:00:42\n",
      "   ----------- ---------------------------- 106.9/377.0 MB 6.4 MB/s eta 0:00:43\n",
      "   ----------- ---------------------------- 107.2/377.0 MB 6.5 MB/s eta 0:00:42\n",
      "   ----------- ---------------------------- 107.5/377.0 MB 6.5 MB/s eta 0:00:42\n",
      "   ----------- ---------------------------- 107.7/377.0 MB 6.4 MB/s eta 0:00:43\n",
      "   ----------- ---------------------------- 108.0/377.0 MB 6.4 MB/s eta 0:00:43\n",
      "   ----------- ---------------------------- 108.3/377.0 MB 6.3 MB/s eta 0:00:43\n",
      "   ----------- ---------------------------- 108.6/377.0 MB 6.3 MB/s eta 0:00:43\n",
      "   ----------- ---------------------------- 108.7/377.0 MB 6.3 MB/s eta 0:00:43\n",
      "   ----------- ---------------------------- 108.9/377.0 MB 6.1 MB/s eta 0:00:45\n",
      "   ----------- ---------------------------- 109.2/377.0 MB 6.1 MB/s eta 0:00:44\n",
      "   ----------- ---------------------------- 109.6/377.0 MB 6.1 MB/s eta 0:00:44\n",
      "   ----------- ---------------------------- 109.9/377.0 MB 6.1 MB/s eta 0:00:44\n",
      "   ----------- ---------------------------- 110.2/377.0 MB 6.1 MB/s eta 0:00:44\n",
      "   ----------- ---------------------------- 110.4/377.0 MB 6.1 MB/s eta 0:00:44\n",
      "   ----------- ---------------------------- 110.7/377.0 MB 6.1 MB/s eta 0:00:44\n",
      "   ----------- ---------------------------- 111.0/377.0 MB 6.0 MB/s eta 0:00:45\n",
      "   ----------- ---------------------------- 111.3/377.0 MB 6.0 MB/s eta 0:00:45\n",
      "   ----------- ---------------------------- 111.6/377.0 MB 6.0 MB/s eta 0:00:45\n",
      "   ----------- ---------------------------- 111.8/377.0 MB 6.0 MB/s eta 0:00:45\n",
      "   ----------- ---------------------------- 112.0/377.0 MB 5.9 MB/s eta 0:00:45\n",
      "   ----------- ---------------------------- 112.3/377.0 MB 5.9 MB/s eta 0:00:45\n",
      "   ----------- ---------------------------- 112.5/377.0 MB 5.8 MB/s eta 0:00:46\n",
      "   ----------- ---------------------------- 112.9/377.0 MB 5.8 MB/s eta 0:00:46\n",
      "   ------------ --------------------------- 113.2/377.0 MB 5.8 MB/s eta 0:00:46\n",
      "   ------------ --------------------------- 113.4/377.0 MB 5.8 MB/s eta 0:00:46\n",
      "   ------------ --------------------------- 113.7/377.0 MB 5.8 MB/s eta 0:00:46\n",
      "   ------------ --------------------------- 114.0/377.0 MB 5.8 MB/s eta 0:00:46\n",
      "   ------------ --------------------------- 114.2/377.0 MB 5.9 MB/s eta 0:00:45\n",
      "   ------------ --------------------------- 114.5/377.0 MB 5.9 MB/s eta 0:00:45\n",
      "   ------------ --------------------------- 114.8/377.0 MB 5.9 MB/s eta 0:00:45\n",
      "   ------------ --------------------------- 114.8/377.0 MB 5.8 MB/s eta 0:00:45\n",
      "   ------------ --------------------------- 115.0/377.0 MB 5.7 MB/s eta 0:00:46\n",
      "   ------------ --------------------------- 115.3/377.0 MB 5.6 MB/s eta 0:00:47\n",
      "   ------------ --------------------------- 115.5/377.0 MB 5.6 MB/s eta 0:00:47\n",
      "   ------------ --------------------------- 115.8/377.0 MB 5.6 MB/s eta 0:00:47\n",
      "   ------------ --------------------------- 116.2/377.0 MB 5.6 MB/s eta 0:00:47\n",
      "   ------------ --------------------------- 116.5/377.0 MB 5.6 MB/s eta 0:00:47\n",
      "   ------------ --------------------------- 116.8/377.0 MB 5.7 MB/s eta 0:00:46\n",
      "   ------------ --------------------------- 117.1/377.0 MB 5.6 MB/s eta 0:00:47\n",
      "   ------------ --------------------------- 117.5/377.0 MB 5.6 MB/s eta 0:00:46\n",
      "   ------------ --------------------------- 117.7/377.0 MB 5.6 MB/s eta 0:00:46\n",
      "   ------------ --------------------------- 118.0/377.0 MB 5.7 MB/s eta 0:00:46\n",
      "   ------------ --------------------------- 118.3/377.0 MB 5.6 MB/s eta 0:00:46\n",
      "   ------------ --------------------------- 118.6/377.0 MB 5.7 MB/s eta 0:00:45\n",
      "   ------------ --------------------------- 118.9/377.0 MB 5.7 MB/s eta 0:00:46\n",
      "   ------------ --------------------------- 119.2/377.0 MB 5.9 MB/s eta 0:00:44\n",
      "   ------------ --------------------------- 119.5/377.0 MB 5.8 MB/s eta 0:00:45\n",
      "   ------------ --------------------------- 119.8/377.0 MB 5.8 MB/s eta 0:00:44\n",
      "   ------------ --------------------------- 120.2/377.0 MB 5.8 MB/s eta 0:00:44\n",
      "   ------------ --------------------------- 120.5/377.0 MB 5.8 MB/s eta 0:00:44\n",
      "   ------------ --------------------------- 120.8/377.0 MB 5.9 MB/s eta 0:00:44\n",
      "   ------------ --------------------------- 121.1/377.0 MB 5.9 MB/s eta 0:00:44\n",
      "   ------------ --------------------------- 121.5/377.0 MB 6.0 MB/s eta 0:00:43\n",
      "   ------------ --------------------------- 121.8/377.0 MB 6.0 MB/s eta 0:00:43\n",
      "   ------------ --------------------------- 122.1/377.0 MB 6.1 MB/s eta 0:00:43\n",
      "   ------------ --------------------------- 122.4/377.0 MB 6.1 MB/s eta 0:00:42\n",
      "   ------------- -------------------------- 122.8/377.0 MB 6.2 MB/s eta 0:00:42\n",
      "   ------------- -------------------------- 123.1/377.0 MB 6.1 MB/s eta 0:00:42\n",
      "   ------------- -------------------------- 123.4/377.0 MB 6.2 MB/s eta 0:00:42\n",
      "   ------------- -------------------------- 123.7/377.0 MB 6.2 MB/s eta 0:00:41\n",
      "   ------------- -------------------------- 123.7/377.0 MB 6.1 MB/s eta 0:00:42\n",
      "   ------------- -------------------------- 123.8/377.0 MB 6.0 MB/s eta 0:00:43\n",
      "   ------------- -------------------------- 123.9/377.0 MB 5.9 MB/s eta 0:00:43\n",
      "   ------------- -------------------------- 124.0/377.0 MB 5.7 MB/s eta 0:00:45\n",
      "   ------------- -------------------------- 124.4/377.0 MB 5.8 MB/s eta 0:00:44\n",
      "   ------------- -------------------------- 124.7/377.0 MB 5.8 MB/s eta 0:00:44\n",
      "   ------------- -------------------------- 125.0/377.0 MB 5.8 MB/s eta 0:00:44\n",
      "   ------------- -------------------------- 125.4/377.0 MB 6.1 MB/s eta 0:00:42\n",
      "   ------------- -------------------------- 125.6/377.0 MB 6.1 MB/s eta 0:00:42\n",
      "   ------------- -------------------------- 126.0/377.0 MB 6.1 MB/s eta 0:00:42\n",
      "   ------------- -------------------------- 126.3/377.0 MB 6.1 MB/s eta 0:00:41\n",
      "   ------------- -------------------------- 126.7/377.0 MB 6.2 MB/s eta 0:00:41\n",
      "   ------------- -------------------------- 127.0/377.0 MB 6.1 MB/s eta 0:00:41\n",
      "   ------------- -------------------------- 127.4/377.0 MB 6.2 MB/s eta 0:00:41\n",
      "   ------------- -------------------------- 127.5/377.0 MB 6.1 MB/s eta 0:00:41\n",
      "   ------------- -------------------------- 127.7/377.0 MB 6.0 MB/s eta 0:00:42\n",
      "   ------------- -------------------------- 128.0/377.0 MB 6.0 MB/s eta 0:00:42\n",
      "   ------------- -------------------------- 128.4/377.0 MB 6.1 MB/s eta 0:00:42\n",
      "   ------------- -------------------------- 128.7/377.0 MB 6.1 MB/s eta 0:00:41\n",
      "   ------------- -------------------------- 129.1/377.0 MB 6.1 MB/s eta 0:00:41\n",
      "   ------------- -------------------------- 129.1/377.0 MB 6.0 MB/s eta 0:00:42\n",
      "   ------------- -------------------------- 129.4/377.0 MB 6.0 MB/s eta 0:00:42\n",
      "   ------------- -------------------------- 129.7/377.0 MB 6.0 MB/s eta 0:00:42\n",
      "   ------------- -------------------------- 129.9/377.0 MB 6.0 MB/s eta 0:00:42\n",
      "   ------------- -------------------------- 130.0/377.0 MB 5.8 MB/s eta 0:00:43\n",
      "   ------------- -------------------------- 130.3/377.0 MB 5.7 MB/s eta 0:00:43\n",
      "   ------------- -------------------------- 130.4/377.0 MB 5.7 MB/s eta 0:00:44\n",
      "   ------------- -------------------------- 130.7/377.0 MB 5.7 MB/s eta 0:00:44\n",
      "   ------------- -------------------------- 131.1/377.0 MB 5.7 MB/s eta 0:00:44\n",
      "   ------------- -------------------------- 131.2/377.0 MB 5.6 MB/s eta 0:00:44\n",
      "   ------------- -------------------------- 131.5/377.0 MB 5.6 MB/s eta 0:00:44\n",
      "   ------------- -------------------------- 131.9/377.0 MB 5.5 MB/s eta 0:00:45\n",
      "   -------------- ------------------------- 132.3/377.0 MB 5.6 MB/s eta 0:00:44\n",
      "   -------------- ------------------------- 132.5/377.0 MB 5.5 MB/s eta 0:00:45\n",
      "   -------------- ------------------------- 132.8/377.0 MB 5.5 MB/s eta 0:00:45\n",
      "   -------------- ------------------------- 133.1/377.0 MB 5.6 MB/s eta 0:00:44\n",
      "   -------------- ------------------------- 133.4/377.0 MB 5.6 MB/s eta 0:00:44\n",
      "   -------------- ------------------------- 133.8/377.0 MB 5.5 MB/s eta 0:00:44\n",
      "   -------------- ------------------------- 134.0/377.0 MB 5.8 MB/s eta 0:00:42\n",
      "   -------------- ------------------------- 134.4/377.0 MB 6.1 MB/s eta 0:00:41\n",
      "   -------------- ------------------------- 134.7/377.0 MB 6.0 MB/s eta 0:00:41\n",
      "   -------------- ------------------------- 135.1/377.0 MB 6.1 MB/s eta 0:00:40\n",
      "   -------------- ------------------------- 135.4/377.0 MB 6.0 MB/s eta 0:00:41\n",
      "   -------------- ------------------------- 135.7/377.0 MB 6.1 MB/s eta 0:00:40\n",
      "   -------------- ------------------------- 136.0/377.0 MB 6.1 MB/s eta 0:00:40\n",
      "   -------------- ------------------------- 136.4/377.0 MB 6.1 MB/s eta 0:00:40\n",
      "   -------------- ------------------------- 136.7/377.0 MB 6.1 MB/s eta 0:00:40\n",
      "   -------------- ------------------------- 137.1/377.0 MB 6.1 MB/s eta 0:00:40\n",
      "   -------------- ------------------------- 137.4/377.0 MB 6.0 MB/s eta 0:00:40\n",
      "   -------------- ------------------------- 137.6/377.0 MB 6.0 MB/s eta 0:00:40\n",
      "   -------------- ------------------------- 138.0/377.0 MB 6.2 MB/s eta 0:00:39\n",
      "   -------------- ------------------------- 138.2/377.0 MB 6.1 MB/s eta 0:00:40\n",
      "   -------------- ------------------------- 138.5/377.0 MB 6.1 MB/s eta 0:00:39\n",
      "   -------------- ------------------------- 138.8/377.0 MB 6.1 MB/s eta 0:00:40\n",
      "   -------------- ------------------------- 139.1/377.0 MB 6.0 MB/s eta 0:00:40\n",
      "   -------------- ------------------------- 139.3/377.0 MB 6.1 MB/s eta 0:00:39\n",
      "   -------------- ------------------------- 139.6/377.0 MB 6.1 MB/s eta 0:00:39\n",
      "   -------------- ------------------------- 139.8/377.0 MB 6.1 MB/s eta 0:00:40\n",
      "   -------------- ------------------------- 140.1/377.0 MB 6.3 MB/s eta 0:00:38\n",
      "   -------------- ------------------------- 140.4/377.0 MB 6.2 MB/s eta 0:00:39\n",
      "   -------------- ------------------------- 140.4/377.0 MB 6.2 MB/s eta 0:00:39\n",
      "   -------------- ------------------------- 140.4/377.0 MB 6.2 MB/s eta 0:00:39\n",
      "   -------------- ------------------------- 140.4/377.0 MB 5.8 MB/s eta 0:00:41\n",
      "   -------------- ------------------------- 140.4/377.0 MB 5.7 MB/s eta 0:00:42\n",
      "   -------------- ------------------------- 140.4/377.0 MB 5.4 MB/s eta 0:00:44\n",
      "   -------------- ------------------------- 140.4/377.0 MB 5.4 MB/s eta 0:00:45\n",
      "   -------------- ------------------------- 140.4/377.0 MB 5.4 MB/s eta 0:00:45\n",
      "   -------------- ------------------------- 140.4/377.0 MB 5.4 MB/s eta 0:00:45\n",
      "   -------------- ------------------------- 140.4/377.0 MB 5.4 MB/s eta 0:00:45\n",
      "   -------------- ------------------------- 140.4/377.0 MB 5.4 MB/s eta 0:00:45\n",
      "   --------------- ------------------------ 141.5/377.0 MB 5.3 MB/s eta 0:00:45\n",
      "   --------------- ------------------------ 141.5/377.0 MB 5.2 MB/s eta 0:00:46\n",
      "   --------------- ------------------------ 141.6/377.0 MB 5.1 MB/s eta 0:00:47\n",
      "   --------------- ------------------------ 141.8/377.0 MB 5.1 MB/s eta 0:00:47\n",
      "   --------------- ------------------------ 142.1/377.0 MB 5.0 MB/s eta 0:00:47\n",
      "   --------------- ------------------------ 142.5/377.0 MB 5.0 MB/s eta 0:00:48\n",
      "   --------------- ------------------------ 142.6/377.0 MB 5.0 MB/s eta 0:00:48\n",
      "   --------------- ------------------------ 142.6/377.0 MB 5.0 MB/s eta 0:00:48\n",
      "   --------------- ------------------------ 142.6/377.0 MB 4.7 MB/s eta 0:00:50\n",
      "   --------------- ------------------------ 142.6/377.0 MB 4.7 MB/s eta 0:00:50\n",
      "   --------------- ------------------------ 142.6/377.0 MB 4.7 MB/s eta 0:00:50\n",
      "   --------------- ------------------------ 142.6/377.0 MB 4.7 MB/s eta 0:00:50\n",
      "   --------------- ------------------------ 142.6/377.0 MB 4.7 MB/s eta 0:00:50\n",
      "   --------------- ------------------------ 142.6/377.0 MB 4.7 MB/s eta 0:00:50\n",
      "   --------------- ------------------------ 142.6/377.0 MB 4.2 MB/s eta 0:00:57\n",
      "   --------------- ------------------------ 142.6/377.0 MB 4.2 MB/s eta 0:00:57\n",
      "   --------------- ------------------------ 142.6/377.0 MB 4.2 MB/s eta 0:00:57\n",
      "   --------------- ------------------------ 143.5/377.0 MB 4.2 MB/s eta 0:00:56\n",
      "   --------------- ------------------------ 143.7/377.0 MB 4.1 MB/s eta 0:00:57\n",
      "   --------------- ------------------------ 143.8/377.0 MB 4.1 MB/s eta 0:00:57\n",
      "   --------------- ------------------------ 144.0/377.0 MB 4.1 MB/s eta 0:00:57\n",
      "   --------------- ------------------------ 144.3/377.0 MB 4.1 MB/s eta 0:00:58\n",
      "   --------------- ------------------------ 144.7/377.0 MB 4.1 MB/s eta 0:00:57\n",
      "   --------------- ------------------------ 145.0/377.0 MB 4.1 MB/s eta 0:00:57\n",
      "   --------------- ------------------------ 145.3/377.0 MB 4.1 MB/s eta 0:00:57\n",
      "   --------------- ------------------------ 145.7/377.0 MB 4.1 MB/s eta 0:00:57\n",
      "   --------------- ------------------------ 146.0/377.0 MB 4.1 MB/s eta 0:00:57\n",
      "   --------------- ------------------------ 146.3/377.0 MB 4.1 MB/s eta 0:00:57\n",
      "   --------------- ------------------------ 146.6/377.0 MB 4.1 MB/s eta 0:00:57\n",
      "   --------------- ------------------------ 147.0/377.0 MB 4.1 MB/s eta 0:00:57\n",
      "   --------------- ------------------------ 147.2/377.0 MB 4.0 MB/s eta 0:00:57\n",
      "   --------------- ------------------------ 147.5/377.0 MB 4.0 MB/s eta 0:00:57\n",
      "   --------------- ------------------------ 147.9/377.0 MB 4.0 MB/s eta 0:00:57\n",
      "   --------------- ------------------------ 148.2/377.0 MB 4.1 MB/s eta 0:00:57\n",
      "   --------------- ------------------------ 148.5/377.0 MB 4.1 MB/s eta 0:00:57\n",
      "   --------------- ------------------------ 148.8/377.0 MB 4.1 MB/s eta 0:00:56\n",
      "   --------------- ------------------------ 149.1/377.0 MB 4.1 MB/s eta 0:00:56\n",
      "   --------------- ------------------------ 149.4/377.0 MB 4.1 MB/s eta 0:00:56\n",
      "   --------------- ------------------------ 149.6/377.0 MB 4.1 MB/s eta 0:00:56\n",
      "   --------------- ------------------------ 149.8/377.0 MB 4.0 MB/s eta 0:00:57\n",
      "   --------------- ------------------------ 149.9/377.0 MB 4.0 MB/s eta 0:00:57\n",
      "   --------------- ------------------------ 150.1/377.0 MB 4.0 MB/s eta 0:00:57\n",
      "   --------------- ------------------------ 150.2/377.0 MB 3.9 MB/s eta 0:00:58\n",
      "   --------------- ------------------------ 150.4/377.0 MB 3.9 MB/s eta 0:00:58\n",
      "   --------------- ------------------------ 150.5/377.0 MB 3.9 MB/s eta 0:00:58\n",
      "   --------------- ------------------------ 150.7/377.0 MB 4.7 MB/s eta 0:00:48\n",
      "   ---------------- ----------------------- 151.0/377.0 MB 4.6 MB/s eta 0:00:49\n",
      "   ---------------- ----------------------- 151.2/377.0 MB 4.5 MB/s eta 0:00:50\n",
      "   ---------------- ----------------------- 151.5/377.0 MB 4.4 MB/s eta 0:00:51\n",
      "   ---------------- ----------------------- 151.8/377.0 MB 4.5 MB/s eta 0:00:50\n",
      "   ---------------- ----------------------- 151.9/377.0 MB 4.5 MB/s eta 0:00:50\n",
      "   ---------------- ----------------------- 152.0/377.0 MB 4.5 MB/s eta 0:00:51\n",
      "   ---------------- ----------------------- 152.3/377.0 MB 4.5 MB/s eta 0:00:51\n",
      "   ---------------- ----------------------- 152.6/377.0 MB 4.5 MB/s eta 0:00:51\n",
      "   ---------------- ----------------------- 152.8/377.0 MB 4.4 MB/s eta 0:00:51\n",
      "   ---------------- ----------------------- 153.1/377.0 MB 5.6 MB/s eta 0:00:41\n",
      "   ---------------- ----------------------- 153.3/377.0 MB 5.5 MB/s eta 0:00:41\n",
      "   ---------------- ----------------------- 153.6/377.0 MB 5.4 MB/s eta 0:00:42\n",
      "   ---------------- ----------------------- 153.9/377.0 MB 5.3 MB/s eta 0:00:42\n",
      "   ---------------- ----------------------- 154.1/377.0 MB 5.4 MB/s eta 0:00:42\n",
      "   ---------------- ----------------------- 154.4/377.0 MB 5.5 MB/s eta 0:00:41\n",
      "   ---------------- ----------------------- 154.7/377.0 MB 5.4 MB/s eta 0:00:42\n",
      "   ---------------- ----------------------- 154.9/377.0 MB 5.4 MB/s eta 0:00:42\n",
      "   ---------------- ----------------------- 155.2/377.0 MB 5.4 MB/s eta 0:00:42\n",
      "   ---------------- ----------------------- 155.6/377.0 MB 5.4 MB/s eta 0:00:41\n",
      "   ---------------- ----------------------- 155.9/377.0 MB 5.4 MB/s eta 0:00:41\n",
      "   ---------------- ----------------------- 156.3/377.0 MB 5.5 MB/s eta 0:00:41\n",
      "   ---------------- ----------------------- 156.5/377.0 MB 5.4 MB/s eta 0:00:41\n",
      "   ---------------- ----------------------- 156.8/377.0 MB 5.4 MB/s eta 0:00:42\n",
      "   ---------------- ----------------------- 157.1/377.0 MB 5.4 MB/s eta 0:00:41\n",
      "   ---------------- ----------------------- 157.5/377.0 MB 5.4 MB/s eta 0:00:41\n",
      "   ---------------- ----------------------- 157.8/377.0 MB 5.4 MB/s eta 0:00:41\n",
      "   ---------------- ----------------------- 158.2/377.0 MB 5.4 MB/s eta 0:00:41\n",
      "   ---------------- ----------------------- 158.4/377.0 MB 5.3 MB/s eta 0:00:42\n",
      "   ---------------- ----------------------- 158.7/377.0 MB 5.4 MB/s eta 0:00:41\n",
      "   ---------------- ----------------------- 159.1/377.0 MB 5.4 MB/s eta 0:00:41\n",
      "   ---------------- ----------------------- 159.2/377.0 MB 5.4 MB/s eta 0:00:41\n",
      "   ---------------- ----------------------- 159.5/377.0 MB 5.4 MB/s eta 0:00:41\n",
      "   ---------------- ----------------------- 159.8/377.0 MB 5.3 MB/s eta 0:00:41\n",
      "   ---------------- ----------------------- 160.2/377.0 MB 5.5 MB/s eta 0:00:40\n",
      "   ----------------- ---------------------- 160.5/377.0 MB 5.7 MB/s eta 0:00:39\n",
      "   ----------------- ---------------------- 160.7/377.0 MB 5.8 MB/s eta 0:00:38\n",
      "   ----------------- ---------------------- 161.1/377.0 MB 5.9 MB/s eta 0:00:37\n",
      "   ----------------- ---------------------- 161.5/377.0 MB 6.0 MB/s eta 0:00:36\n",
      "   ----------------- ---------------------- 161.8/377.0 MB 6.1 MB/s eta 0:00:36\n",
      "   ----------------- ---------------------- 162.2/377.0 MB 6.3 MB/s eta 0:00:35\n",
      "   ----------------- ---------------------- 162.4/377.0 MB 6.3 MB/s eta 0:00:35\n",
      "   ----------------- ---------------------- 162.8/377.0 MB 6.3 MB/s eta 0:00:35\n",
      "   ----------------- ---------------------- 163.1/377.0 MB 6.4 MB/s eta 0:00:34\n",
      "   ----------------- ---------------------- 163.4/377.0 MB 6.5 MB/s eta 0:00:33\n",
      "   ----------------- ---------------------- 163.8/377.0 MB 6.6 MB/s eta 0:00:33\n",
      "   ----------------- ---------------------- 164.2/377.0 MB 6.6 MB/s eta 0:00:33\n",
      "   ----------------- ---------------------- 164.5/377.0 MB 6.7 MB/s eta 0:00:32\n",
      "   ----------------- ---------------------- 164.8/377.0 MB 6.7 MB/s eta 0:00:32\n",
      "   ----------------- ---------------------- 164.9/377.0 MB 6.6 MB/s eta 0:00:33\n",
      "   ----------------- ---------------------- 165.2/377.0 MB 6.6 MB/s eta 0:00:33\n",
      "   ----------------- ---------------------- 165.5/377.0 MB 6.6 MB/s eta 0:00:32\n",
      "   ----------------- ---------------------- 165.8/377.0 MB 6.5 MB/s eta 0:00:33\n",
      "   ----------------- ---------------------- 166.1/377.0 MB 6.5 MB/s eta 0:00:33\n",
      "   ----------------- ---------------------- 166.3/377.0 MB 6.5 MB/s eta 0:00:33\n",
      "   ----------------- ---------------------- 166.5/377.0 MB 6.4 MB/s eta 0:00:34\n",
      "   ----------------- ---------------------- 166.9/377.0 MB 6.5 MB/s eta 0:00:33\n",
      "   ----------------- ---------------------- 167.1/377.0 MB 6.4 MB/s eta 0:00:33\n",
      "   ----------------- ---------------------- 167.4/377.0 MB 6.4 MB/s eta 0:00:33\n",
      "   ----------------- ---------------------- 167.8/377.0 MB 6.5 MB/s eta 0:00:33\n",
      "   ----------------- ---------------------- 168.1/377.0 MB 6.5 MB/s eta 0:00:33\n",
      "   ----------------- ---------------------- 168.3/377.0 MB 6.4 MB/s eta 0:00:33\n",
      "   ----------------- ---------------------- 168.5/377.0 MB 6.3 MB/s eta 0:00:34\n",
      "   ----------------- ---------------------- 168.7/377.0 MB 6.2 MB/s eta 0:00:34\n",
      "   ----------------- ---------------------- 169.0/377.0 MB 6.3 MB/s eta 0:00:34\n",
      "   ----------------- ---------------------- 169.3/377.0 MB 6.2 MB/s eta 0:00:34\n",
      "   ----------------- ---------------------- 169.6/377.0 MB 6.3 MB/s eta 0:00:33\n",
      "   ------------------ --------------------- 169.9/377.0 MB 6.3 MB/s eta 0:00:33\n",
      "   ------------------ --------------------- 170.2/377.0 MB 6.3 MB/s eta 0:00:33\n",
      "   ------------------ --------------------- 170.5/377.0 MB 6.2 MB/s eta 0:00:34\n",
      "   ------------------ --------------------- 170.8/377.0 MB 6.2 MB/s eta 0:00:34\n",
      "   ------------------ --------------------- 171.1/377.0 MB 6.2 MB/s eta 0:00:34\n",
      "   ------------------ --------------------- 171.3/377.0 MB 6.2 MB/s eta 0:00:34\n",
      "   ------------------ --------------------- 171.7/377.0 MB 6.1 MB/s eta 0:00:34\n",
      "   ------------------ --------------------- 172.0/377.0 MB 6.2 MB/s eta 0:00:34\n",
      "   ------------------ --------------------- 172.2/377.0 MB 6.1 MB/s eta 0:00:34\n",
      "   ------------------ --------------------- 172.5/377.0 MB 6.1 MB/s eta 0:00:34\n",
      "   ------------------ --------------------- 172.8/377.0 MB 6.1 MB/s eta 0:00:34\n",
      "   ------------------ --------------------- 173.0/377.0 MB 6.1 MB/s eta 0:00:34\n",
      "   ------------------ --------------------- 173.4/377.0 MB 6.0 MB/s eta 0:00:34\n",
      "   ------------------ --------------------- 173.6/377.0 MB 6.0 MB/s eta 0:00:34\n",
      "   ------------------ --------------------- 173.9/377.0 MB 6.0 MB/s eta 0:00:35\n",
      "   ------------------ --------------------- 174.2/377.0 MB 5.9 MB/s eta 0:00:35\n",
      "   ------------------ --------------------- 174.5/377.0 MB 5.8 MB/s eta 0:00:35\n",
      "   ------------------ --------------------- 174.8/377.0 MB 5.9 MB/s eta 0:00:35\n",
      "   ------------------ --------------------- 175.1/377.0 MB 5.9 MB/s eta 0:00:35\n",
      "   ------------------ --------------------- 175.3/377.0 MB 6.0 MB/s eta 0:00:34\n",
      "   ------------------ --------------------- 175.7/377.0 MB 6.0 MB/s eta 0:00:34\n",
      "   ------------------ --------------------- 176.0/377.0 MB 6.0 MB/s eta 0:00:34\n",
      "   ------------------ --------------------- 176.3/377.0 MB 6.0 MB/s eta 0:00:34\n",
      "   ------------------ --------------------- 176.5/377.0 MB 6.0 MB/s eta 0:00:34\n",
      "   ------------------ --------------------- 176.8/377.0 MB 6.1 MB/s eta 0:00:34\n",
      "   ------------------ --------------------- 177.1/377.0 MB 6.0 MB/s eta 0:00:34\n",
      "   ------------------ --------------------- 177.4/377.0 MB 6.0 MB/s eta 0:00:34\n",
      "   ------------------ --------------------- 177.7/377.0 MB 6.0 MB/s eta 0:00:34\n",
      "   ------------------ --------------------- 178.0/377.0 MB 5.9 MB/s eta 0:00:34\n",
      "   ------------------ --------------------- 178.3/377.0 MB 5.9 MB/s eta 0:00:34\n",
      "   ------------------ --------------------- 178.6/377.0 MB 6.0 MB/s eta 0:00:34\n",
      "   ------------------ --------------------- 178.9/377.0 MB 6.1 MB/s eta 0:00:33\n",
      "   ------------------- -------------------- 179.2/377.0 MB 6.1 MB/s eta 0:00:33\n",
      "   ------------------- -------------------- 179.5/377.0 MB 6.1 MB/s eta 0:00:33\n",
      "   ------------------- -------------------- 179.8/377.0 MB 6.1 MB/s eta 0:00:33\n",
      "   ------------------- -------------------- 180.1/377.0 MB 6.1 MB/s eta 0:00:33\n",
      "   ------------------- -------------------- 180.4/377.0 MB 6.1 MB/s eta 0:00:33\n",
      "   ------------------- -------------------- 180.7/377.0 MB 6.1 MB/s eta 0:00:33\n",
      "   ------------------- -------------------- 181.0/377.0 MB 6.1 MB/s eta 0:00:33\n",
      "   ------------------- -------------------- 181.2/377.0 MB 6.1 MB/s eta 0:00:33\n",
      "   ------------------- -------------------- 181.6/377.0 MB 6.1 MB/s eta 0:00:32\n",
      "   ------------------- -------------------- 181.9/377.0 MB 6.1 MB/s eta 0:00:32\n",
      "   ------------------- -------------------- 182.2/377.0 MB 6.1 MB/s eta 0:00:32\n",
      "   ------------------- -------------------- 182.5/377.0 MB 6.1 MB/s eta 0:00:33\n",
      "   ------------------- -------------------- 182.8/377.0 MB 6.1 MB/s eta 0:00:32\n",
      "   ------------------- -------------------- 183.2/377.0 MB 6.2 MB/s eta 0:00:32\n",
      "   ------------------- -------------------- 183.4/377.0 MB 6.2 MB/s eta 0:00:32\n",
      "   ------------------- -------------------- 183.6/377.0 MB 6.1 MB/s eta 0:00:32\n",
      "   ------------------- -------------------- 184.0/377.0 MB 6.2 MB/s eta 0:00:32\n",
      "   ------------------- -------------------- 184.3/377.0 MB 6.2 MB/s eta 0:00:31\n",
      "   ------------------- -------------------- 184.7/377.0 MB 6.2 MB/s eta 0:00:31\n",
      "   ------------------- -------------------- 184.9/377.0 MB 6.2 MB/s eta 0:00:32\n",
      "   ------------------- -------------------- 185.3/377.0 MB 6.2 MB/s eta 0:00:32\n",
      "   ------------------- -------------------- 185.7/377.0 MB 6.4 MB/s eta 0:00:31\n",
      "   ------------------- -------------------- 185.9/377.0 MB 6.3 MB/s eta 0:00:31\n",
      "   ------------------- -------------------- 186.2/377.0 MB 6.3 MB/s eta 0:00:31\n",
      "   ------------------- -------------------- 186.5/377.0 MB 6.3 MB/s eta 0:00:31\n",
      "   ------------------- -------------------- 186.8/377.0 MB 6.4 MB/s eta 0:00:30\n",
      "   ------------------- -------------------- 187.0/377.0 MB 6.4 MB/s eta 0:00:30\n",
      "   ------------------- -------------------- 187.3/377.0 MB 6.3 MB/s eta 0:00:31\n",
      "   ------------------- -------------------- 187.7/377.0 MB 6.4 MB/s eta 0:00:30\n",
      "   ------------------- -------------------- 188.0/377.0 MB 6.4 MB/s eta 0:00:30\n",
      "   ------------------- -------------------- 188.3/377.0 MB 6.4 MB/s eta 0:00:30\n",
      "   -------------------- ------------------- 188.6/377.0 MB 6.4 MB/s eta 0:00:30\n",
      "   -------------------- ------------------- 188.9/377.0 MB 6.4 MB/s eta 0:00:30\n",
      "   -------------------- ------------------- 189.4/377.0 MB 6.6 MB/s eta 0:00:29\n",
      "   -------------------- ------------------- 189.8/377.0 MB 6.5 MB/s eta 0:00:29\n",
      "   -------------------- ------------------- 190.1/377.0 MB 6.5 MB/s eta 0:00:29\n",
      "   -------------------- ------------------- 190.6/377.0 MB 6.7 MB/s eta 0:00:28\n",
      "   -------------------- ------------------- 190.9/377.0 MB 6.6 MB/s eta 0:00:29\n",
      "   -------------------- ------------------- 191.2/377.0 MB 6.7 MB/s eta 0:00:28\n",
      "   -------------------- ------------------- 191.6/377.0 MB 6.7 MB/s eta 0:00:28\n",
      "   -------------------- ------------------- 191.9/377.0 MB 6.7 MB/s eta 0:00:28\n",
      "   -------------------- ------------------- 192.3/377.0 MB 6.8 MB/s eta 0:00:28\n",
      "   -------------------- ------------------- 192.5/377.0 MB 6.6 MB/s eta 0:00:28\n",
      "   -------------------- ------------------- 192.7/377.0 MB 6.6 MB/s eta 0:00:28\n",
      "   -------------------- ------------------- 193.0/377.0 MB 6.5 MB/s eta 0:00:29\n",
      "   -------------------- ------------------- 193.3/377.0 MB 6.6 MB/s eta 0:00:28\n",
      "   -------------------- ------------------- 193.4/377.0 MB 6.5 MB/s eta 0:00:29\n",
      "   -------------------- ------------------- 193.7/377.0 MB 6.5 MB/s eta 0:00:29\n",
      "   -------------------- ------------------- 193.8/377.0 MB 6.3 MB/s eta 0:00:30\n",
      "   -------------------- ------------------- 194.1/377.0 MB 6.3 MB/s eta 0:00:30\n",
      "   -------------------- ------------------- 194.4/377.0 MB 6.4 MB/s eta 0:00:29\n",
      "   -------------------- ------------------- 194.8/377.0 MB 6.4 MB/s eta 0:00:29\n",
      "   -------------------- ------------------- 194.9/377.0 MB 6.2 MB/s eta 0:00:30\n",
      "   -------------------- ------------------- 195.1/377.0 MB 6.2 MB/s eta 0:00:30\n",
      "   -------------------- ------------------- 195.2/377.0 MB 6.1 MB/s eta 0:00:30\n",
      "   -------------------- ------------------- 195.5/377.0 MB 6.1 MB/s eta 0:00:30\n",
      "   -------------------- ------------------- 195.7/377.0 MB 6.0 MB/s eta 0:00:31\n",
      "   -------------------- ------------------- 195.8/377.0 MB 5.8 MB/s eta 0:00:32\n",
      "   -------------------- ------------------- 196.0/377.0 MB 5.8 MB/s eta 0:00:32\n",
      "   -------------------- ------------------- 196.2/377.0 MB 5.8 MB/s eta 0:00:32\n",
      "   -------------------- ------------------- 196.4/377.0 MB 5.7 MB/s eta 0:00:32\n",
      "   -------------------- ------------------- 196.6/377.0 MB 5.7 MB/s eta 0:00:32\n",
      "   -------------------- ------------------- 196.8/377.0 MB 5.6 MB/s eta 0:00:32\n",
      "   -------------------- ------------------- 197.0/377.0 MB 5.6 MB/s eta 0:00:33\n",
      "   -------------------- ------------------- 197.3/377.0 MB 5.6 MB/s eta 0:00:32\n",
      "   -------------------- ------------------- 197.6/377.0 MB 5.6 MB/s eta 0:00:32\n",
      "   -------------------- ------------------- 197.8/377.0 MB 5.6 MB/s eta 0:00:33\n",
      "   --------------------- ------------------ 198.0/377.0 MB 5.5 MB/s eta 0:00:33\n",
      "   --------------------- ------------------ 198.3/377.0 MB 5.5 MB/s eta 0:00:33\n",
      "   --------------------- ------------------ 198.6/377.0 MB 5.5 MB/s eta 0:00:33\n",
      "   --------------------- ------------------ 198.8/377.0 MB 5.4 MB/s eta 0:00:33\n",
      "   --------------------- ------------------ 199.1/377.0 MB 5.4 MB/s eta 0:00:33\n",
      "   --------------------- ------------------ 199.3/377.0 MB 5.3 MB/s eta 0:00:34\n",
      "   --------------------- ------------------ 199.6/377.0 MB 5.3 MB/s eta 0:00:34\n",
      "   --------------------- ------------------ 199.9/377.0 MB 5.3 MB/s eta 0:00:34\n",
      "   --------------------- ------------------ 200.1/377.0 MB 5.2 MB/s eta 0:00:34\n",
      "   --------------------- ------------------ 200.3/377.0 MB 5.2 MB/s eta 0:00:34\n",
      "   --------------------- ------------------ 200.6/377.0 MB 5.2 MB/s eta 0:00:35\n",
      "   --------------------- ------------------ 200.8/377.0 MB 5.1 MB/s eta 0:00:35\n",
      "   --------------------- ------------------ 201.1/377.0 MB 5.1 MB/s eta 0:00:35\n",
      "   --------------------- ------------------ 201.4/377.0 MB 5.1 MB/s eta 0:00:35\n",
      "   --------------------- ------------------ 201.6/377.0 MB 5.0 MB/s eta 0:00:35\n",
      "   --------------------- ------------------ 201.8/377.0 MB 5.0 MB/s eta 0:00:36\n",
      "   --------------------- ------------------ 202.1/377.0 MB 5.0 MB/s eta 0:00:35\n",
      "   --------------------- ------------------ 202.2/377.0 MB 5.0 MB/s eta 0:00:36\n",
      "   --------------------- ------------------ 202.4/377.0 MB 4.9 MB/s eta 0:00:36\n",
      "   --------------------- ------------------ 202.6/377.0 MB 4.9 MB/s eta 0:00:36\n",
      "   --------------------- ------------------ 202.6/377.0 MB 4.9 MB/s eta 0:00:36\n",
      "   --------------------- ------------------ 202.6/377.0 MB 4.9 MB/s eta 0:00:36\n",
      "   --------------------- ------------------ 202.7/377.0 MB 4.6 MB/s eta 0:00:39\n",
      "   --------------------- ------------------ 202.9/377.0 MB 4.5 MB/s eta 0:00:39\n",
      "   --------------------- ------------------ 203.1/377.0 MB 4.6 MB/s eta 0:00:38\n",
      "   --------------------- ------------------ 203.4/377.0 MB 4.5 MB/s eta 0:00:39\n",
      "   --------------------- ------------------ 203.7/377.0 MB 4.6 MB/s eta 0:00:38\n",
      "   --------------------- ------------------ 203.8/377.0 MB 4.6 MB/s eta 0:00:38\n",
      "   --------------------- ------------------ 204.1/377.0 MB 4.6 MB/s eta 0:00:38\n",
      "   --------------------- ------------------ 204.4/377.0 MB 4.6 MB/s eta 0:00:38\n",
      "   --------------------- ------------------ 204.7/377.0 MB 4.5 MB/s eta 0:00:38\n",
      "   --------------------- ------------------ 204.8/377.0 MB 4.5 MB/s eta 0:00:39\n",
      "   --------------------- ------------------ 205.0/377.0 MB 4.5 MB/s eta 0:00:39\n",
      "   --------------------- ------------------ 205.1/377.0 MB 4.5 MB/s eta 0:00:39\n",
      "   --------------------- ------------------ 205.4/377.0 MB 4.5 MB/s eta 0:00:38\n",
      "   --------------------- ------------------ 205.7/377.0 MB 4.6 MB/s eta 0:00:38\n",
      "   --------------------- ------------------ 205.9/377.0 MB 4.6 MB/s eta 0:00:38\n",
      "   --------------------- ------------------ 206.1/377.0 MB 4.6 MB/s eta 0:00:38\n",
      "   --------------------- ------------------ 206.3/377.0 MB 4.6 MB/s eta 0:00:37\n",
      "   --------------------- ------------------ 206.6/377.0 MB 4.6 MB/s eta 0:00:37\n",
      "   --------------------- ------------------ 206.8/377.0 MB 4.7 MB/s eta 0:00:37\n",
      "   --------------------- ------------------ 207.1/377.0 MB 4.7 MB/s eta 0:00:37\n",
      "   ---------------------- ----------------- 207.4/377.0 MB 4.7 MB/s eta 0:00:36\n",
      "   ---------------------- ----------------- 207.7/377.0 MB 4.8 MB/s eta 0:00:36\n",
      "   ---------------------- ----------------- 207.9/377.0 MB 4.8 MB/s eta 0:00:36\n",
      "   ---------------------- ----------------- 208.2/377.0 MB 4.7 MB/s eta 0:00:36\n",
      "   ---------------------- ----------------- 208.5/377.0 MB 4.8 MB/s eta 0:00:36\n",
      "   ---------------------- ----------------- 208.7/377.0 MB 4.8 MB/s eta 0:00:36\n",
      "   ---------------------- ----------------- 209.0/377.0 MB 4.8 MB/s eta 0:00:36\n",
      "   ---------------------- ----------------- 209.2/377.0 MB 4.7 MB/s eta 0:00:36\n",
      "   ---------------------- ----------------- 209.4/377.0 MB 4.7 MB/s eta 0:00:36\n",
      "   ---------------------- ----------------- 209.6/377.0 MB 4.7 MB/s eta 0:00:36\n",
      "   ---------------------- ----------------- 209.8/377.0 MB 4.7 MB/s eta 0:00:36\n",
      "   ---------------------- ----------------- 210.1/377.0 MB 4.7 MB/s eta 0:00:36\n",
      "   ---------------------- ----------------- 210.4/377.0 MB 4.7 MB/s eta 0:00:36\n",
      "   ---------------------- ----------------- 210.6/377.0 MB 4.7 MB/s eta 0:00:36\n",
      "   ---------------------- ----------------- 210.9/377.0 MB 4.7 MB/s eta 0:00:36\n",
      "   ---------------------- ----------------- 211.1/377.0 MB 4.7 MB/s eta 0:00:35\n",
      "   ---------------------- ----------------- 211.3/377.0 MB 4.7 MB/s eta 0:00:35\n",
      "   ---------------------- ----------------- 211.7/377.0 MB 4.7 MB/s eta 0:00:35\n",
      "   ---------------------- ----------------- 212.0/377.0 MB 4.7 MB/s eta 0:00:35\n",
      "   ---------------------- ----------------- 212.2/377.0 MB 4.7 MB/s eta 0:00:35\n",
      "   ---------------------- ----------------- 212.4/377.0 MB 4.7 MB/s eta 0:00:35\n",
      "   ---------------------- ----------------- 212.6/377.0 MB 4.8 MB/s eta 0:00:35\n",
      "   ---------------------- ----------------- 212.8/377.0 MB 4.7 MB/s eta 0:00:35\n",
      "   ---------------------- ----------------- 213.2/377.0 MB 5.2 MB/s eta 0:00:32\n",
      "   ---------------------- ----------------- 213.5/377.0 MB 5.2 MB/s eta 0:00:32\n",
      "   ---------------------- ----------------- 213.8/377.0 MB 5.2 MB/s eta 0:00:32\n",
      "   ---------------------- ----------------- 214.0/377.0 MB 5.1 MB/s eta 0:00:32\n",
      "   ---------------------- ----------------- 214.2/377.0 MB 5.2 MB/s eta 0:00:32\n",
      "   ---------------------- ----------------- 214.5/377.0 MB 5.2 MB/s eta 0:00:32\n",
      "   ---------------------- ----------------- 214.7/377.0 MB 5.2 MB/s eta 0:00:32\n",
      "   ---------------------- ----------------- 214.9/377.0 MB 5.2 MB/s eta 0:00:32\n",
      "   ---------------------- ----------------- 215.1/377.0 MB 5.2 MB/s eta 0:00:32\n",
      "   ---------------------- ----------------- 215.3/377.0 MB 5.2 MB/s eta 0:00:31\n",
      "   ---------------------- ----------------- 215.6/377.0 MB 5.2 MB/s eta 0:00:31\n",
      "   ---------------------- ----------------- 216.0/377.0 MB 5.3 MB/s eta 0:00:31\n",
      "   ---------------------- ----------------- 216.3/377.0 MB 5.4 MB/s eta 0:00:30\n",
      "   ---------------------- ----------------- 216.5/377.0 MB 5.3 MB/s eta 0:00:31\n",
      "   ----------------------- ---------------- 216.8/377.0 MB 5.4 MB/s eta 0:00:30\n",
      "   ----------------------- ---------------- 217.2/377.0 MB 5.4 MB/s eta 0:00:30\n",
      "   ----------------------- ---------------- 217.5/377.0 MB 5.4 MB/s eta 0:00:30\n",
      "   ----------------------- ---------------- 217.8/377.0 MB 5.4 MB/s eta 0:00:30\n",
      "   ----------------------- ---------------- 218.1/377.0 MB 5.4 MB/s eta 0:00:30\n",
      "   ----------------------- ---------------- 218.3/377.0 MB 5.4 MB/s eta 0:00:30\n",
      "   ----------------------- ---------------- 218.6/377.0 MB 5.5 MB/s eta 0:00:30\n",
      "   ----------------------- ---------------- 218.9/377.0 MB 5.4 MB/s eta 0:00:30\n",
      "   ----------------------- ---------------- 219.3/377.0 MB 5.5 MB/s eta 0:00:29\n",
      "   ----------------------- ---------------- 219.6/377.0 MB 5.5 MB/s eta 0:00:29\n",
      "   ----------------------- ---------------- 219.8/377.0 MB 5.6 MB/s eta 0:00:29\n",
      "   ----------------------- ---------------- 220.0/377.0 MB 5.5 MB/s eta 0:00:29\n",
      "   ----------------------- ---------------- 220.3/377.0 MB 5.6 MB/s eta 0:00:29\n",
      "   ----------------------- ---------------- 220.6/377.0 MB 5.6 MB/s eta 0:00:28\n",
      "   ----------------------- ---------------- 220.9/377.0 MB 5.6 MB/s eta 0:00:28\n",
      "   ----------------------- ---------------- 221.2/377.0 MB 5.6 MB/s eta 0:00:28\n",
      "   ----------------------- ---------------- 221.5/377.0 MB 5.6 MB/s eta 0:00:28\n",
      "   ----------------------- ---------------- 221.8/377.0 MB 5.7 MB/s eta 0:00:28\n",
      "   ----------------------- ---------------- 222.2/377.0 MB 5.7 MB/s eta 0:00:28\n",
      "   ----------------------- ---------------- 222.4/377.0 MB 5.7 MB/s eta 0:00:28\n",
      "   ----------------------- ---------------- 222.8/377.0 MB 5.7 MB/s eta 0:00:27\n",
      "   ----------------------- ---------------- 223.2/377.0 MB 5.9 MB/s eta 0:00:27\n",
      "   ----------------------- ---------------- 223.5/377.0 MB 5.9 MB/s eta 0:00:27\n",
      "   ----------------------- ---------------- 223.7/377.0 MB 5.9 MB/s eta 0:00:26\n",
      "   ----------------------- ---------------- 224.1/377.0 MB 5.9 MB/s eta 0:00:26\n",
      "   ----------------------- ---------------- 224.3/377.0 MB 5.9 MB/s eta 0:00:26\n",
      "   ----------------------- ---------------- 224.6/377.0 MB 6.0 MB/s eta 0:00:26\n",
      "   ----------------------- ---------------- 224.9/377.0 MB 6.0 MB/s eta 0:00:26\n",
      "   ----------------------- ---------------- 225.2/377.0 MB 6.0 MB/s eta 0:00:26\n",
      "   ----------------------- ---------------- 225.5/377.0 MB 6.2 MB/s eta 0:00:25\n",
      "   ----------------------- ---------------- 225.8/377.0 MB 6.2 MB/s eta 0:00:25\n",
      "   ----------------------- ---------------- 226.0/377.0 MB 6.2 MB/s eta 0:00:25\n",
      "   ------------------------ --------------- 226.4/377.0 MB 6.1 MB/s eta 0:00:25\n",
      "   ------------------------ --------------- 226.6/377.0 MB 6.2 MB/s eta 0:00:25\n",
      "   ------------------------ --------------- 226.9/377.0 MB 6.2 MB/s eta 0:00:25\n",
      "   ------------------------ --------------- 227.3/377.0 MB 6.3 MB/s eta 0:00:24\n",
      "   ------------------------ --------------- 227.5/377.0 MB 6.3 MB/s eta 0:00:24\n",
      "   ------------------------ --------------- 227.8/377.0 MB 6.2 MB/s eta 0:00:24\n",
      "   ------------------------ --------------- 228.1/377.0 MB 6.3 MB/s eta 0:00:24\n",
      "   ------------------------ --------------- 228.3/377.0 MB 6.2 MB/s eta 0:00:25\n",
      "   ------------------------ --------------- 228.6/377.0 MB 6.3 MB/s eta 0:00:24\n",
      "   ------------------------ --------------- 228.6/377.0 MB 6.3 MB/s eta 0:00:24\n",
      "   ------------------------ --------------- 228.6/377.0 MB 6.0 MB/s eta 0:00:25\n",
      "   ------------------------ --------------- 228.7/377.0 MB 5.8 MB/s eta 0:00:26\n",
      "   ------------------------ --------------- 228.7/377.0 MB 5.8 MB/s eta 0:00:26\n",
      "   ------------------------ --------------- 229.0/377.0 MB 5.7 MB/s eta 0:00:26\n",
      "   ------------------------ --------------- 229.3/377.0 MB 5.6 MB/s eta 0:00:27\n",
      "   ------------------------ --------------- 229.6/377.0 MB 5.6 MB/s eta 0:00:27\n",
      "   ------------------------ --------------- 229.9/377.0 MB 5.7 MB/s eta 0:00:26\n",
      "   ------------------------ --------------- 230.2/377.0 MB 5.7 MB/s eta 0:00:26\n",
      "   ------------------------ --------------- 230.5/377.0 MB 5.7 MB/s eta 0:00:26\n",
      "   ------------------------ --------------- 230.7/377.0 MB 5.7 MB/s eta 0:00:26\n",
      "   ------------------------ --------------- 231.1/377.0 MB 5.7 MB/s eta 0:00:26\n",
      "   ------------------------ --------------- 231.4/377.0 MB 5.7 MB/s eta 0:00:26\n",
      "   ------------------------ --------------- 231.6/377.0 MB 5.7 MB/s eta 0:00:26\n",
      "   ------------------------ --------------- 231.8/377.0 MB 5.6 MB/s eta 0:00:26\n",
      "   ------------------------ --------------- 232.2/377.0 MB 5.6 MB/s eta 0:00:26\n",
      "   ------------------------ --------------- 232.4/377.0 MB 5.6 MB/s eta 0:00:26\n",
      "   ------------------------ --------------- 232.6/377.0 MB 5.6 MB/s eta 0:00:26\n",
      "   ------------------------ --------------- 232.9/377.0 MB 5.6 MB/s eta 0:00:26\n",
      "   ------------------------ --------------- 233.2/377.0 MB 5.6 MB/s eta 0:00:26\n",
      "   ------------------------ --------------- 233.5/377.0 MB 5.5 MB/s eta 0:00:27\n",
      "   ------------------------ --------------- 233.8/377.0 MB 5.5 MB/s eta 0:00:26\n",
      "   ------------------------ --------------- 234.1/377.0 MB 5.5 MB/s eta 0:00:26\n",
      "   ------------------------ --------------- 234.3/377.0 MB 5.6 MB/s eta 0:00:26\n",
      "   ------------------------ --------------- 234.7/377.0 MB 5.6 MB/s eta 0:00:26\n",
      "   ------------------------ --------------- 234.9/377.0 MB 5.5 MB/s eta 0:00:26\n",
      "   ------------------------ --------------- 234.9/377.0 MB 5.4 MB/s eta 0:00:27\n",
      "   ------------------------ --------------- 235.0/377.0 MB 5.3 MB/s eta 0:00:27\n",
      "   ------------------------ --------------- 235.0/377.0 MB 5.2 MB/s eta 0:00:28\n",
      "   ------------------------ --------------- 235.0/377.0 MB 5.1 MB/s eta 0:00:28\n",
      "   ------------------------ --------------- 235.2/377.0 MB 5.0 MB/s eta 0:00:29\n",
      "   ------------------------ --------------- 235.4/377.0 MB 5.0 MB/s eta 0:00:29\n",
      "   ------------------------- -------------- 235.6/377.0 MB 5.0 MB/s eta 0:00:29\n",
      "   ------------------------- -------------- 235.9/377.0 MB 5.0 MB/s eta 0:00:29\n",
      "   ------------------------- -------------- 236.2/377.0 MB 4.9 MB/s eta 0:00:29\n",
      "   ------------------------- -------------- 236.4/377.0 MB 4.9 MB/s eta 0:00:29\n",
      "   ------------------------- -------------- 236.7/377.0 MB 4.9 MB/s eta 0:00:29\n",
      "   ------------------------- -------------- 236.9/377.0 MB 4.8 MB/s eta 0:00:30\n",
      "   ------------------------- -------------- 237.1/377.0 MB 4.8 MB/s eta 0:00:30\n",
      "   ------------------------- -------------- 237.4/377.0 MB 4.8 MB/s eta 0:00:30\n",
      "   ------------------------- -------------- 237.6/377.0 MB 4.8 MB/s eta 0:00:30\n",
      "   ------------------------- -------------- 237.8/377.0 MB 4.7 MB/s eta 0:00:30\n",
      "   ------------------------- -------------- 238.0/377.0 MB 4.7 MB/s eta 0:00:30\n",
      "   ------------------------- -------------- 238.4/377.0 MB 4.7 MB/s eta 0:00:30\n",
      "   ------------------------- -------------- 238.6/377.0 MB 4.7 MB/s eta 0:00:30\n",
      "   ------------------------- -------------- 238.8/377.0 MB 4.7 MB/s eta 0:00:30\n",
      "   ------------------------- -------------- 239.1/377.0 MB 5.1 MB/s eta 0:00:28\n",
      "   ------------------------- -------------- 239.2/377.0 MB 5.0 MB/s eta 0:00:28\n",
      "   ------------------------- -------------- 239.3/377.0 MB 4.9 MB/s eta 0:00:28\n",
      "   ------------------------- -------------- 239.4/377.0 MB 4.9 MB/s eta 0:00:29\n",
      "   ------------------------- -------------- 239.6/377.0 MB 4.9 MB/s eta 0:00:29\n",
      "   ------------------------- -------------- 239.7/377.0 MB 4.7 MB/s eta 0:00:29\n",
      "   ------------------------- -------------- 239.8/377.0 MB 4.7 MB/s eta 0:00:30\n",
      "   ------------------------- -------------- 239.8/377.0 MB 4.6 MB/s eta 0:00:30\n",
      "   ------------------------- -------------- 239.8/377.0 MB 4.6 MB/s eta 0:00:30\n",
      "   ------------------------- -------------- 239.8/377.0 MB 4.6 MB/s eta 0:00:30\n",
      "   ------------------------- -------------- 239.8/377.0 MB 4.6 MB/s eta 0:00:30\n",
      "   ------------------------- -------------- 239.8/377.0 MB 4.6 MB/s eta 0:00:30\n",
      "   ------------------------- -------------- 239.8/377.0 MB 4.6 MB/s eta 0:00:30\n",
      "   ------------------------- -------------- 239.8/377.0 MB 4.6 MB/s eta 0:00:30\n",
      "   ------------------------- -------------- 239.8/377.0 MB 4.6 MB/s eta 0:00:30\n",
      "   ------------------------- -------------- 239.8/377.0 MB 4.6 MB/s eta 0:00:30\n",
      "   ------------------------- -------------- 239.8/377.0 MB 4.6 MB/s eta 0:00:30\n",
      "   ------------------------- -------------- 240.9/377.0 MB 4.1 MB/s eta 0:00:34\n",
      "   ------------------------- -------------- 240.9/377.0 MB 4.0 MB/s eta 0:00:35\n",
      "   ------------------------- -------------- 241.0/377.0 MB 3.9 MB/s eta 0:00:35\n",
      "   ------------------------- -------------- 241.2/377.0 MB 3.9 MB/s eta 0:00:35\n",
      "   ------------------------- -------------- 241.4/377.0 MB 3.9 MB/s eta 0:00:35\n",
      "   ------------------------- -------------- 241.6/377.0 MB 3.9 MB/s eta 0:00:35\n",
      "   ------------------------- -------------- 241.9/377.0 MB 3.9 MB/s eta 0:00:35\n",
      "   ------------------------- -------------- 242.2/377.0 MB 3.9 MB/s eta 0:00:35\n",
      "   ------------------------- -------------- 242.4/377.0 MB 3.9 MB/s eta 0:00:35\n",
      "   ------------------------- -------------- 242.6/377.0 MB 3.9 MB/s eta 0:00:35\n",
      "   ------------------------- -------------- 242.8/377.0 MB 3.9 MB/s eta 0:00:35\n",
      "   ------------------------- -------------- 242.9/377.0 MB 3.9 MB/s eta 0:00:35\n",
      "   ------------------------- -------------- 243.1/377.0 MB 3.8 MB/s eta 0:00:35\n",
      "   ------------------------- -------------- 243.3/377.0 MB 3.8 MB/s eta 0:00:36\n",
      "   ------------------------- -------------- 243.5/377.0 MB 3.8 MB/s eta 0:00:35\n",
      "   ------------------------- -------------- 243.7/377.0 MB 3.8 MB/s eta 0:00:36\n",
      "   ------------------------- -------------- 244.0/377.0 MB 3.8 MB/s eta 0:00:36\n",
      "   ------------------------- -------------- 244.2/377.0 MB 3.8 MB/s eta 0:00:36\n",
      "   ------------------------- -------------- 244.4/377.0 MB 3.8 MB/s eta 0:00:36\n",
      "   ------------------------- -------------- 244.6/377.0 MB 3.7 MB/s eta 0:00:36\n",
      "   ------------------------- -------------- 244.9/377.0 MB 3.7 MB/s eta 0:00:36\n",
      "   -------------------------- ------------- 245.0/377.0 MB 3.7 MB/s eta 0:00:36\n",
      "   -------------------------- ------------- 245.2/377.0 MB 3.9 MB/s eta 0:00:35\n",
      "   -------------------------- ------------- 245.2/377.0 MB 3.8 MB/s eta 0:00:35\n",
      "   -------------------------- ------------- 245.2/377.0 MB 3.8 MB/s eta 0:00:35\n",
      "   -------------------------- ------------- 245.3/377.0 MB 3.8 MB/s eta 0:00:35\n",
      "   -------------------------- ------------- 245.3/377.0 MB 3.7 MB/s eta 0:00:36\n",
      "   -------------------------- ------------- 245.4/377.0 MB 3.7 MB/s eta 0:00:36\n",
      "   -------------------------- ------------- 245.7/377.0 MB 3.7 MB/s eta 0:00:36\n",
      "   -------------------------- ------------- 246.0/377.0 MB 3.7 MB/s eta 0:00:36\n",
      "   -------------------------- ------------- 246.1/377.0 MB 3.7 MB/s eta 0:00:36\n",
      "   -------------------------- ------------- 246.2/377.0 MB 3.6 MB/s eta 0:00:36\n",
      "   -------------------------- ------------- 246.5/377.0 MB 3.6 MB/s eta 0:00:37\n",
      "   -------------------------- ------------- 246.7/377.0 MB 3.6 MB/s eta 0:00:36\n",
      "   -------------------------- ------------- 246.9/377.0 MB 3.6 MB/s eta 0:00:36\n",
      "   -------------------------- ------------- 247.1/377.0 MB 3.6 MB/s eta 0:00:36\n",
      "   -------------------------- ------------- 247.4/377.0 MB 3.6 MB/s eta 0:00:36\n",
      "   -------------------------- ------------- 247.7/377.0 MB 3.6 MB/s eta 0:00:36\n",
      "   -------------------------- ------------- 247.8/377.0 MB 3.6 MB/s eta 0:00:36\n",
      "   -------------------------- ------------- 248.1/377.0 MB 3.6 MB/s eta 0:00:36\n",
      "   -------------------------- ------------- 248.4/377.0 MB 3.6 MB/s eta 0:00:36\n",
      "   -------------------------- ------------- 248.6/377.0 MB 3.6 MB/s eta 0:00:36\n",
      "   -------------------------- ------------- 248.9/377.0 MB 3.6 MB/s eta 0:00:36\n",
      "   -------------------------- ------------- 249.1/377.0 MB 3.6 MB/s eta 0:00:36\n",
      "   -------------------------- ------------- 249.3/377.0 MB 3.6 MB/s eta 0:00:36\n",
      "   -------------------------- ------------- 249.5/377.0 MB 3.6 MB/s eta 0:00:36\n",
      "   -------------------------- ------------- 249.7/377.0 MB 3.7 MB/s eta 0:00:35\n",
      "   -------------------------- ------------- 249.9/377.0 MB 3.7 MB/s eta 0:00:35\n",
      "   -------------------------- ------------- 250.1/377.0 MB 4.5 MB/s eta 0:00:28\n",
      "   -------------------------- ------------- 250.3/377.0 MB 4.5 MB/s eta 0:00:29\n",
      "   -------------------------- ------------- 250.5/377.0 MB 4.3 MB/s eta 0:00:30\n",
      "   -------------------------- ------------- 250.7/377.0 MB 4.3 MB/s eta 0:00:30\n",
      "   -------------------------- ------------- 250.7/377.0 MB 4.2 MB/s eta 0:00:30\n",
      "   -------------------------- ------------- 250.8/377.0 MB 4.2 MB/s eta 0:00:30\n",
      "   -------------------------- ------------- 250.8/377.0 MB 4.2 MB/s eta 0:00:30\n",
      "   -------------------------- ------------- 250.8/377.0 MB 4.2 MB/s eta 0:00:30\n",
      "   -------------------------- ------------- 250.8/377.0 MB 4.0 MB/s eta 0:00:32\n",
      "   -------------------------- ------------- 250.9/377.0 MB 3.9 MB/s eta 0:00:33\n",
      "   -------------------------- ------------- 251.0/377.0 MB 3.8 MB/s eta 0:00:34\n",
      "   -------------------------- ------------- 251.2/377.0 MB 3.9 MB/s eta 0:00:33\n",
      "   -------------------------- ------------- 251.5/377.0 MB 3.9 MB/s eta 0:00:33\n",
      "   -------------------------- ------------- 251.7/377.0 MB 3.9 MB/s eta 0:00:33\n",
      "   -------------------------- ------------- 251.7/377.0 MB 3.9 MB/s eta 0:00:32\n",
      "   -------------------------- ------------- 251.8/377.0 MB 3.8 MB/s eta 0:00:33\n",
      "   -------------------------- ------------- 251.9/377.0 MB 3.8 MB/s eta 0:00:34\n",
      "   -------------------------- ------------- 252.1/377.0 MB 3.8 MB/s eta 0:00:34\n",
      "   -------------------------- ------------- 252.5/377.0 MB 3.8 MB/s eta 0:00:34\n",
      "   -------------------------- ------------- 252.5/377.0 MB 3.7 MB/s eta 0:00:34\n",
      "   -------------------------- ------------- 252.5/377.0 MB 3.7 MB/s eta 0:00:34\n",
      "   -------------------------- ------------- 252.6/377.0 MB 3.6 MB/s eta 0:00:35\n",
      "   -------------------------- ------------- 252.6/377.0 MB 3.6 MB/s eta 0:00:35\n",
      "   -------------------------- ------------- 252.7/377.0 MB 3.5 MB/s eta 0:00:36\n",
      "   -------------------------- ------------- 253.0/377.0 MB 3.6 MB/s eta 0:00:35\n",
      "   -------------------------- ------------- 253.3/377.0 MB 3.6 MB/s eta 0:00:35\n",
      "   -------------------------- ------------- 253.5/377.0 MB 3.6 MB/s eta 0:00:35\n",
      "   -------------------------- ------------- 253.7/377.0 MB 3.6 MB/s eta 0:00:35\n",
      "   -------------------------- ------------- 254.0/377.0 MB 3.6 MB/s eta 0:00:35\n",
      "   -------------------------- ------------- 254.1/377.0 MB 3.6 MB/s eta 0:00:35\n",
      "   -------------------------- ------------- 254.4/377.0 MB 3.6 MB/s eta 0:00:35\n",
      "   --------------------------- ------------ 254.6/377.0 MB 3.6 MB/s eta 0:00:35\n",
      "   --------------------------- ------------ 254.8/377.0 MB 3.6 MB/s eta 0:00:35\n",
      "   --------------------------- ------------ 255.0/377.0 MB 3.6 MB/s eta 0:00:34\n",
      "   --------------------------- ------------ 255.2/377.0 MB 3.6 MB/s eta 0:00:34\n",
      "   --------------------------- ------------ 255.3/377.0 MB 3.6 MB/s eta 0:00:34\n",
      "   --------------------------- ------------ 255.3/377.0 MB 3.6 MB/s eta 0:00:34\n",
      "   --------------------------- ------------ 255.3/377.0 MB 3.6 MB/s eta 0:00:34\n",
      "   --------------------------- ------------ 255.4/377.0 MB 3.4 MB/s eta 0:00:36\n",
      "   --------------------------- ------------ 255.5/377.0 MB 3.5 MB/s eta 0:00:36\n",
      "   --------------------------- ------------ 255.6/377.0 MB 3.6 MB/s eta 0:00:34\n",
      "   --------------------------- ------------ 255.7/377.0 MB 3.6 MB/s eta 0:00:34\n",
      "   --------------------------- ------------ 255.9/377.0 MB 3.6 MB/s eta 0:00:34\n",
      "   --------------------------- ------------ 256.1/377.0 MB 3.5 MB/s eta 0:00:35\n",
      "   --------------------------- ------------ 256.2/377.0 MB 3.5 MB/s eta 0:00:35\n",
      "   --------------------------- ------------ 256.4/377.0 MB 3.5 MB/s eta 0:00:35\n",
      "   --------------------------- ------------ 256.6/377.0 MB 3.6 MB/s eta 0:00:34\n",
      "   --------------------------- ------------ 256.6/377.0 MB 3.5 MB/s eta 0:00:35\n",
      "   --------------------------- ------------ 256.7/377.0 MB 3.5 MB/s eta 0:00:35\n",
      "   --------------------------- ------------ 256.9/377.0 MB 3.5 MB/s eta 0:00:35\n",
      "   --------------------------- ------------ 257.1/377.0 MB 3.5 MB/s eta 0:00:35\n",
      "   --------------------------- ------------ 257.2/377.0 MB 3.5 MB/s eta 0:00:35\n",
      "   --------------------------- ------------ 257.4/377.0 MB 3.5 MB/s eta 0:00:35\n",
      "   --------------------------- ------------ 257.6/377.0 MB 3.4 MB/s eta 0:00:35\n",
      "   --------------------------- ------------ 257.7/377.0 MB 3.4 MB/s eta 0:00:35\n",
      "   --------------------------- ------------ 258.0/377.0 MB 3.4 MB/s eta 0:00:36\n",
      "   --------------------------- ------------ 258.2/377.0 MB 3.4 MB/s eta 0:00:36\n",
      "   --------------------------- ------------ 258.5/377.0 MB 3.4 MB/s eta 0:00:35\n",
      "   --------------------------- ------------ 258.7/377.0 MB 3.4 MB/s eta 0:00:35\n",
      "   --------------------------- ------------ 258.9/377.0 MB 3.4 MB/s eta 0:00:35\n",
      "   --------------------------- ------------ 259.2/377.0 MB 3.4 MB/s eta 0:00:35\n",
      "   --------------------------- ------------ 259.5/377.0 MB 3.4 MB/s eta 0:00:35\n",
      "   --------------------------- ------------ 259.7/377.0 MB 3.4 MB/s eta 0:00:35\n",
      "   --------------------------- ------------ 260.0/377.0 MB 3.5 MB/s eta 0:00:34\n",
      "   --------------------------- ------------ 260.1/377.0 MB 3.5 MB/s eta 0:00:34\n",
      "   --------------------------- ------------ 260.4/377.0 MB 3.5 MB/s eta 0:00:34\n",
      "   --------------------------- ------------ 260.6/377.0 MB 3.5 MB/s eta 0:00:34\n",
      "   --------------------------- ------------ 261.0/377.0 MB 3.5 MB/s eta 0:00:33\n",
      "   --------------------------- ------------ 261.3/377.0 MB 3.9 MB/s eta 0:00:31\n",
      "   --------------------------- ------------ 261.6/377.0 MB 3.9 MB/s eta 0:00:30\n",
      "   --------------------------- ------------ 261.9/377.0 MB 3.9 MB/s eta 0:00:30\n",
      "   --------------------------- ------------ 262.2/377.0 MB 4.0 MB/s eta 0:00:29\n",
      "   --------------------------- ------------ 262.5/377.0 MB 4.1 MB/s eta 0:00:29\n",
      "   --------------------------- ------------ 262.8/377.0 MB 4.2 MB/s eta 0:00:28\n",
      "   --------------------------- ------------ 263.1/377.0 MB 4.4 MB/s eta 0:00:27\n",
      "   --------------------------- ------------ 263.4/377.0 MB 4.4 MB/s eta 0:00:26\n",
      "   --------------------------- ------------ 263.7/377.0 MB 4.4 MB/s eta 0:00:26\n",
      "   ---------------------------- ----------- 264.0/377.0 MB 4.4 MB/s eta 0:00:26\n",
      "   ---------------------------- ----------- 264.4/377.0 MB 4.5 MB/s eta 0:00:26\n",
      "   ---------------------------- ----------- 264.7/377.0 MB 4.5 MB/s eta 0:00:25\n",
      "   ---------------------------- ----------- 264.9/377.0 MB 4.5 MB/s eta 0:00:25\n",
      "   ---------------------------- ----------- 265.3/377.0 MB 4.5 MB/s eta 0:00:25\n",
      "   ---------------------------- ----------- 265.6/377.0 MB 4.9 MB/s eta 0:00:23\n",
      "   ---------------------------- ----------- 265.9/377.0 MB 5.0 MB/s eta 0:00:23\n",
      "   ---------------------------- ----------- 266.1/377.0 MB 5.1 MB/s eta 0:00:22\n",
      "   ---------------------------- ----------- 266.5/377.0 MB 5.3 MB/s eta 0:00:21\n",
      "   ---------------------------- ----------- 266.7/377.0 MB 5.3 MB/s eta 0:00:21\n",
      "   ---------------------------- ----------- 266.9/377.0 MB 5.4 MB/s eta 0:00:21\n",
      "   ---------------------------- ----------- 267.1/377.0 MB 5.4 MB/s eta 0:00:21\n",
      "   ---------------------------- ----------- 267.3/377.0 MB 5.5 MB/s eta 0:00:21\n",
      "   ---------------------------- ----------- 267.6/377.0 MB 5.5 MB/s eta 0:00:20\n",
      "   ---------------------------- ----------- 267.9/377.0 MB 5.7 MB/s eta 0:00:20\n",
      "   ---------------------------- ----------- 268.2/377.0 MB 5.7 MB/s eta 0:00:19\n",
      "   ---------------------------- ----------- 268.4/377.0 MB 5.8 MB/s eta 0:00:19\n",
      "   ---------------------------- ----------- 268.8/377.0 MB 5.8 MB/s eta 0:00:19\n",
      "   ---------------------------- ----------- 269.0/377.0 MB 5.8 MB/s eta 0:00:19\n",
      "   ---------------------------- ----------- 269.0/377.0 MB 5.8 MB/s eta 0:00:19\n",
      "   ---------------------------- ----------- 269.1/377.0 MB 5.5 MB/s eta 0:00:20\n",
      "   ---------------------------- ----------- 269.1/377.0 MB 5.4 MB/s eta 0:00:20\n",
      "   ---------------------------- ----------- 269.1/377.0 MB 5.4 MB/s eta 0:00:21\n",
      "   ---------------------------- ----------- 269.2/377.0 MB 5.2 MB/s eta 0:00:21\n",
      "   ---------------------------- ----------- 269.2/377.0 MB 5.0 MB/s eta 0:00:22\n",
      "   ---------------------------- ----------- 269.2/377.0 MB 5.0 MB/s eta 0:00:22\n",
      "   ---------------------------- ----------- 269.3/377.0 MB 4.9 MB/s eta 0:00:23\n",
      "   ---------------------------- ----------- 269.3/377.0 MB 4.8 MB/s eta 0:00:23\n",
      "   ---------------------------- ----------- 269.4/377.0 MB 4.7 MB/s eta 0:00:24\n",
      "   ---------------------------- ----------- 269.5/377.0 MB 4.7 MB/s eta 0:00:23\n",
      "   ---------------------------- ----------- 269.7/377.0 MB 4.6 MB/s eta 0:00:24\n",
      "   ---------------------------- ----------- 269.9/377.0 MB 4.6 MB/s eta 0:00:24\n",
      "   ---------------------------- ----------- 270.0/377.0 MB 4.5 MB/s eta 0:00:24\n",
      "   ---------------------------- ----------- 270.2/377.0 MB 4.5 MB/s eta 0:00:24\n",
      "   ---------------------------- ----------- 270.4/377.0 MB 4.5 MB/s eta 0:00:24\n",
      "   ---------------------------- ----------- 270.6/377.0 MB 4.5 MB/s eta 0:00:24\n",
      "   ---------------------------- ----------- 270.8/377.0 MB 4.4 MB/s eta 0:00:24\n",
      "   ---------------------------- ----------- 271.0/377.0 MB 4.4 MB/s eta 0:00:24\n",
      "   ---------------------------- ----------- 271.1/377.0 MB 4.4 MB/s eta 0:00:25\n",
      "   ---------------------------- ----------- 271.3/377.0 MB 4.3 MB/s eta 0:00:25\n",
      "   ---------------------------- ----------- 271.5/377.0 MB 4.3 MB/s eta 0:00:25\n",
      "   ---------------------------- ----------- 271.6/377.0 MB 4.3 MB/s eta 0:00:25\n",
      "   ---------------------------- ----------- 271.8/377.0 MB 4.3 MB/s eta 0:00:25\n",
      "   ---------------------------- ----------- 272.0/377.0 MB 4.2 MB/s eta 0:00:25\n",
      "   ---------------------------- ----------- 272.2/377.0 MB 4.2 MB/s eta 0:00:25\n",
      "   ---------------------------- ----------- 272.4/377.0 MB 4.2 MB/s eta 0:00:26\n",
      "   ---------------------------- ----------- 272.6/377.0 MB 4.1 MB/s eta 0:00:26\n",
      "   ---------------------------- ----------- 272.8/377.0 MB 4.1 MB/s eta 0:00:26\n",
      "   ---------------------------- ----------- 272.9/377.0 MB 4.1 MB/s eta 0:00:26\n",
      "   ---------------------------- ----------- 273.1/377.0 MB 4.0 MB/s eta 0:00:26\n",
      "   ----------------------------- ---------- 273.3/377.0 MB 4.0 MB/s eta 0:00:26\n",
      "   ----------------------------- ---------- 273.5/377.0 MB 4.0 MB/s eta 0:00:26\n",
      "   ----------------------------- ---------- 273.7/377.0 MB 4.0 MB/s eta 0:00:27\n",
      "   ----------------------------- ---------- 273.9/377.0 MB 3.9 MB/s eta 0:00:27\n",
      "   ----------------------------- ---------- 274.0/377.0 MB 3.9 MB/s eta 0:00:27\n",
      "   ----------------------------- ---------- 274.1/377.0 MB 3.9 MB/s eta 0:00:27\n",
      "   ----------------------------- ---------- 274.3/377.0 MB 3.9 MB/s eta 0:00:27\n",
      "   ----------------------------- ---------- 274.5/377.0 MB 3.9 MB/s eta 0:00:27\n",
      "   ----------------------------- ---------- 274.7/377.0 MB 3.9 MB/s eta 0:00:27\n",
      "   ----------------------------- ---------- 274.9/377.0 MB 3.8 MB/s eta 0:00:27\n",
      "   ----------------------------- ---------- 275.1/377.0 MB 3.8 MB/s eta 0:00:27\n",
      "   ----------------------------- ---------- 275.3/377.0 MB 3.8 MB/s eta 0:00:27\n",
      "   ----------------------------- ---------- 275.5/377.0 MB 3.8 MB/s eta 0:00:27\n",
      "   ----------------------------- ---------- 275.7/377.0 MB 3.8 MB/s eta 0:00:27\n",
      "   ----------------------------- ---------- 275.9/377.0 MB 3.7 MB/s eta 0:00:28\n",
      "   ----------------------------- ---------- 276.0/377.0 MB 3.7 MB/s eta 0:00:28\n",
      "   ----------------------------- ---------- 276.2/377.0 MB 3.7 MB/s eta 0:00:28\n",
      "   ----------------------------- ---------- 276.4/377.0 MB 3.7 MB/s eta 0:00:28\n",
      "   ----------------------------- ---------- 276.6/377.0 MB 3.6 MB/s eta 0:00:28\n",
      "   ----------------------------- ---------- 276.8/377.0 MB 3.6 MB/s eta 0:00:28\n",
      "   ----------------------------- ---------- 277.0/377.0 MB 3.6 MB/s eta 0:00:28\n",
      "   ----------------------------- ---------- 277.2/377.0 MB 3.7 MB/s eta 0:00:28\n",
      "   ----------------------------- ---------- 277.5/377.0 MB 3.6 MB/s eta 0:00:28\n",
      "   ----------------------------- ---------- 277.7/377.0 MB 3.6 MB/s eta 0:00:28\n",
      "   ----------------------------- ---------- 277.8/377.0 MB 3.6 MB/s eta 0:00:28\n",
      "   ----------------------------- ---------- 277.9/377.0 MB 3.6 MB/s eta 0:00:28\n",
      "   ----------------------------- ---------- 278.1/377.0 MB 3.5 MB/s eta 0:00:28\n",
      "   ----------------------------- ---------- 278.3/377.0 MB 3.5 MB/s eta 0:00:29\n",
      "   ----------------------------- ---------- 278.5/377.0 MB 3.6 MB/s eta 0:00:28\n",
      "   ----------------------------- ---------- 278.7/377.0 MB 3.5 MB/s eta 0:00:28\n",
      "   ----------------------------- ---------- 279.0/377.0 MB 3.5 MB/s eta 0:00:28\n",
      "   ----------------------------- ---------- 279.2/377.0 MB 3.5 MB/s eta 0:00:29\n",
      "   ----------------------------- ---------- 279.4/377.0 MB 3.8 MB/s eta 0:00:26\n",
      "   ----------------------------- ---------- 279.7/377.0 MB 4.1 MB/s eta 0:00:24\n",
      "   ----------------------------- ---------- 279.9/377.0 MB 4.1 MB/s eta 0:00:24\n",
      "   ----------------------------- ---------- 280.2/377.0 MB 4.2 MB/s eta 0:00:23\n",
      "   ----------------------------- ---------- 280.5/377.0 MB 4.3 MB/s eta 0:00:23\n",
      "   ----------------------------- ---------- 280.8/377.0 MB 4.3 MB/s eta 0:00:23\n",
      "   ----------------------------- ---------- 281.1/377.0 MB 4.4 MB/s eta 0:00:22\n",
      "   ----------------------------- ---------- 281.4/377.0 MB 4.5 MB/s eta 0:00:22\n",
      "   ----------------------------- ---------- 281.7/377.0 MB 4.5 MB/s eta 0:00:21\n",
      "   ----------------------------- ---------- 282.0/377.0 MB 4.6 MB/s eta 0:00:21\n",
      "   ----------------------------- ---------- 282.3/377.0 MB 4.7 MB/s eta 0:00:21\n",
      "   ----------------------------- ---------- 282.5/377.0 MB 4.7 MB/s eta 0:00:21\n",
      "   ------------------------------ --------- 282.8/377.0 MB 4.7 MB/s eta 0:00:20\n",
      "   ------------------------------ --------- 283.1/377.0 MB 4.9 MB/s eta 0:00:20\n",
      "   ------------------------------ --------- 283.5/377.0 MB 4.9 MB/s eta 0:00:19\n",
      "   ------------------------------ --------- 283.7/377.0 MB 5.0 MB/s eta 0:00:19\n",
      "   ------------------------------ --------- 284.1/377.0 MB 5.0 MB/s eta 0:00:19\n",
      "   ------------------------------ --------- 284.4/377.0 MB 5.1 MB/s eta 0:00:19\n",
      "   ------------------------------ --------- 284.8/377.0 MB 5.2 MB/s eta 0:00:18\n",
      "   ------------------------------ --------- 285.1/377.0 MB 5.3 MB/s eta 0:00:18\n",
      "   ------------------------------ --------- 285.3/377.0 MB 5.3 MB/s eta 0:00:18\n",
      "   ------------------------------ --------- 285.6/377.0 MB 5.4 MB/s eta 0:00:18\n",
      "   ------------------------------ --------- 285.8/377.0 MB 5.4 MB/s eta 0:00:17\n",
      "   ------------------------------ --------- 286.2/377.0 MB 5.5 MB/s eta 0:00:17\n",
      "   ------------------------------ --------- 286.4/377.0 MB 5.5 MB/s eta 0:00:17\n",
      "   ------------------------------ --------- 286.7/377.0 MB 5.6 MB/s eta 0:00:16\n",
      "   ------------------------------ --------- 287.0/377.0 MB 5.6 MB/s eta 0:00:16\n",
      "   ------------------------------ --------- 287.3/377.0 MB 5.8 MB/s eta 0:00:16\n",
      "   ------------------------------ --------- 287.5/377.0 MB 5.8 MB/s eta 0:00:16\n",
      "   ------------------------------ --------- 287.9/377.0 MB 5.9 MB/s eta 0:00:16\n",
      "   ------------------------------ --------- 288.2/377.0 MB 6.2 MB/s eta 0:00:15\n",
      "   ------------------------------ --------- 288.4/377.0 MB 6.2 MB/s eta 0:00:15\n",
      "   ------------------------------ --------- 288.6/377.0 MB 6.1 MB/s eta 0:00:15\n",
      "   ------------------------------ --------- 288.9/377.0 MB 6.1 MB/s eta 0:00:15\n",
      "   ------------------------------ --------- 289.1/377.0 MB 6.2 MB/s eta 0:00:15\n",
      "   ------------------------------ --------- 289.5/377.0 MB 6.2 MB/s eta 0:00:15\n",
      "   ------------------------------ --------- 289.8/377.0 MB 6.2 MB/s eta 0:00:14\n",
      "   ------------------------------ --------- 290.2/377.0 MB 6.4 MB/s eta 0:00:14\n",
      "   ------------------------------ --------- 290.5/377.0 MB 6.4 MB/s eta 0:00:14\n",
      "   ------------------------------ --------- 290.9/377.0 MB 6.4 MB/s eta 0:00:14\n",
      "   ------------------------------ --------- 291.2/377.0 MB 6.4 MB/s eta 0:00:14\n",
      "   ------------------------------ --------- 291.7/377.0 MB 6.5 MB/s eta 0:00:14\n",
      "   ------------------------------ --------- 292.0/377.0 MB 6.4 MB/s eta 0:00:14\n",
      "   ------------------------------- -------- 292.3/377.0 MB 6.5 MB/s eta 0:00:14\n",
      "   ------------------------------- -------- 292.6/377.0 MB 6.5 MB/s eta 0:00:14\n",
      "   ------------------------------- -------- 292.6/377.0 MB 6.5 MB/s eta 0:00:14\n",
      "   ------------------------------- -------- 292.7/377.0 MB 6.1 MB/s eta 0:00:14\n",
      "   ------------------------------- -------- 293.0/377.0 MB 6.2 MB/s eta 0:00:14\n",
      "   ------------------------------- -------- 293.4/377.0 MB 6.2 MB/s eta 0:00:14\n",
      "   ------------------------------- -------- 293.8/377.0 MB 6.2 MB/s eta 0:00:14\n",
      "   ------------------------------- -------- 294.0/377.0 MB 6.2 MB/s eta 0:00:14\n",
      "   ------------------------------- -------- 294.2/377.0 MB 6.1 MB/s eta 0:00:14\n",
      "   ------------------------------- -------- 294.5/377.0 MB 6.2 MB/s eta 0:00:14\n",
      "   ------------------------------- -------- 294.9/377.0 MB 6.2 MB/s eta 0:00:14\n",
      "   ------------------------------- -------- 295.1/377.0 MB 6.2 MB/s eta 0:00:14\n",
      "   ------------------------------- -------- 295.5/377.0 MB 6.2 MB/s eta 0:00:14\n",
      "   ------------------------------- -------- 295.9/377.0 MB 6.4 MB/s eta 0:00:13\n",
      "   ------------------------------- -------- 296.1/377.0 MB 6.2 MB/s eta 0:00:13\n",
      "   ------------------------------- -------- 296.4/377.0 MB 6.3 MB/s eta 0:00:13\n",
      "   ------------------------------- -------- 296.7/377.0 MB 6.4 MB/s eta 0:00:13\n",
      "   ------------------------------- -------- 297.1/377.0 MB 6.4 MB/s eta 0:00:13\n",
      "   ------------------------------- -------- 297.5/377.0 MB 6.4 MB/s eta 0:00:13\n",
      "   ------------------------------- -------- 297.8/377.0 MB 6.5 MB/s eta 0:00:13\n",
      "   ------------------------------- -------- 298.2/377.0 MB 6.5 MB/s eta 0:00:13\n",
      "   ------------------------------- -------- 298.6/377.0 MB 6.5 MB/s eta 0:00:12\n",
      "   ------------------------------- -------- 298.8/377.0 MB 6.6 MB/s eta 0:00:12\n",
      "   ------------------------------- -------- 299.2/377.0 MB 6.7 MB/s eta 0:00:12\n",
      "   ------------------------------- -------- 299.6/377.0 MB 6.7 MB/s eta 0:00:12\n",
      "   ------------------------------- -------- 299.9/377.0 MB 6.8 MB/s eta 0:00:12\n",
      "   ------------------------------- -------- 300.2/377.0 MB 6.7 MB/s eta 0:00:12\n",
      "   ------------------------------- -------- 300.5/377.0 MB 6.7 MB/s eta 0:00:12\n",
      "   ------------------------------- -------- 300.8/377.0 MB 6.7 MB/s eta 0:00:12\n",
      "   ------------------------------- -------- 301.1/377.0 MB 6.6 MB/s eta 0:00:12\n",
      "   ------------------------------- -------- 301.5/377.0 MB 6.7 MB/s eta 0:00:12\n",
      "   -------------------------------- ------- 301.8/377.0 MB 6.7 MB/s eta 0:00:12\n",
      "   -------------------------------- ------- 302.0/377.0 MB 6.5 MB/s eta 0:00:12\n",
      "   -------------------------------- ------- 302.3/377.0 MB 6.6 MB/s eta 0:00:12\n",
      "   -------------------------------- ------- 302.6/377.0 MB 6.6 MB/s eta 0:00:12\n",
      "   -------------------------------- ------- 302.9/377.0 MB 7.0 MB/s eta 0:00:11\n",
      "   -------------------------------- ------- 303.1/377.0 MB 7.0 MB/s eta 0:00:11\n",
      "   -------------------------------- ------- 303.3/377.0 MB 6.9 MB/s eta 0:00:11\n",
      "   -------------------------------- ------- 303.5/377.0 MB 6.8 MB/s eta 0:00:11\n",
      "   -------------------------------- ------- 303.7/377.0 MB 6.7 MB/s eta 0:00:11\n",
      "   -------------------------------- ------- 303.9/377.0 MB 6.6 MB/s eta 0:00:12\n",
      "   -------------------------------- ------- 304.2/377.0 MB 6.5 MB/s eta 0:00:12\n",
      "   -------------------------------- ------- 304.5/377.0 MB 6.7 MB/s eta 0:00:11\n",
      "   -------------------------------- ------- 304.8/377.0 MB 6.6 MB/s eta 0:00:11\n",
      "   -------------------------------- ------- 305.0/377.0 MB 6.5 MB/s eta 0:00:11\n",
      "   -------------------------------- ------- 305.3/377.0 MB 6.5 MB/s eta 0:00:12\n",
      "   -------------------------------- ------- 305.6/377.0 MB 6.4 MB/s eta 0:00:12\n",
      "   -------------------------------- ------- 305.8/377.0 MB 6.5 MB/s eta 0:00:11\n",
      "   -------------------------------- ------- 306.1/377.0 MB 6.4 MB/s eta 0:00:12\n",
      "   -------------------------------- ------- 306.4/377.0 MB 6.4 MB/s eta 0:00:11\n",
      "   -------------------------------- ------- 306.6/377.0 MB 6.4 MB/s eta 0:00:12\n",
      "   -------------------------------- ------- 306.9/377.0 MB 6.3 MB/s eta 0:00:12\n",
      "   -------------------------------- ------- 307.2/377.0 MB 6.2 MB/s eta 0:00:12\n",
      "   -------------------------------- ------- 307.4/377.0 MB 6.2 MB/s eta 0:00:12\n",
      "   -------------------------------- ------- 307.6/377.0 MB 6.2 MB/s eta 0:00:12\n",
      "   -------------------------------- ------- 307.8/377.0 MB 6.1 MB/s eta 0:00:12\n",
      "   -------------------------------- ------- 308.1/377.0 MB 6.1 MB/s eta 0:00:12\n",
      "   -------------------------------- ------- 308.4/377.0 MB 6.0 MB/s eta 0:00:12\n",
      "   -------------------------------- ------- 308.6/377.0 MB 6.0 MB/s eta 0:00:12\n",
      "   -------------------------------- ------- 308.9/377.0 MB 6.0 MB/s eta 0:00:12\n",
      "   -------------------------------- ------- 309.2/377.0 MB 6.0 MB/s eta 0:00:12\n",
      "   -------------------------------- ------- 309.4/377.0 MB 6.0 MB/s eta 0:00:12\n",
      "   -------------------------------- ------- 309.7/377.0 MB 5.9 MB/s eta 0:00:12\n",
      "   -------------------------------- ------- 309.9/377.0 MB 5.8 MB/s eta 0:00:12\n",
      "   -------------------------------- ------- 310.2/377.0 MB 5.8 MB/s eta 0:00:12\n",
      "   -------------------------------- ------- 310.5/377.0 MB 5.8 MB/s eta 0:00:12\n",
      "   -------------------------------- ------- 310.8/377.0 MB 5.8 MB/s eta 0:00:12\n",
      "   -------------------------------- ------- 310.9/377.0 MB 5.7 MB/s eta 0:00:12\n",
      "   --------------------------------- ------ 311.1/377.0 MB 5.7 MB/s eta 0:00:12\n",
      "   --------------------------------- ------ 311.3/377.0 MB 5.7 MB/s eta 0:00:12\n",
      "   --------------------------------- ------ 311.6/377.0 MB 5.6 MB/s eta 0:00:12\n",
      "   --------------------------------- ------ 311.8/377.0 MB 5.6 MB/s eta 0:00:12\n",
      "   --------------------------------- ------ 312.1/377.0 MB 5.6 MB/s eta 0:00:12\n",
      "   --------------------------------- ------ 312.3/377.0 MB 5.6 MB/s eta 0:00:12\n",
      "   --------------------------------- ------ 312.6/377.0 MB 5.5 MB/s eta 0:00:12\n",
      "   --------------------------------- ------ 312.9/377.0 MB 5.5 MB/s eta 0:00:12\n",
      "   --------------------------------- ------ 313.1/377.0 MB 5.6 MB/s eta 0:00:12\n",
      "   --------------------------------- ------ 313.4/377.0 MB 5.5 MB/s eta 0:00:12\n",
      "   --------------------------------- ------ 313.7/377.0 MB 5.6 MB/s eta 0:00:12\n",
      "   --------------------------------- ------ 314.0/377.0 MB 5.6 MB/s eta 0:00:12\n",
      "   --------------------------------- ------ 314.2/377.0 MB 5.6 MB/s eta 0:00:12\n",
      "   --------------------------------- ------ 314.5/377.0 MB 5.7 MB/s eta 0:00:11\n",
      "   --------------------------------- ------ 314.8/377.0 MB 5.6 MB/s eta 0:00:12\n",
      "   --------------------------------- ------ 314.9/377.0 MB 5.6 MB/s eta 0:00:11\n",
      "   --------------------------------- ------ 315.2/377.0 MB 5.6 MB/s eta 0:00:11\n",
      "   --------------------------------- ------ 315.4/377.0 MB 5.6 MB/s eta 0:00:11\n",
      "   --------------------------------- ------ 315.7/377.0 MB 5.6 MB/s eta 0:00:11\n",
      "   --------------------------------- ------ 315.9/377.0 MB 5.6 MB/s eta 0:00:11\n",
      "   --------------------------------- ------ 316.1/377.0 MB 5.5 MB/s eta 0:00:11\n",
      "   --------------------------------- ------ 316.4/377.0 MB 5.5 MB/s eta 0:00:11\n",
      "   --------------------------------- ------ 316.8/377.0 MB 5.6 MB/s eta 0:00:11\n",
      "   --------------------------------- ------ 317.0/377.0 MB 5.6 MB/s eta 0:00:11\n",
      "   --------------------------------- ------ 317.3/377.0 MB 5.6 MB/s eta 0:00:11\n",
      "   --------------------------------- ------ 317.6/377.0 MB 5.6 MB/s eta 0:00:11\n",
      "   --------------------------------- ------ 317.9/377.0 MB 5.6 MB/s eta 0:00:11\n",
      "   --------------------------------- ------ 318.2/377.0 MB 5.6 MB/s eta 0:00:11\n",
      "   --------------------------------- ------ 318.4/377.0 MB 5.6 MB/s eta 0:00:11\n",
      "   --------------------------------- ------ 318.6/377.0 MB 5.5 MB/s eta 0:00:11\n",
      "   --------------------------------- ------ 318.8/377.0 MB 5.5 MB/s eta 0:00:11\n",
      "   --------------------------------- ------ 319.2/377.0 MB 5.5 MB/s eta 0:00:11\n",
      "   --------------------------------- ------ 319.4/377.0 MB 5.5 MB/s eta 0:00:11\n",
      "   --------------------------------- ------ 319.5/377.0 MB 5.4 MB/s eta 0:00:11\n",
      "   --------------------------------- ------ 319.8/377.0 MB 5.5 MB/s eta 0:00:11\n",
      "   --------------------------------- ------ 320.1/377.0 MB 5.5 MB/s eta 0:00:11\n",
      "   --------------------------------- ------ 320.3/377.0 MB 5.5 MB/s eta 0:00:11\n",
      "   ---------------------------------- ----- 320.5/377.0 MB 5.4 MB/s eta 0:00:11\n",
      "   ---------------------------------- ----- 320.7/377.0 MB 5.4 MB/s eta 0:00:11\n",
      "   ---------------------------------- ----- 320.9/377.0 MB 5.4 MB/s eta 0:00:11\n",
      "   ---------------------------------- ----- 321.0/377.0 MB 5.3 MB/s eta 0:00:11\n",
      "   ---------------------------------- ----- 321.2/377.0 MB 5.4 MB/s eta 0:00:11\n",
      "   ---------------------------------- ----- 321.4/377.0 MB 5.3 MB/s eta 0:00:11\n",
      "   ---------------------------------- ----- 321.4/377.0 MB 5.2 MB/s eta 0:00:11\n",
      "   ---------------------------------- ----- 321.5/377.0 MB 5.1 MB/s eta 0:00:11\n",
      "   ---------------------------------- ----- 321.8/377.0 MB 5.1 MB/s eta 0:00:11\n",
      "   ---------------------------------- ----- 322.1/377.0 MB 5.2 MB/s eta 0:00:11\n",
      "   ---------------------------------- ----- 322.4/377.0 MB 5.1 MB/s eta 0:00:11\n",
      "   ---------------------------------- ----- 322.5/377.0 MB 5.1 MB/s eta 0:00:11\n",
      "   ---------------------------------- ----- 322.5/377.0 MB 5.0 MB/s eta 0:00:11\n",
      "   ---------------------------------- ----- 322.6/377.0 MB 4.9 MB/s eta 0:00:12\n",
      "   ---------------------------------- ----- 322.8/377.0 MB 4.9 MB/s eta 0:00:12\n",
      "   ---------------------------------- ----- 323.0/377.0 MB 4.8 MB/s eta 0:00:12\n",
      "   ---------------------------------- ----- 323.3/377.0 MB 4.9 MB/s eta 0:00:11\n",
      "   ---------------------------------- ----- 323.6/377.0 MB 4.8 MB/s eta 0:00:12\n",
      "   ---------------------------------- ----- 323.8/377.0 MB 4.8 MB/s eta 0:00:12\n",
      "   ---------------------------------- ----- 324.0/377.0 MB 4.8 MB/s eta 0:00:12\n",
      "   ---------------------------------- ----- 324.2/377.0 MB 4.8 MB/s eta 0:00:12\n",
      "   ---------------------------------- ----- 324.4/377.0 MB 4.7 MB/s eta 0:00:12\n",
      "   ---------------------------------- ----- 324.5/377.0 MB 4.7 MB/s eta 0:00:12\n",
      "   ---------------------------------- ----- 324.8/377.0 MB 4.7 MB/s eta 0:00:12\n",
      "   ---------------------------------- ----- 325.0/377.0 MB 4.7 MB/s eta 0:00:12\n",
      "   ---------------------------------- ----- 325.2/377.0 MB 4.7 MB/s eta 0:00:12\n",
      "   ---------------------------------- ----- 325.5/377.0 MB 4.6 MB/s eta 0:00:12\n",
      "   ---------------------------------- ----- 325.6/377.0 MB 4.6 MB/s eta 0:00:12\n",
      "   ---------------------------------- ----- 325.9/377.0 MB 4.6 MB/s eta 0:00:12\n",
      "   ---------------------------------- ----- 326.2/377.0 MB 4.6 MB/s eta 0:00:12\n",
      "   ---------------------------------- ----- 326.4/377.0 MB 4.6 MB/s eta 0:00:11\n",
      "   ---------------------------------- ----- 326.6/377.0 MB 4.6 MB/s eta 0:00:11\n",
      "   ---------------------------------- ----- 326.9/377.0 MB 4.6 MB/s eta 0:00:11\n",
      "   ---------------------------------- ----- 327.1/377.0 MB 4.6 MB/s eta 0:00:11\n",
      "   ---------------------------------- ----- 327.3/377.0 MB 4.5 MB/s eta 0:00:11\n",
      "   ---------------------------------- ----- 327.6/377.0 MB 4.5 MB/s eta 0:00:11\n",
      "   ---------------------------------- ----- 327.9/377.0 MB 4.5 MB/s eta 0:00:11\n",
      "   ---------------------------------- ----- 328.1/377.0 MB 4.5 MB/s eta 0:00:11\n",
      "   ---------------------------------- ----- 328.3/377.0 MB 4.5 MB/s eta 0:00:11\n",
      "   ---------------------------------- ----- 328.5/377.0 MB 4.5 MB/s eta 0:00:11\n",
      "   ---------------------------------- ----- 328.8/377.0 MB 4.5 MB/s eta 0:00:11\n",
      "   ---------------------------------- ----- 329.0/377.0 MB 4.5 MB/s eta 0:00:11\n",
      "   ---------------------------------- ----- 329.2/377.0 MB 4.4 MB/s eta 0:00:11\n",
      "   ---------------------------------- ----- 329.4/377.0 MB 4.5 MB/s eta 0:00:11\n",
      "   ---------------------------------- ----- 329.7/377.0 MB 4.4 MB/s eta 0:00:11\n",
      "   ----------------------------------- ---- 329.9/377.0 MB 4.5 MB/s eta 0:00:11\n",
      "   ----------------------------------- ---- 330.1/377.0 MB 4.5 MB/s eta 0:00:11\n",
      "   ----------------------------------- ---- 330.4/377.0 MB 4.4 MB/s eta 0:00:11\n",
      "   ----------------------------------- ---- 330.6/377.0 MB 4.4 MB/s eta 0:00:11\n",
      "   ----------------------------------- ---- 330.9/377.0 MB 4.5 MB/s eta 0:00:11\n",
      "   ----------------------------------- ---- 331.0/377.0 MB 4.4 MB/s eta 0:00:11\n",
      "   ----------------------------------- ---- 331.3/377.0 MB 4.5 MB/s eta 0:00:11\n",
      "   ----------------------------------- ---- 331.5/377.0 MB 4.5 MB/s eta 0:00:11\n",
      "   ----------------------------------- ---- 331.7/377.0 MB 4.5 MB/s eta 0:00:10\n",
      "   ----------------------------------- ---- 331.8/377.0 MB 4.6 MB/s eta 0:00:10\n",
      "   ----------------------------------- ---- 332.0/377.0 MB 4.6 MB/s eta 0:00:10\n",
      "   ----------------------------------- ---- 332.2/377.0 MB 4.6 MB/s eta 0:00:10\n",
      "   ----------------------------------- ---- 332.5/377.0 MB 4.6 MB/s eta 0:00:10\n",
      "   ----------------------------------- ---- 332.8/377.0 MB 4.8 MB/s eta 0:00:10\n",
      "   ----------------------------------- ---- 333.0/377.0 MB 4.8 MB/s eta 0:00:10\n",
      "   ----------------------------------- ---- 333.3/377.0 MB 4.8 MB/s eta 0:00:10\n",
      "   ----------------------------------- ---- 333.5/377.0 MB 4.8 MB/s eta 0:00:10\n",
      "   ----------------------------------- ---- 333.8/377.0 MB 4.8 MB/s eta 0:00:09\n",
      "   ----------------------------------- ---- 334.0/377.0 MB 4.9 MB/s eta 0:00:09\n",
      "   ----------------------------------- ---- 334.2/377.0 MB 4.9 MB/s eta 0:00:09\n",
      "   ----------------------------------- ---- 334.5/377.0 MB 4.9 MB/s eta 0:00:09\n",
      "   ----------------------------------- ---- 334.8/377.0 MB 5.0 MB/s eta 0:00:09\n",
      "   ----------------------------------- ---- 335.0/377.0 MB 4.9 MB/s eta 0:00:09\n",
      "   ----------------------------------- ---- 335.3/377.0 MB 5.0 MB/s eta 0:00:09\n",
      "   ----------------------------------- ---- 335.6/377.0 MB 5.0 MB/s eta 0:00:09\n",
      "   ----------------------------------- ---- 335.8/377.0 MB 5.1 MB/s eta 0:00:09\n",
      "   ----------------------------------- ---- 336.0/377.0 MB 5.0 MB/s eta 0:00:09\n",
      "   ----------------------------------- ---- 336.4/377.0 MB 5.0 MB/s eta 0:00:09\n",
      "   ----------------------------------- ---- 336.6/377.0 MB 5.0 MB/s eta 0:00:09\n",
      "   ----------------------------------- ---- 336.8/377.0 MB 5.1 MB/s eta 0:00:08\n",
      "   ----------------------------------- ---- 337.1/377.0 MB 5.0 MB/s eta 0:00:08\n",
      "   ----------------------------------- ---- 337.4/377.0 MB 5.0 MB/s eta 0:00:08\n",
      "   ----------------------------------- ---- 337.7/377.0 MB 5.1 MB/s eta 0:00:08\n",
      "   ----------------------------------- ---- 337.8/377.0 MB 5.1 MB/s eta 0:00:08\n",
      "   ----------------------------------- ---- 338.1/377.0 MB 5.0 MB/s eta 0:00:08\n",
      "   ----------------------------------- ---- 338.3/377.0 MB 5.1 MB/s eta 0:00:08\n",
      "   ----------------------------------- ---- 338.5/377.0 MB 5.1 MB/s eta 0:00:08\n",
      "   ----------------------------------- ---- 338.7/377.0 MB 5.1 MB/s eta 0:00:08\n",
      "   ----------------------------------- ---- 339.0/377.0 MB 5.0 MB/s eta 0:00:08\n",
      "   ----------------------------------- ---- 339.2/377.0 MB 5.0 MB/s eta 0:00:08\n",
      "   ------------------------------------ --- 339.5/377.0 MB 5.1 MB/s eta 0:00:08\n",
      "   ------------------------------------ --- 339.8/377.0 MB 5.1 MB/s eta 0:00:08\n",
      "   ------------------------------------ --- 340.0/377.0 MB 5.1 MB/s eta 0:00:08\n",
      "   ------------------------------------ --- 340.3/377.0 MB 5.1 MB/s eta 0:00:08\n",
      "   ------------------------------------ --- 340.6/377.0 MB 5.1 MB/s eta 0:00:08\n",
      "   ------------------------------------ --- 340.8/377.0 MB 5.1 MB/s eta 0:00:08\n",
      "   ------------------------------------ --- 341.0/377.0 MB 5.1 MB/s eta 0:00:08\n",
      "   ------------------------------------ --- 341.1/377.0 MB 5.0 MB/s eta 0:00:08\n",
      "   ------------------------------------ --- 341.3/377.0 MB 5.1 MB/s eta 0:00:08\n",
      "   ------------------------------------ --- 341.6/377.0 MB 5.0 MB/s eta 0:00:08\n",
      "   ------------------------------------ --- 341.7/377.0 MB 5.0 MB/s eta 0:00:07\n",
      "   ------------------------------------ --- 341.9/377.0 MB 5.0 MB/s eta 0:00:07\n",
      "   ------------------------------------ --- 342.3/377.0 MB 5.1 MB/s eta 0:00:07\n",
      "   ------------------------------------ --- 342.4/377.0 MB 5.1 MB/s eta 0:00:07\n",
      "   ------------------------------------ --- 342.7/377.0 MB 5.1 MB/s eta 0:00:07\n",
      "   ------------------------------------ --- 342.9/377.0 MB 5.0 MB/s eta 0:00:07\n",
      "   ------------------------------------ --- 343.2/377.0 MB 5.1 MB/s eta 0:00:07\n",
      "   ------------------------------------ --- 343.3/377.0 MB 5.0 MB/s eta 0:00:07\n",
      "   ------------------------------------ --- 343.5/377.0 MB 5.0 MB/s eta 0:00:07\n",
      "   ------------------------------------ --- 343.7/377.0 MB 5.0 MB/s eta 0:00:07\n",
      "   ------------------------------------ --- 343.9/377.0 MB 5.0 MB/s eta 0:00:07\n",
      "   ------------------------------------ --- 344.1/377.0 MB 5.0 MB/s eta 0:00:07\n",
      "   ------------------------------------ --- 344.3/377.0 MB 5.0 MB/s eta 0:00:07\n",
      "   ------------------------------------ --- 344.5/377.0 MB 4.9 MB/s eta 0:00:07\n",
      "   ------------------------------------ --- 344.7/377.0 MB 5.0 MB/s eta 0:00:07\n",
      "   ------------------------------------ --- 344.9/377.0 MB 5.0 MB/s eta 0:00:07\n",
      "   ------------------------------------ --- 345.2/377.0 MB 5.0 MB/s eta 0:00:07\n",
      "   ------------------------------------ --- 345.5/377.0 MB 5.0 MB/s eta 0:00:07\n",
      "   ------------------------------------ --- 345.7/377.0 MB 4.9 MB/s eta 0:00:07\n",
      "   ------------------------------------ --- 345.9/377.0 MB 4.9 MB/s eta 0:00:07\n",
      "   ------------------------------------ --- 346.1/377.0 MB 5.0 MB/s eta 0:00:07\n",
      "   ------------------------------------ --- 346.4/377.0 MB 4.9 MB/s eta 0:00:07\n",
      "   ------------------------------------ --- 346.6/377.0 MB 4.9 MB/s eta 0:00:07\n",
      "   ------------------------------------ --- 346.8/377.0 MB 4.9 MB/s eta 0:00:07\n",
      "   ------------------------------------ --- 347.0/377.0 MB 4.9 MB/s eta 0:00:07\n",
      "   ------------------------------------ --- 347.2/377.0 MB 4.9 MB/s eta 0:00:07\n",
      "   ------------------------------------ --- 347.4/377.0 MB 5.0 MB/s eta 0:00:06\n",
      "   ------------------------------------ --- 347.7/377.0 MB 4.9 MB/s eta 0:00:06\n",
      "   ------------------------------------ --- 347.9/377.0 MB 4.9 MB/s eta 0:00:06\n",
      "   ------------------------------------ --- 348.2/377.0 MB 5.0 MB/s eta 0:00:06\n",
      "   ------------------------------------ --- 348.5/377.0 MB 5.0 MB/s eta 0:00:06\n",
      "   ------------------------------------- -- 348.8/377.0 MB 5.0 MB/s eta 0:00:06\n",
      "   ------------------------------------- -- 349.0/377.0 MB 5.1 MB/s eta 0:00:06\n",
      "   ------------------------------------- -- 349.2/377.0 MB 5.0 MB/s eta 0:00:06\n",
      "   ------------------------------------- -- 349.3/377.0 MB 5.0 MB/s eta 0:00:06\n",
      "   ------------------------------------- -- 349.5/377.0 MB 5.0 MB/s eta 0:00:06\n",
      "   ------------------------------------- -- 349.8/377.0 MB 4.9 MB/s eta 0:00:06\n",
      "   ------------------------------------- -- 349.9/377.0 MB 4.9 MB/s eta 0:00:06\n",
      "   ------------------------------------- -- 350.2/377.0 MB 4.9 MB/s eta 0:00:06\n",
      "   ------------------------------------- -- 350.4/377.0 MB 5.0 MB/s eta 0:00:06\n",
      "   ------------------------------------- -- 350.7/377.0 MB 4.9 MB/s eta 0:00:06\n",
      "   ------------------------------------- -- 350.9/377.0 MB 4.9 MB/s eta 0:00:06\n",
      "   ------------------------------------- -- 351.2/377.0 MB 5.0 MB/s eta 0:00:06\n",
      "   ------------------------------------- -- 351.4/377.0 MB 5.0 MB/s eta 0:00:06\n",
      "   ------------------------------------- -- 351.5/377.0 MB 4.9 MB/s eta 0:00:06\n",
      "   ------------------------------------- -- 351.7/377.0 MB 4.9 MB/s eta 0:00:06\n",
      "   ------------------------------------- -- 352.0/377.0 MB 4.9 MB/s eta 0:00:06\n",
      "   ------------------------------------- -- 352.3/377.0 MB 5.0 MB/s eta 0:00:05\n",
      "   ------------------------------------- -- 352.5/377.0 MB 5.0 MB/s eta 0:00:05\n",
      "   ------------------------------------- -- 352.8/377.0 MB 5.0 MB/s eta 0:00:05\n",
      "   ------------------------------------- -- 353.0/377.0 MB 5.0 MB/s eta 0:00:05\n",
      "   ------------------------------------- -- 353.2/377.0 MB 5.0 MB/s eta 0:00:05\n",
      "   ------------------------------------- -- 353.5/377.0 MB 5.0 MB/s eta 0:00:05\n",
      "   ------------------------------------- -- 353.8/377.0 MB 5.0 MB/s eta 0:00:05\n",
      "   ------------------------------------- -- 353.9/377.0 MB 5.0 MB/s eta 0:00:05\n",
      "   ------------------------------------- -- 354.2/377.0 MB 5.0 MB/s eta 0:00:05\n",
      "   ------------------------------------- -- 354.5/377.0 MB 5.1 MB/s eta 0:00:05\n",
      "   ------------------------------------- -- 354.7/377.0 MB 5.1 MB/s eta 0:00:05\n",
      "   ------------------------------------- -- 355.0/377.0 MB 5.0 MB/s eta 0:00:05\n",
      "   ------------------------------------- -- 355.3/377.0 MB 5.1 MB/s eta 0:00:05\n",
      "   ------------------------------------- -- 355.5/377.0 MB 5.1 MB/s eta 0:00:05\n",
      "   ------------------------------------- -- 355.7/377.0 MB 5.1 MB/s eta 0:00:05\n",
      "   ------------------------------------- -- 356.0/377.0 MB 5.1 MB/s eta 0:00:05\n",
      "   ------------------------------------- -- 356.2/377.0 MB 5.1 MB/s eta 0:00:05\n",
      "   ------------------------------------- -- 356.5/377.0 MB 5.1 MB/s eta 0:00:05\n",
      "   ------------------------------------- -- 356.8/377.0 MB 5.1 MB/s eta 0:00:04\n",
      "   ------------------------------------- -- 357.0/377.0 MB 5.1 MB/s eta 0:00:04\n",
      "   ------------------------------------- -- 357.3/377.0 MB 5.1 MB/s eta 0:00:04\n",
      "   ------------------------------------- -- 357.5/377.0 MB 5.1 MB/s eta 0:00:04\n",
      "   ------------------------------------- -- 357.7/377.0 MB 5.0 MB/s eta 0:00:04\n",
      "   ------------------------------------- -- 357.9/377.0 MB 5.0 MB/s eta 0:00:04\n",
      "   ------------------------------------- -- 358.1/377.0 MB 5.0 MB/s eta 0:00:04\n",
      "   -------------------------------------- - 358.2/377.0 MB 5.0 MB/s eta 0:00:04\n",
      "   -------------------------------------- - 358.4/377.0 MB 4.9 MB/s eta 0:00:04\n",
      "   -------------------------------------- - 358.6/377.0 MB 4.9 MB/s eta 0:00:04\n",
      "   -------------------------------------- - 358.9/377.0 MB 5.0 MB/s eta 0:00:04\n",
      "   -------------------------------------- - 359.0/377.0 MB 4.9 MB/s eta 0:00:04\n",
      "   -------------------------------------- - 359.1/377.0 MB 4.9 MB/s eta 0:00:04\n",
      "   -------------------------------------- - 359.4/377.0 MB 4.9 MB/s eta 0:00:04\n",
      "   -------------------------------------- - 359.4/377.0 MB 4.8 MB/s eta 0:00:04\n",
      "   -------------------------------------- - 359.5/377.0 MB 4.7 MB/s eta 0:00:04\n",
      "   -------------------------------------- - 359.7/377.0 MB 4.7 MB/s eta 0:00:04\n",
      "   -------------------------------------- - 359.9/377.0 MB 4.7 MB/s eta 0:00:04\n",
      "   -------------------------------------- - 360.0/377.0 MB 4.7 MB/s eta 0:00:04\n",
      "   -------------------------------------- - 360.2/377.0 MB 4.7 MB/s eta 0:00:04\n",
      "   -------------------------------------- - 360.4/377.0 MB 4.6 MB/s eta 0:00:04\n",
      "   -------------------------------------- - 360.6/377.0 MB 4.6 MB/s eta 0:00:04\n",
      "   -------------------------------------- - 360.9/377.0 MB 4.6 MB/s eta 0:00:04\n",
      "   -------------------------------------- - 361.1/377.0 MB 4.7 MB/s eta 0:00:04\n",
      "   -------------------------------------- - 361.3/377.0 MB 4.6 MB/s eta 0:00:04\n",
      "   -------------------------------------- - 361.6/377.0 MB 4.6 MB/s eta 0:00:04\n",
      "   -------------------------------------- - 361.8/377.0 MB 4.7 MB/s eta 0:00:04\n",
      "   -------------------------------------- - 362.1/377.0 MB 4.7 MB/s eta 0:00:04\n",
      "   -------------------------------------- - 362.4/377.0 MB 4.7 MB/s eta 0:00:04\n",
      "   -------------------------------------- - 362.6/377.0 MB 4.7 MB/s eta 0:00:04\n",
      "   -------------------------------------- - 362.9/377.0 MB 4.7 MB/s eta 0:00:03\n",
      "   -------------------------------------- - 363.1/377.0 MB 4.7 MB/s eta 0:00:03\n",
      "   -------------------------------------- - 363.3/377.0 MB 4.7 MB/s eta 0:00:03\n",
      "   -------------------------------------- - 363.6/377.0 MB 4.7 MB/s eta 0:00:03\n",
      "   -------------------------------------- - 363.9/377.0 MB 4.7 MB/s eta 0:00:03\n",
      "   -------------------------------------- - 364.1/377.0 MB 4.8 MB/s eta 0:00:03\n",
      "   -------------------------------------- - 364.3/377.0 MB 4.7 MB/s eta 0:00:03\n",
      "   -------------------------------------- - 364.6/377.0 MB 4.7 MB/s eta 0:00:03\n",
      "   -------------------------------------- - 364.9/377.0 MB 4.7 MB/s eta 0:00:03\n",
      "   -------------------------------------- - 365.0/377.0 MB 4.7 MB/s eta 0:00:03\n",
      "   -------------------------------------- - 365.3/377.0 MB 4.7 MB/s eta 0:00:03\n",
      "   -------------------------------------- - 365.5/377.0 MB 4.7 MB/s eta 0:00:03\n",
      "   -------------------------------------- - 365.6/377.0 MB 4.6 MB/s eta 0:00:03\n",
      "   -------------------------------------- - 365.9/377.0 MB 4.6 MB/s eta 0:00:03\n",
      "   -------------------------------------- - 366.1/377.0 MB 4.6 MB/s eta 0:00:03\n",
      "   -------------------------------------- - 366.4/377.0 MB 4.6 MB/s eta 0:00:03\n",
      "   -------------------------------------- - 366.6/377.0 MB 4.6 MB/s eta 0:00:03\n",
      "   -------------------------------------- - 366.9/377.0 MB 4.7 MB/s eta 0:00:03\n",
      "   -------------------------------------- - 367.1/377.0 MB 4.6 MB/s eta 0:00:03\n",
      "   -------------------------------------- - 367.4/377.0 MB 4.6 MB/s eta 0:00:03\n",
      "   ---------------------------------------  367.7/377.0 MB 4.7 MB/s eta 0:00:02\n",
      "   ---------------------------------------  368.0/377.0 MB 4.7 MB/s eta 0:00:02\n",
      "   ---------------------------------------  368.2/377.0 MB 4.8 MB/s eta 0:00:02\n",
      "   ---------------------------------------  368.4/377.0 MB 4.8 MB/s eta 0:00:02\n",
      "   ---------------------------------------  368.6/377.0 MB 4.7 MB/s eta 0:00:02\n",
      "   ---------------------------------------  368.8/377.0 MB 4.7 MB/s eta 0:00:02\n",
      "   ---------------------------------------  369.0/377.0 MB 4.7 MB/s eta 0:00:02\n",
      "   ---------------------------------------  369.3/377.0 MB 4.9 MB/s eta 0:00:02\n",
      "   ---------------------------------------  369.6/377.0 MB 4.9 MB/s eta 0:00:02\n",
      "   ---------------------------------------  369.7/377.0 MB 5.0 MB/s eta 0:00:02\n",
      "   ---------------------------------------  369.9/377.0 MB 5.0 MB/s eta 0:00:02\n",
      "   ---------------------------------------  369.9/377.0 MB 4.9 MB/s eta 0:00:02\n",
      "   ---------------------------------------  370.2/377.0 MB 5.0 MB/s eta 0:00:02\n",
      "   ---------------------------------------  370.5/377.0 MB 5.0 MB/s eta 0:00:02\n",
      "   ---------------------------------------  370.8/377.0 MB 5.1 MB/s eta 0:00:02\n",
      "   ---------------------------------------  371.1/377.0 MB 5.1 MB/s eta 0:00:02\n",
      "   ---------------------------------------  371.2/377.0 MB 5.1 MB/s eta 0:00:02\n",
      "   ---------------------------------------  371.4/377.0 MB 5.0 MB/s eta 0:00:02\n",
      "   ---------------------------------------  371.6/377.0 MB 5.1 MB/s eta 0:00:02\n",
      "   ---------------------------------------  371.8/377.0 MB 5.0 MB/s eta 0:00:02\n",
      "   ---------------------------------------  372.0/377.0 MB 5.0 MB/s eta 0:00:01\n",
      "   ---------------------------------------  372.2/377.0 MB 5.0 MB/s eta 0:00:01\n",
      "   ---------------------------------------  372.4/377.0 MB 5.0 MB/s eta 0:00:01\n",
      "   ---------------------------------------  372.7/377.0 MB 4.9 MB/s eta 0:00:01\n",
      "   ---------------------------------------  372.9/377.0 MB 5.0 MB/s eta 0:00:01\n",
      "   ---------------------------------------  373.0/377.0 MB 4.9 MB/s eta 0:00:01\n",
      "   ---------------------------------------  373.3/377.0 MB 5.0 MB/s eta 0:00:01\n",
      "   ---------------------------------------  373.5/377.0 MB 4.9 MB/s eta 0:00:01\n",
      "   ---------------------------------------  373.8/377.0 MB 4.9 MB/s eta 0:00:01\n",
      "   ---------------------------------------  374.1/377.0 MB 5.0 MB/s eta 0:00:01\n",
      "   ---------------------------------------  374.3/377.0 MB 4.9 MB/s eta 0:00:01\n",
      "   ---------------------------------------  374.6/377.0 MB 5.0 MB/s eta 0:00:01\n",
      "   ---------------------------------------  374.8/377.0 MB 4.9 MB/s eta 0:00:01\n",
      "   ---------------------------------------  375.0/377.0 MB 5.0 MB/s eta 0:00:01\n",
      "   ---------------------------------------  375.2/377.0 MB 5.0 MB/s eta 0:00:01\n",
      "   ---------------------------------------  375.4/377.0 MB 5.0 MB/s eta 0:00:01\n",
      "   ---------------------------------------  375.6/377.0 MB 5.0 MB/s eta 0:00:01\n",
      "   ---------------------------------------  375.7/377.0 MB 5.0 MB/s eta 0:00:01\n",
      "   ---------------------------------------  376.0/377.0 MB 5.0 MB/s eta 0:00:01\n",
      "   ---------------------------------------  376.3/377.0 MB 5.0 MB/s eta 0:00:01\n",
      "   ---------------------------------------  376.5/377.0 MB 5.0 MB/s eta 0:00:01\n",
      "   ---------------------------------------  376.8/377.0 MB 5.0 MB/s eta 0:00:01\n",
      "   ---------------------------------------  377.0/377.0 MB 5.0 MB/s eta 0:00:01\n",
      "   ---------------------------------------  377.0/377.0 MB 5.0 MB/s eta 0:00:01\n",
      "   ---------------------------------------  377.0/377.0 MB 5.0 MB/s eta 0:00:01\n",
      "   ---------------------------------------  377.0/377.0 MB 5.0 MB/s eta 0:00:01\n",
      "   ---------------------------------------  377.0/377.0 MB 5.0 MB/s eta 0:00:01\n",
      "   ---------------------------------------  377.0/377.0 MB 5.0 MB/s eta 0:00:01\n",
      "   ---------------------------------------  377.0/377.0 MB 5.0 MB/s eta 0:00:01\n",
      "   ---------------------------------------  377.0/377.0 MB 5.0 MB/s eta 0:00:01\n",
      "   ---------------------------------------  377.0/377.0 MB 5.0 MB/s eta 0:00:01\n",
      "   ---------------------------------------  377.0/377.0 MB 5.0 MB/s eta 0:00:01\n",
      "   ---------------------------------------  377.0/377.0 MB 5.0 MB/s eta 0:00:01\n",
      "   ---------------------------------------- 377.0/377.0 MB 4.1 MB/s eta 0:00:00\n",
      "Using cached absl_py-2.1.0-py3-none-any.whl (133 kB)\n",
      "Using cached astunparse-1.6.3-py2.py3-none-any.whl (12 kB)\n",
      "Using cached flatbuffers-24.3.25-py2.py3-none-any.whl (26 kB)\n",
      "Using cached gast-0.5.4-py3-none-any.whl (19 kB)\n",
      "Using cached google_pasta-0.2.0-py3-none-any.whl (57 kB)\n",
      "Downloading grpcio-1.62.2-cp311-cp311-win_amd64.whl (3.8 MB)\n",
      "   ---------------------------------------- 0.0/3.8 MB ? eta -:--:--\n",
      "   -- ------------------------------------- 0.2/3.8 MB 7.4 MB/s eta 0:00:01\n",
      "   ----- ---------------------------------- 0.5/3.8 MB 6.0 MB/s eta 0:00:01\n",
      "   ------- -------------------------------- 0.7/3.8 MB 5.8 MB/s eta 0:00:01\n",
      "   ---------- ----------------------------- 1.0/3.8 MB 5.8 MB/s eta 0:00:01\n",
      "   ------------- -------------------------- 1.2/3.8 MB 6.0 MB/s eta 0:00:01\n",
      "   --------------- ------------------------ 1.4/3.8 MB 6.1 MB/s eta 0:00:01\n",
      "   --------------- ------------------------ 1.4/3.8 MB 6.1 MB/s eta 0:00:01\n",
      "   ------------------ --------------------- 1.7/3.8 MB 4.8 MB/s eta 0:00:01\n",
      "   ---------------------- ----------------- 2.1/3.8 MB 5.1 MB/s eta 0:00:01\n",
      "   ------------------------- -------------- 2.4/3.8 MB 5.2 MB/s eta 0:00:01\n",
      "   ---------------------------- ----------- 2.7/3.8 MB 5.3 MB/s eta 0:00:01\n",
      "   ------------------------------- -------- 3.0/3.8 MB 5.4 MB/s eta 0:00:01\n",
      "   ---------------------------------- ----- 3.3/3.8 MB 5.5 MB/s eta 0:00:01\n",
      "   -------------------------------------- - 3.6/3.8 MB 5.5 MB/s eta 0:00:01\n",
      "   ---------------------------------------- 3.8/3.8 MB 5.5 MB/s eta 0:00:00\n",
      "Downloading h5py-3.11.0-cp311-cp311-win_amd64.whl (3.0 MB)\n",
      "   ---------------------------------------- 0.0/3.0 MB ? eta -:--:--\n",
      "   - -------------------------------------- 0.1/3.0 MB 4.2 MB/s eta 0:00:01\n",
      "   ------ --------------------------------- 0.5/3.0 MB 4.7 MB/s eta 0:00:01\n",
      "   ---------- ----------------------------- 0.7/3.0 MB 5.9 MB/s eta 0:00:01\n",
      "   ------------- -------------------------- 1.0/3.0 MB 5.3 MB/s eta 0:00:01\n",
      "   ----------------- ---------------------- 1.3/3.0 MB 5.8 MB/s eta 0:00:01\n",
      "   -------------------- ------------------- 1.5/3.0 MB 5.8 MB/s eta 0:00:01\n",
      "   ----------------------- ---------------- 1.8/3.0 MB 5.9 MB/s eta 0:00:01\n",
      "   -------------------------- ------------- 2.0/3.0 MB 5.8 MB/s eta 0:00:01\n",
      "   ----------------------------- ---------- 2.2/3.0 MB 5.5 MB/s eta 0:00:01\n",
      "   --------------------------------- ------ 2.5/3.0 MB 5.8 MB/s eta 0:00:01\n",
      "   ------------------------------------ --- 2.8/3.0 MB 5.7 MB/s eta 0:00:01\n",
      "   ---------------------------------------- 3.0/3.0 MB 5.6 MB/s eta 0:00:00\n",
      "Downloading keras-3.3.2-py3-none-any.whl (1.1 MB)\n",
      "   ---------------------------------------- 0.0/1.1 MB ? eta -:--:--\n",
      "   -------- ------------------------------- 0.2/1.1 MB 5.0 MB/s eta 0:00:01\n",
      "   ------------------ --------------------- 0.5/1.1 MB 5.4 MB/s eta 0:00:01\n",
      "   ----------------------------- ---------- 0.8/1.1 MB 5.7 MB/s eta 0:00:01\n",
      "   ------------------------------------- -- 1.0/1.1 MB 5.1 MB/s eta 0:00:01\n",
      "   ---------------------------------------- 1.1/1.1 MB 5.4 MB/s eta 0:00:00\n",
      "Using cached libclang-18.1.1-py2.py3-none-win_amd64.whl (26.4 MB)\n",
      "Downloading ml_dtypes-0.3.2-cp311-cp311-win_amd64.whl (127 kB)\n",
      "   ---------------------------------------- 0.0/127.7 kB ? eta -:--:--\n",
      "   ---------------------------------------- 127.7/127.7 kB 7.8 MB/s eta 0:00:00\n",
      "Using cached opt_einsum-3.3.0-py3-none-any.whl (65 kB)\n",
      "Using cached tensorboard-2.16.2-py3-none-any.whl (5.5 MB)\n",
      "Downloading tensorflow_io_gcs_filesystem-0.31.0-cp311-cp311-win_amd64.whl (1.5 MB)\n",
      "   ---------------------------------------- 0.0/1.5 MB ? eta -:--:--\n",
      "   --- ------------------------------------ 0.1/1.5 MB 7.0 MB/s eta 0:00:01\n",
      "   ------------ --------------------------- 0.5/1.5 MB 5.9 MB/s eta 0:00:01\n",
      "   ------------------ --------------------- 0.7/1.5 MB 6.1 MB/s eta 0:00:01\n",
      "   ------------------------- -------------- 1.0/1.5 MB 6.0 MB/s eta 0:00:01\n",
      "   --------------------------------- ------ 1.3/1.5 MB 6.2 MB/s eta 0:00:01\n",
      "   ---------------------------------------  1.5/1.5 MB 5.9 MB/s eta 0:00:01\n",
      "   ---------------------------------------- 1.5/1.5 MB 5.9 MB/s eta 0:00:00\n",
      "Using cached termcolor-2.4.0-py3-none-any.whl (7.7 kB)\n",
      "Using cached tensorboard_data_server-0.7.2-py3-none-any.whl (2.4 kB)\n",
      "Downloading namex-0.0.8-py3-none-any.whl (5.8 kB)\n",
      "Downloading optree-0.11.0-cp311-cp311-win_amd64.whl (245 kB)\n",
      "   ---------------------------------------- 0.0/245.0 kB ? eta -:--:--\n",
      "   ---------------------------- ----------- 174.1/245.0 kB 5.3 MB/s eta 0:00:01\n",
      "   ---------------------------------------- 245.0/245.0 kB 5.0 MB/s eta 0:00:00\n",
      "Installing collected packages: namex, libclang, flatbuffers, termcolor, tensorflow-io-gcs-filesystem, tensorboard-data-server, optree, opt-einsum, ml-dtypes, h5py, grpcio, google-pasta, gast, astunparse, absl-py, tensorboard, keras, tensorflow-intel, tensorflow\n",
      "  Attempting uninstall: h5py\n",
      "    Found existing installation: h5py 3.9.0\n",
      "    Uninstalling h5py-3.9.0:\n",
      "      Successfully uninstalled h5py-3.9.0\n",
      "Successfully installed absl-py-2.1.0 astunparse-1.6.3 flatbuffers-24.3.25 gast-0.5.4 google-pasta-0.2.0 grpcio-1.62.2 h5py-3.11.0 keras-3.3.2 libclang-18.1.1 ml-dtypes-0.3.2 namex-0.0.8 opt-einsum-3.3.0 optree-0.11.0 tensorboard-2.16.2 tensorboard-data-server-0.7.2 tensorflow-2.16.1 tensorflow-intel-2.16.1 tensorflow-io-gcs-filesystem-0.31.0 termcolor-2.4.0\n",
      "Note: you may need to restart the kernel to use updated packages.\n"
     ]
    }
   ],
   "source": [
    "pip install tensorflow "
   ]
  },
  {
   "cell_type": "code",
   "execution_count": 1,
   "metadata": {
    "executionInfo": {
     "elapsed": 788,
     "status": "ok",
     "timestamp": 1703179778340,
     "user": {
      "displayName": "Sudipta Kr. Sarkar",
      "userId": "17750906442645932337"
     },
     "user_tz": -330
    },
    "id": "xlP7Na2mpVaK"
   },
   "outputs": [],
   "source": [
    "from tensorflow.keras import layers, models\n",
    "from tensorflow.keras.applications import VGG16\n",
    "from tensorflow.keras.models import Sequential\n",
    "from tensorflow.keras.layers import Dense,Flatten,Dropout\n",
    "from keras.models import Model\n",
    "import tensorflow as tf"
   ]
  },
  {
   "cell_type": "code",
   "execution_count": 2,
   "metadata": {
    "colab": {
     "base_uri": "https://localhost:8080/"
    },
    "executionInfo": {
     "elapsed": 2252,
     "status": "ok",
     "timestamp": 1703179199803,
     "user": {
      "displayName": "Sudipta Kr. Sarkar",
      "userId": "17750906442645932337"
     },
     "user_tz": -330
    },
    "id": "gu0XVEIeYfdk",
    "outputId": "0572ad91-03c9-4731-e472-eecbfc7b98d4"
   },
   "outputs": [],
   "source": [
    "base_model = VGG16(weights='imagenet',include_top=False,input_shape=(224,224,3))"
   ]
  },
  {
   "cell_type": "code",
   "execution_count": 3,
   "metadata": {},
   "outputs": [],
   "source": [
    "base_model = tf.keras.applications.VGG19(weights='imagenet', include_top=False, input_shape=(224, 224, 3))"
   ]
  },
  {
   "cell_type": "code",
   "execution_count": 4,
   "metadata": {
    "executionInfo": {
     "elapsed": 3,
     "status": "ok",
     "timestamp": 1703179239242,
     "user": {
      "displayName": "Sudipta Kr. Sarkar",
      "userId": "17750906442645932337"
     },
     "user_tz": -330
    },
    "id": "A9DJnX63ZBlb"
   },
   "outputs": [],
   "source": [
    "for layer in base_model.layers:\n",
    "  layer.trainable=False"
   ]
  },
  {
   "cell_type": "code",
   "execution_count": 5,
   "metadata": {
    "executionInfo": {
     "elapsed": 454,
     "status": "ok",
     "timestamp": 1703179852374,
     "user": {
      "displayName": "Sudipta Kr. Sarkar",
      "userId": "17750906442645932337"
     },
     "user_tz": -330
    },
    "id": "g_x0e9eVZLof"
   },
   "outputs": [],
   "source": [
    "model = Sequential()\n",
    "model.add(base_model)\n",
    "model.add(Flatten())\n",
    "model.add(Dense(512,activation='relu'))\n",
    "model.add(Dropout(0.2))\n",
    "model.add(Dense(8,activation='softmax'))\n",
    "model.compile(optimizer='adam', loss='categorical_crossentropy', metrics=['accuracy'])"
   ]
  },
  {
   "cell_type": "code",
   "execution_count": 6,
   "metadata": {
    "colab": {
     "base_uri": "https://localhost:8080/"
    },
    "executionInfo": {
     "elapsed": 522,
     "status": "ok",
     "timestamp": 1703179855450,
     "user": {
      "displayName": "Sudipta Kr. Sarkar",
      "userId": "17750906442645932337"
     },
     "user_tz": -330
    },
    "id": "USrRsM4yZaEl",
    "outputId": "21ac46cb-7c1b-4fdd-9457-3b98c271f49e"
   },
   "outputs": [
    {
     "data": {
      "text/html": [
       "<pre style=\"white-space:pre;overflow-x:auto;line-height:normal;font-family:Menlo,'DejaVu Sans Mono',consolas,'Courier New',monospace\"><span style=\"font-weight: bold\">Model: \"sequential\"</span>\n",
       "</pre>\n"
      ],
      "text/plain": [
       "\u001b[1mModel: \"sequential\"\u001b[0m\n"
      ]
     },
     "metadata": {},
     "output_type": "display_data"
    },
    {
     "data": {
      "text/html": [
       "<pre style=\"white-space:pre;overflow-x:auto;line-height:normal;font-family:Menlo,'DejaVu Sans Mono',consolas,'Courier New',monospace\">┏━━━━━━━━━━━━━━━━━━━━━━━━━━━━━━━━━┳━━━━━━━━━━━━━━━━━━━━━━━━┳━━━━━━━━━━━━━━━┓\n",
       "┃<span style=\"font-weight: bold\"> Layer (type)                    </span>┃<span style=\"font-weight: bold\"> Output Shape           </span>┃<span style=\"font-weight: bold\">       Param # </span>┃\n",
       "┡━━━━━━━━━━━━━━━━━━━━━━━━━━━━━━━━━╇━━━━━━━━━━━━━━━━━━━━━━━━╇━━━━━━━━━━━━━━━┩\n",
       "│ vgg19 (<span style=\"color: #0087ff; text-decoration-color: #0087ff\">Functional</span>)              │ ?                      │    <span style=\"color: #00af00; text-decoration-color: #00af00\">20,024,384</span> │\n",
       "├─────────────────────────────────┼────────────────────────┼───────────────┤\n",
       "│ flatten (<span style=\"color: #0087ff; text-decoration-color: #0087ff\">Flatten</span>)               │ ?                      │   <span style=\"color: #00af00; text-decoration-color: #00af00\">0</span> (unbuilt) │\n",
       "├─────────────────────────────────┼────────────────────────┼───────────────┤\n",
       "│ dense (<span style=\"color: #0087ff; text-decoration-color: #0087ff\">Dense</span>)                   │ ?                      │   <span style=\"color: #00af00; text-decoration-color: #00af00\">0</span> (unbuilt) │\n",
       "├─────────────────────────────────┼────────────────────────┼───────────────┤\n",
       "│ dropout (<span style=\"color: #0087ff; text-decoration-color: #0087ff\">Dropout</span>)               │ ?                      │   <span style=\"color: #00af00; text-decoration-color: #00af00\">0</span> (unbuilt) │\n",
       "├─────────────────────────────────┼────────────────────────┼───────────────┤\n",
       "│ dense_1 (<span style=\"color: #0087ff; text-decoration-color: #0087ff\">Dense</span>)                 │ ?                      │   <span style=\"color: #00af00; text-decoration-color: #00af00\">0</span> (unbuilt) │\n",
       "└─────────────────────────────────┴────────────────────────┴───────────────┘\n",
       "</pre>\n"
      ],
      "text/plain": [
       "┏━━━━━━━━━━━━━━━━━━━━━━━━━━━━━━━━━┳━━━━━━━━━━━━━━━━━━━━━━━━┳━━━━━━━━━━━━━━━┓\n",
       "┃\u001b[1m \u001b[0m\u001b[1mLayer (type)                   \u001b[0m\u001b[1m \u001b[0m┃\u001b[1m \u001b[0m\u001b[1mOutput Shape          \u001b[0m\u001b[1m \u001b[0m┃\u001b[1m \u001b[0m\u001b[1m      Param #\u001b[0m\u001b[1m \u001b[0m┃\n",
       "┡━━━━━━━━━━━━━━━━━━━━━━━━━━━━━━━━━╇━━━━━━━━━━━━━━━━━━━━━━━━╇━━━━━━━━━━━━━━━┩\n",
       "│ vgg19 (\u001b[38;5;33mFunctional\u001b[0m)              │ ?                      │    \u001b[38;5;34m20,024,384\u001b[0m │\n",
       "├─────────────────────────────────┼────────────────────────┼───────────────┤\n",
       "│ flatten (\u001b[38;5;33mFlatten\u001b[0m)               │ ?                      │   \u001b[38;5;34m0\u001b[0m (unbuilt) │\n",
       "├─────────────────────────────────┼────────────────────────┼───────────────┤\n",
       "│ dense (\u001b[38;5;33mDense\u001b[0m)                   │ ?                      │   \u001b[38;5;34m0\u001b[0m (unbuilt) │\n",
       "├─────────────────────────────────┼────────────────────────┼───────────────┤\n",
       "│ dropout (\u001b[38;5;33mDropout\u001b[0m)               │ ?                      │   \u001b[38;5;34m0\u001b[0m (unbuilt) │\n",
       "├─────────────────────────────────┼────────────────────────┼───────────────┤\n",
       "│ dense_1 (\u001b[38;5;33mDense\u001b[0m)                 │ ?                      │   \u001b[38;5;34m0\u001b[0m (unbuilt) │\n",
       "└─────────────────────────────────┴────────────────────────┴───────────────┘\n"
      ]
     },
     "metadata": {},
     "output_type": "display_data"
    },
    {
     "data": {
      "text/html": [
       "<pre style=\"white-space:pre;overflow-x:auto;line-height:normal;font-family:Menlo,'DejaVu Sans Mono',consolas,'Courier New',monospace\"><span style=\"font-weight: bold\"> Total params: </span><span style=\"color: #00af00; text-decoration-color: #00af00\">20,024,384</span> (76.39 MB)\n",
       "</pre>\n"
      ],
      "text/plain": [
       "\u001b[1m Total params: \u001b[0m\u001b[38;5;34m20,024,384\u001b[0m (76.39 MB)\n"
      ]
     },
     "metadata": {},
     "output_type": "display_data"
    },
    {
     "data": {
      "text/html": [
       "<pre style=\"white-space:pre;overflow-x:auto;line-height:normal;font-family:Menlo,'DejaVu Sans Mono',consolas,'Courier New',monospace\"><span style=\"font-weight: bold\"> Trainable params: </span><span style=\"color: #00af00; text-decoration-color: #00af00\">0</span> (0.00 B)\n",
       "</pre>\n"
      ],
      "text/plain": [
       "\u001b[1m Trainable params: \u001b[0m\u001b[38;5;34m0\u001b[0m (0.00 B)\n"
      ]
     },
     "metadata": {},
     "output_type": "display_data"
    },
    {
     "data": {
      "text/html": [
       "<pre style=\"white-space:pre;overflow-x:auto;line-height:normal;font-family:Menlo,'DejaVu Sans Mono',consolas,'Courier New',monospace\"><span style=\"font-weight: bold\"> Non-trainable params: </span><span style=\"color: #00af00; text-decoration-color: #00af00\">20,024,384</span> (76.39 MB)\n",
       "</pre>\n"
      ],
      "text/plain": [
       "\u001b[1m Non-trainable params: \u001b[0m\u001b[38;5;34m20,024,384\u001b[0m (76.39 MB)\n"
      ]
     },
     "metadata": {},
     "output_type": "display_data"
    }
   ],
   "source": [
    "model.summary()"
   ]
  },
  {
   "cell_type": "code",
   "execution_count": 13,
   "metadata": {
    "id": "WrkDEyPiZzeX"
   },
   "outputs": [],
   "source": [
    "from tensorflow.keras.preprocessing.image import ImageDataGenerator"
   ]
  },
  {
   "cell_type": "code",
   "execution_count": 56,
   "metadata": {},
   "outputs": [],
   "source": [
    "train_datagen = ImageDataGenerator(rescale=1./255,rotation_range=20,      # Rotate the image by up to 20 degrees\n",
    "    width_shift_range=0.1,  # Shift the image horizontally by up to 10%\n",
    "    height_shift_range=0.1, # Shift the image vertically by up to 10%\n",
    "    shear_range=0.1,        # Shear the image by up to 10%\n",
    "    zoom_range=0.1,         # Zoom in/out on the image by up to 10%\n",
    "    horizontal_flip=True,   # Flip the image horizontally\n",
    "    vertical_flip=True,     # Flip the image vertically\n",
    "    fill_mode='nearest' )\n",
    "test_datagen = ImageDataGenerator(rescale=1./255,rotation_range=20,      # Rotate the image by up to 20 degrees\n",
    "    width_shift_range=0.1,  # Shift the image horizontally by up to 10%\n",
    "    height_shift_range=0.1, # Shift the image vertically by up to 10%\n",
    "    shear_range=0.1,        # Shear the image by up to 10%\n",
    "    zoom_range=0.1,         # Zoom in/out on the image by up to 10%\n",
    "    horizontal_flip=True,   # Flip the image horizontally\n",
    "    vertical_flip=True,     # Flip the image vertically\n",
    "    fill_mode='nearest' )\n",
    "valid_datagen = ImageDataGenerator(rescale=1./255,rotation_range=20,      # Rotate the image by up to 20 degrees\n",
    "    width_shift_range=0.1,  # Shift the image horizontally by up to 10%\n",
    "    height_shift_range=0.1, # Shift the image vertically by up to 10%\n",
    "    shear_range=0.1,        # Shear the image by up to 10%\n",
    "    zoom_range=0.1,         # Zoom in/out on the image by up to 10%\n",
    "    horizontal_flip=True,   # Flip the image horizontally\n",
    "    vertical_flip=True,     # Flip the image vertically\n",
    "    fill_mode='nearest' )"
   ]
  },
  {
   "cell_type": "code",
   "execution_count": 15,
   "metadata": {},
   "outputs": [],
   "source": [
    "train_dir = \"D:/tea/train\"\n",
    "test_dir = \"D:/tea/test\"\n",
    "val_dir = \"D:/tea/val\""
   ]
  },
  {
   "cell_type": "code",
   "execution_count": 16,
   "metadata": {},
   "outputs": [
    {
     "name": "stdout",
     "output_type": "stream",
     "text": [
      "['algal leaf', 'Anthracnose', 'bird eye spot', 'brown blight', 'gray light', 'healthy', 'red leaf spot', 'white spot']\n",
      "\n",
      "\n",
      "['algal leaf', 'Anthracnose', 'bird eye spot', 'brown blight', 'gray light', 'healthy', 'red leaf spot', 'white spot']\n",
      "\n",
      "\n",
      "['algal leaf', 'Anthracnose', 'bird eye spot', 'brown blight', 'gray light', 'healthy', 'red leaf spot', 'white spot']\n"
     ]
    }
   ],
   "source": [
    "import os\n",
    "\n",
    "# List all files and directories in the current directory\n",
    "files_and_directories = os.listdir(train_dir)\n",
    "print(files_and_directories)\n",
    "print(\"\\n\")\n",
    "files_and_directories = os.listdir(test_dir)\n",
    "print(files_and_directories)\n",
    "print(\"\\n\")\n",
    "files_and_directories = os.listdir(val_dir)\n",
    "print(files_and_directories)"
   ]
  },
  {
   "cell_type": "code",
   "execution_count": 17,
   "metadata": {},
   "outputs": [
    {
     "name": "stdout",
     "output_type": "stream",
     "text": [
      "Found 734 images belonging to 8 classes.\n",
      "Found 80 images belonging to 8 classes.\n",
      "Found 80 images belonging to 8 classes.\n"
     ]
    }
   ],
   "source": [
    "train_data = train_datagen.flow_from_directory(directory=train_dir,\n",
    "                                               batch_size=32,\n",
    "                                               target_size=(224,224),\n",
    "                                               class_mode=\"categorical\",\n",
    "                                               seed=42)\n",
    "test_data = test_datagen.flow_from_directory(directory=test_dir,\n",
    "                                               batch_size=32,\n",
    "                                               target_size=(224,224),\n",
    "                                               class_mode=\"categorical\",\n",
    "                                               seed=42)\n",
    "val_data = valid_datagen.flow_from_directory(directory=val_dir,\n",
    "                                               batch_size=32,\n",
    "                                               target_size=(224,224),\n",
    "                                               class_mode=\"categorical\",\n",
    "                                               seed=42)"
   ]
  },
  {
   "cell_type": "code",
   "execution_count": 57,
   "metadata": {},
   "outputs": [
    {
     "name": "stdout",
     "output_type": "stream",
     "text": [
      "Epoch 1/10\n",
      "\u001b[1m23/23\u001b[0m \u001b[32m━━━━━━━━━━━━━━━━━━━━\u001b[0m\u001b[37m\u001b[0m \u001b[1m337s\u001b[0m 12s/step - accuracy: 0.1823 - loss: 8.6003 - val_accuracy: 0.5500 - val_loss: 1.2620\n",
      "Epoch 2/10\n",
      "\u001b[1m23/23\u001b[0m \u001b[32m━━━━━━━━━━━━━━━━━━━━\u001b[0m\u001b[37m\u001b[0m \u001b[1m284s\u001b[0m 11s/step - accuracy: 0.5938 - loss: 1.1541 - val_accuracy: 0.6125 - val_loss: 1.0464\n",
      "Epoch 3/10\n",
      "\u001b[1m23/23\u001b[0m \u001b[32m━━━━━━━━━━━━━━━━━━━━\u001b[0m\u001b[37m\u001b[0m \u001b[1m281s\u001b[0m 11s/step - accuracy: 0.7874 - loss: 0.6361 - val_accuracy: 0.7000 - val_loss: 0.8849\n",
      "Epoch 4/10\n",
      "\u001b[1m23/23\u001b[0m \u001b[32m━━━━━━━━━━━━━━━━━━━━\u001b[0m\u001b[37m\u001b[0m \u001b[1m283s\u001b[0m 11s/step - accuracy: 0.8708 - loss: 0.4110 - val_accuracy: 0.7250 - val_loss: 0.7487\n",
      "Epoch 5/10\n",
      "\u001b[1m23/23\u001b[0m \u001b[32m━━━━━━━━━━━━━━━━━━━━\u001b[0m\u001b[37m\u001b[0m \u001b[1m284s\u001b[0m 11s/step - accuracy: 0.9093 - loss: 0.3060 - val_accuracy: 0.7000 - val_loss: 0.7507\n",
      "Epoch 6/10\n",
      "\u001b[1m23/23\u001b[0m \u001b[32m━━━━━━━━━━━━━━━━━━━━\u001b[0m\u001b[37m\u001b[0m \u001b[1m280s\u001b[0m 11s/step - accuracy: 0.9185 - loss: 0.2580 - val_accuracy: 0.7375 - val_loss: 0.7154\n",
      "Epoch 7/10\n",
      "\u001b[1m23/23\u001b[0m \u001b[32m━━━━━━━━━━━━━━━━━━━━\u001b[0m\u001b[37m\u001b[0m \u001b[1m285s\u001b[0m 11s/step - accuracy: 0.9680 - loss: 0.1851 - val_accuracy: 0.7250 - val_loss: 0.6855\n",
      "Epoch 8/10\n",
      "\u001b[1m23/23\u001b[0m \u001b[32m━━━━━━━━━━━━━━━━━━━━\u001b[0m\u001b[37m\u001b[0m \u001b[1m284s\u001b[0m 11s/step - accuracy: 0.9689 - loss: 0.1605 - val_accuracy: 0.7250 - val_loss: 0.7114\n",
      "Epoch 9/10\n",
      "\u001b[1m23/23\u001b[0m \u001b[32m━━━━━━━━━━━━━━━━━━━━\u001b[0m\u001b[37m\u001b[0m \u001b[1m280s\u001b[0m 11s/step - accuracy: 0.9617 - loss: 0.1438 - val_accuracy: 0.7375 - val_loss: 0.9676\n",
      "Epoch 10/10\n",
      "\u001b[1m23/23\u001b[0m \u001b[32m━━━━━━━━━━━━━━━━━━━━\u001b[0m\u001b[37m\u001b[0m \u001b[1m287s\u001b[0m 11s/step - accuracy: 0.9666 - loss: 0.1498 - val_accuracy: 0.7500 - val_loss: 0.6967\n"
     ]
    },
    {
     "data": {
      "text/plain": [
       "<keras.src.callbacks.history.History at 0x1c0113c99d0>"
      ]
     },
     "execution_count": 57,
     "metadata": {},
     "output_type": "execute_result"
    }
   ],
   "source": [
    "# Fit the model\n",
    "model.fit(train_data,epochs=10,validation_data=val_data)            "
   ]
  },
  {
   "cell_type": "code",
   "execution_count": 30,
   "metadata": {},
   "outputs": [
    {
     "name": "stdout",
     "output_type": "stream",
     "text": [
      "\u001b[1m3/3\u001b[0m \u001b[32m━━━━━━━━━━━━━━━━━━━━\u001b[0m\u001b[37m\u001b[0m \u001b[1m25s\u001b[0m 6s/step - accuracy: 0.6547 - loss: 1.3441\n"
     ]
    },
    {
     "data": {
      "text/plain": [
       "[1.3656833171844482, 0.637499988079071]"
      ]
     },
     "execution_count": 30,
     "metadata": {},
     "output_type": "execute_result"
    }
   ],
   "source": [
    "model.evaluate(test_data) #vgg16 model evaluation"
   ]
  },
  {
   "cell_type": "code",
   "execution_count": 75,
   "metadata": {},
   "outputs": [
    {
     "name": "stdout",
     "output_type": "stream",
     "text": [
      "\u001b[1m3/3\u001b[0m \u001b[32m━━━━━━━━━━━━━━━━━━━━\u001b[0m\u001b[37m\u001b[0m \u001b[1m21s\u001b[0m 6s/step - accuracy: 0.6445 - loss: 1.1060\n"
     ]
    },
    {
     "data": {
      "text/plain": [
       "[1.181729793548584, 0.625]"
      ]
     },
     "execution_count": 75,
     "metadata": {},
     "output_type": "execute_result"
    }
   ],
   "source": [
    "model.evaluate(test_data) #vgg19 model evaluation"
   ]
  },
  {
   "cell_type": "code",
   "execution_count": 78,
   "metadata": {},
   "outputs": [
    {
     "name": "stdout",
     "output_type": "stream",
     "text": [
      "\u001b[1m3/3\u001b[0m \u001b[32m━━━━━━━━━━━━━━━━━━━━\u001b[0m\u001b[37m\u001b[0m \u001b[1m25s\u001b[0m 8s/step - accuracy: 0.6852 - loss: 1.2844\n"
     ]
    },
    {
     "data": {
      "text/plain": [
       "[1.3055274486541748, 0.675000011920929]"
      ]
     },
     "execution_count": 78,
     "metadata": {},
     "output_type": "execute_result"
    }
   ],
   "source": [
    "model.evaluate(test_data) #vgg19 model evaluation"
   ]
  },
  {
   "cell_type": "code",
   "execution_count": 58,
   "metadata": {},
   "outputs": [],
   "source": [
    "import pandas as pd\n",
    "import matplotlib.pyplot as plt \n",
    "\n",
    "history = pd.DataFrame(model.history.history)"
   ]
  },
  {
   "cell_type": "code",
   "execution_count": 59,
   "metadata": {},
   "outputs": [
    {
     "data": {
      "text/plain": [
       "<Axes: >"
      ]
     },
     "execution_count": 59,
     "metadata": {},
     "output_type": "execute_result"
    },
    {
     "data": {
      "image/png": "[encoded data removed]",
      "text/plain": [
       "<Figure size 640x480 with 1 Axes>"
      ]
     },
     "metadata": {},
     "output_type": "display_data"
    }
   ],
   "source": [
    "history.plot()"
   ]
  },
  {
   "cell_type": "code",
   "execution_count": 7,
   "metadata": {},
   "outputs": [],
   "source": [
    "from tensorflow.keras.models import load_model"
   ]
  },
  {
   "cell_type": "code",
   "execution_count": 51,
   "metadata": {},
   "outputs": [
    {
     "name": "stderr",
     "output_type": "stream",
     "text": [
      "WARNING:absl:You are saving your model as an HDF5 file via `model.save()` or `keras.saving.save_model(model)`. This file format is considered legacy. We recommend using instead the native Keras format, e.g. `model.save('my_model.keras')` or `keras.saving.save_model(model, 'my_model.keras')`. \n"
     ]
    }
   ],
   "source": [
    "model.save('tea.h5')"
   ]
  },
  {
   "cell_type": "code",
   "execution_count": 60,
   "metadata": {},
   "outputs": [
    {
     "name": "stderr",
     "output_type": "stream",
     "text": [
      "WARNING:absl:You are saving your model as an HDF5 file via `model.save()` or `keras.saving.save_model(model)`. This file format is considered legacy. We recommend using instead the native Keras format, e.g. `model.save('my_model.keras')` or `keras.saving.save_model(model, 'my_model.keras')`. \n"
     ]
    }
   ],
   "source": [
    "model.save('teavgg19_1.h5')"
   ]
  },
  {
   "cell_type": "code",
   "execution_count": 61,
   "metadata": {},
   "outputs": [
    {
     "name": "stderr",
     "output_type": "stream",
     "text": [
      "WARNING:absl:Compiled the loaded model, but the compiled metrics have yet to be built. `model.compile_metrics` will be empty until you train or evaluate the model.\n"
     ]
    }
   ],
   "source": [
    "new = load_model('teavgg19_1.h5')"
   ]
  },
  {
   "cell_type": "code",
   "execution_count": 75,
   "metadata": {},
   "outputs": [
    {
     "name": "stdout",
     "output_type": "stream",
     "text": [
      "\u001b[1m3/3\u001b[0m \u001b[32m━━━━━━━━━━━━━━━━━━━━\u001b[0m\u001b[37m\u001b[0m \u001b[1m30s\u001b[0m 7s/step - accuracy: 0.6445 - loss: 1.0424\n"
     ]
    },
    {
     "data": {
      "text/plain": [
       "[1.116626262664795, 0.625]"
      ]
     },
     "execution_count": 75,
     "metadata": {},
     "output_type": "execute_result"
    }
   ],
   "source": [
    "new.evaluate(test_data) #vgg19 model evaluation"
   ]
  },
  {
   "cell_type": "code",
   "execution_count": 69,
   "metadata": {},
   "outputs": [],
   "source": [
    "from tensorflow.keras.preprocessing import image\n",
    "\n",
    "# Load and preprocess the image\n",
    "img_path = 'D:/img.jpg'\n",
    "img = image.load_img(img_path, target_size=(224, 224))\n"
   ]
  },
  {
   "cell_type": "code",
   "execution_count": 70,
   "metadata": {},
   "outputs": [],
   "source": [
    "x = image.img_to_array(img)\n",
    "## Scaling\n",
    "x=x/255\n",
    "x = np.expand_dims(x, axis=0)"
   ]
  },
  {
   "cell_type": "code",
   "execution_count": 71,
   "metadata": {},
   "outputs": [],
   "source": [
    "def normalize_image(img):\n",
    "    # Convert image to float32\n",
    "    img = image.astype(np.float32)\n",
    "    # Normalize image by dividing each pixel value by the maximum pixel value (255)\n",
    "    normalized_image = img / 255.0\n",
    "    return normalized_image"
   ]
  },
  {
   "cell_type": "code",
   "execution_count": 72,
   "metadata": {},
   "outputs": [
    {
     "name": "stdout",
     "output_type": "stream",
     "text": [
      "\u001b[1m1/1\u001b[0m \u001b[32m━━━━━━━━━━━━━━━━━━━━\u001b[0m\u001b[37m\u001b[0m \u001b[1m0s\u001b[0m 356ms/step\n"
     ]
    }
   ],
   "source": [
    "predictions = new.predict(x)\n",
    "predicted_class_index = np.argmax(predictions[0])"
   ]
  },
  {
   "cell_type": "code",
   "execution_count": 73,
   "metadata": {},
   "outputs": [
    {
     "data": {
      "text/plain": [
       "'healthy'"
      ]
     },
     "execution_count": 73,
     "metadata": {},
     "output_type": "execute_result"
    }
   ],
   "source": [
    "files_and_directories[predicted_class_index]"
   ]
  },
  {
   "cell_type": "code",
   "execution_count": 74,
   "metadata": {},
   "outputs": [
    {
     "name": "stdout",
     "output_type": "stream",
     "text": [
      "WARNING:tensorflow:5 out of the last 11 calls to <function TensorFlowTrainer.make_predict_function.<locals>.one_step_on_data_distributed at 0x000001C0349A7740> triggered tf.function retracing. Tracing is expensive and the excessive number of tracings could be due to (1) creating @tf.function repeatedly in a loop, (2) passing tensors with different shapes, (3) passing Python objects instead of tensors. For (1), please define your @tf.function outside of the loop. For (2), @tf.function has reduce_retracing=True option that can avoid unnecessary retracing. For (3), please refer to https://www.tensorflow.org/guide/function#controlling_retracing and https://www.tensorflow.org/api_docs/python/tf/function for  more details.\n"
     ]
    },
    {
     "name": "stderr",
     "output_type": "stream",
     "text": [
      "WARNING:tensorflow:5 out of the last 11 calls to <function TensorFlowTrainer.make_predict_function.<locals>.one_step_on_data_distributed at 0x000001C0349A7740> triggered tf.function retracing. Tracing is expensive and the excessive number of tracings could be due to (1) creating @tf.function repeatedly in a loop, (2) passing tensors with different shapes, (3) passing Python objects instead of tensors. For (1), please define your @tf.function outside of the loop. For (2), @tf.function has reduce_retracing=True option that can avoid unnecessary retracing. For (3), please refer to https://www.tensorflow.org/guide/function#controlling_retracing and https://www.tensorflow.org/api_docs/python/tf/function for  more details.\n"
     ]
    },
    {
     "name": "stdout",
     "output_type": "stream",
     "text": [
      "\u001b[1m2/3\u001b[0m \u001b[32m━━━━━━━━━━━━━\u001b[0m\u001b[37m━━━━━━━\u001b[0m \u001b[1m8s\u001b[0m 9s/step  WARNING:tensorflow:5 out of the last 11 calls to <function TensorFlowTrainer.make_predict_function.<locals>.one_step_on_data_distributed at 0x000001C0349A7740> triggered tf.function retracing. Tracing is expensive and the excessive number of tracings could be due to (1) creating @tf.function repeatedly in a loop, (2) passing tensors with different shapes, (3) passing Python objects instead of tensors. For (1), please define your @tf.function outside of the loop. For (2), @tf.function has reduce_retracing=True option that can avoid unnecessary retracing. For (3), please refer to https://www.tensorflow.org/guide/function#controlling_retracing and https://www.tensorflow.org/api_docs/python/tf/function for  more details.\n"
     ]
    },
    {
     "name": "stderr",
     "output_type": "stream",
     "text": [
      "WARNING:tensorflow:5 out of the last 11 calls to <function TensorFlowTrainer.make_predict_function.<locals>.one_step_on_data_distributed at 0x000001C0349A7740> triggered tf.function retracing. Tracing is expensive and the excessive number of tracings could be due to (1) creating @tf.function repeatedly in a loop, (2) passing tensors with different shapes, (3) passing Python objects instead of tensors. For (1), please define your @tf.function outside of the loop. For (2), @tf.function has reduce_retracing=True option that can avoid unnecessary retracing. For (3), please refer to https://www.tensorflow.org/guide/function#controlling_retracing and https://www.tensorflow.org/api_docs/python/tf/function for  more details.\n"
     ]
    },
    {
     "name": "stdout",
     "output_type": "stream",
     "text": [
      "\u001b[1m3/3\u001b[0m \u001b[32m━━━━━━━━━━━━━━━━━━━━\u001b[0m\u001b[37m\u001b[0m \u001b[1m29s\u001b[0m 7s/step\n"
     ]
    }
   ],
   "source": [
    "import numpy as np\n",
    "preds = new.predict(test_data)\n",
    "preds=np.argmax(preds, axis=1)"
   ]
  },
  {
   "cell_type": "code",
   "execution_count": 19,
   "metadata": {},
   "outputs": [
    {
     "data": {
      "text/plain": [
       "array([3, 4, 2, 3, 1, 2, 4, 7, 4, 7, 4, 7, 6, 3, 6, 4, 7, 6, 5, 4, 4, 6,\n",
       "       4, 4, 3, 6, 4, 5, 7, 3, 5, 7, 6, 5, 5, 7, 6, 4, 4, 7, 7, 4, 1, 3,\n",
       "       0, 5, 0, 3, 7, 5, 4, 1, 7, 2, 2, 2, 4, 2, 4, 3, 7, 1, 3, 7, 1, 6,\n",
       "       6, 3, 4, 0, 6, 2, 2, 0, 7, 0, 6, 7, 1, 6], dtype=int64)"
      ]
     },
     "execution_count": 19,
     "metadata": {},
     "output_type": "execute_result"
    }
   ],
   "source": [
    "preds"
   ]
  },
  {
   "cell_type": "code",
   "execution_count": 20,
   "metadata": {},
   "outputs": [
    {
     "name": "stdout",
     "output_type": "stream",
     "text": [
      "Predicted labels: ['brown blight', 'gray light', 'bird eye spot', 'brown blight', 'Anthracnose', 'bird eye spot', 'gray light', 'white spot', 'gray light', 'white spot', 'gray light', 'white spot', 'red leaf spot', 'brown blight', 'red leaf spot', 'gray light', 'white spot', 'red leaf spot', 'healthy', 'gray light', 'gray light', 'red leaf spot', 'gray light', 'gray light', 'brown blight', 'red leaf spot', 'gray light', 'healthy', 'white spot', 'brown blight', 'healthy', 'white spot', 'red leaf spot', 'healthy', 'healthy', 'white spot', 'red leaf spot', 'gray light', 'gray light', 'white spot', 'white spot', 'gray light', 'Anthracnose', 'brown blight', 'algal leaf', 'healthy', 'algal leaf', 'brown blight', 'white spot', 'healthy', 'gray light', 'Anthracnose', 'white spot', 'bird eye spot', 'bird eye spot', 'bird eye spot', 'gray light', 'bird eye spot', 'gray light', 'brown blight', 'white spot', 'Anthracnose', 'brown blight', 'white spot', 'Anthracnose', 'red leaf spot', 'red leaf spot', 'brown blight', 'gray light', 'algal leaf', 'red leaf spot', 'bird eye spot', 'bird eye spot', 'algal leaf', 'white spot', 'algal leaf', 'red leaf spot', 'white spot', 'Anthracnose', 'red leaf spot']\n"
     ]
    }
   ],
   "source": [
    "class_labels = ['algal leaf', 'Anthracnose', 'bird eye spot', 'brown blight', 'gray light', 'healthy', 'red leaf spot', 'white spot']\n",
    "predicted_labels = [class_labels[i] for i in preds]\n",
    "print('Predicted labels:', predicted_labels)"
   ]
  },
  {
   "cell_type": "code",
   "execution_count": null,
   "metadata": {},
   "outputs": [],
   "source": []
  }
 ],
 "metadata": {
  "accelerator": "GPU",
  "colab": {
   "gpuType": "T4",
   "provenance": []
  },
  "kernelspec": {
   "display_name": "Python 3 (ipykernel)",
   "language": "python",
   "name": "python3"
  },
  "language_info": {
   "codemirror_mode": {
    "name": "ipython",
    "version": 3
   },
   "file_extension": ".py",
   "mimetype": "text/x-python",
   "name": "python",
   "nbconvert_exporter": "python",
   "pygments_lexer": "ipython3",
   "version": "3.11.7"
  }
 },
 "nbformat": 4,
 "nbformat_minor": 4
}
